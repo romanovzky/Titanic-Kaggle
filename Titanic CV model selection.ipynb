{
 "cells": [
  {
   "cell_type": "markdown",
   "metadata": {},
   "source": [
    "# Packages and Data Imports"
   ]
  },
  {
   "cell_type": "code",
   "execution_count": 1,
   "metadata": {
    "ExecuteTime": {
     "end_time": "2018-03-04T11:31:11.923261Z",
     "start_time": "2018-03-04T11:31:11.508098Z"
    },
    "scrolled": false
   },
   "outputs": [],
   "source": [
    "import warnings\n",
    "warnings.filterwarnings('ignore')\n",
    "\n",
    "import pandas as pd\n",
    "import numpy as np\n",
    "#import matplotlib.pyplot as plt\n",
    "#import seaborn as sns\n",
    "#%matplotlib inline\n",
    "\n",
    "#Stats and other tools\n",
    "from sklearn import metrics\n",
    "from sklearn.model_selection import GridSearchCV\n",
    "from sklearn.preprocessing import PolynomialFeatures\n",
    "from sklearn.pipeline import Pipeline\n",
    "\n",
    "\n",
    "#Models we will test and try\n",
    "from sklearn.linear_model import LogisticRegression\n",
    "from sklearn.ensemble import RandomForestClassifier, GradientBoostingClassifier, AdaBoostClassifier\n",
    "from sklearn.neighbors import KNeighborsClassifier\n",
    "from sklearn import svm\n",
    "\n",
    "cv_k_global = 10 #the amount of f_folds to be used in all CV\n",
    "\n",
    "\n",
    "# train_full= pd.read_csv('train.csv')\n",
    "# train_full.set_index('PassengerId',inplace=True)\n",
    "\n",
    "# quantitative = [f for f in train_full.columns if train_full.dtypes[f] != 'object']\n",
    "# quantitative.remove('Survived')#Survived is target label\n",
    "# #quantitative.remove('PassengerId')#PassengerId will be turned into index\n",
    "# qualitative = [f for f in train_full.columns if train_full.dtypes[f] == 'object']\n",
    "\n",
    "datasets=['1','2','deck_pred_1','deck_pred_2']"
   ]
  },
  {
   "cell_type": "markdown",
   "metadata": {},
   "source": [
    "# Cross-validated hyper-parameter searches"
   ]
  },
  {
   "cell_type": "markdown",
   "metadata": {},
   "source": [
    "## Logistic Regression"
   ]
  },
  {
   "cell_type": "code",
   "execution_count": 5,
   "metadata": {
    "ExecuteTime": {
     "end_time": "2018-03-04T11:33:52.505565Z",
     "start_time": "2018-03-04T11:33:41.544998Z"
    },
    "scrolled": false
   },
   "outputs": [
    {
     "name": "stdout",
     "output_type": "stream",
     "text": [
      "Grid-Searching for Data-Set 1\n",
      "Fitting 10 folds for each of 35 candidates, totalling 350 fits\n",
      "Grid-Searching for Data-Set 2\n",
      "Fitting 10 folds for each of 35 candidates, totalling 350 fits\n"
     ]
    },
    {
     "name": "stderr",
     "output_type": "stream",
     "text": [
      "[Parallel(n_jobs=-1)]: Done 350 out of 350 | elapsed:    1.5s finished\n"
     ]
    },
    {
     "name": "stdout",
     "output_type": "stream",
     "text": [
      "Grid-Searching for Data-Set deck_pred_1\n",
      "Fitting 10 folds for each of 35 candidates, totalling 350 fits\n"
     ]
    },
    {
     "name": "stderr",
     "output_type": "stream",
     "text": [
      "[Parallel(n_jobs=-1)]: Done 350 out of 350 | elapsed:    3.5s finished\n",
      "[Parallel(n_jobs=-1)]: Done  18 tasks      | elapsed:    0.2s\n"
     ]
    },
    {
     "name": "stdout",
     "output_type": "stream",
     "text": [
      "Grid-Searching for Data-Set deck_pred_2\n",
      "Fitting 10 folds for each of 35 candidates, totalling 350 fits\n"
     ]
    },
    {
     "name": "stderr",
     "output_type": "stream",
     "text": [
      "[Parallel(n_jobs=-1)]: Done 350 out of 350 | elapsed:    1.5s finished\n",
      "[Parallel(n_jobs=-1)]: Done 350 out of 350 | elapsed:    3.6s finished\n"
     ]
    }
   ],
   "source": [
    "for dataset in datasets:\n",
    "    print('Grid-Searching for Data-Set '+dataset)\n",
    "    if('deck_pred' not in dataset):\n",
    "        data=pd.read_csv('./data_train_'+dataset+'.csv',index_col='PassengerId').drop(['Missing_Embark','Missing_Deck'],axis=1)\n",
    "    if('deck_pred' in dataset):\n",
    "        data=pd.read_csv('./data_train_'+dataset+'.csv',index_col='PassengerId').drop(['Missing_Embark'],axis=1)\n",
    "    X=data.drop('Survived',axis=1).as_matrix()\n",
    "    Y=data['Survived'].as_matrix()\n",
    "    logmodel = LogisticRegression()\n",
    "    param_grid = [{\n",
    "        'C': [10**x for x in range(-3,4)],\n",
    "        'penalty':['l1'],\n",
    "        'solver' :['liblinear','saga']},{\n",
    "        'C': [10**x for x in range(-3,4)],\n",
    "        'penalty':['l2'],\n",
    "        'solver':['newton-cg','lbfgs','sag']}]\n",
    "    gscv=GridSearchCV(logmodel,param_grid,scoring='accuracy',cv=cv_k_global,n_jobs=-1,verbose=1)\n",
    "    gscv.fit(X,Y)\n",
    "    results_df=pd.DataFrame(gscv.cv_results_)\n",
    "    results_df.to_csv('./CV_LR_'+dataset+'.csv')"
   ]
  },
  {
   "cell_type": "markdown",
   "metadata": {},
   "source": [
    "## LR With polinomial features"
   ]
  },
  {
   "cell_type": "code",
   "execution_count": 6,
   "metadata": {
    "ExecuteTime": {
     "end_time": "2018-03-04T12:24:22.970874Z",
     "start_time": "2018-03-04T11:34:04.008395Z"
    },
    "scrolled": true
   },
   "outputs": [
    {
     "name": "stdout",
     "output_type": "stream",
     "text": [
      "Grid-Searching for Data-Set 1\n",
      "Fitting 10 folds for each of 70 candidates, totalling 700 fits\n"
     ]
    },
    {
     "name": "stderr",
     "output_type": "stream",
     "text": [
      "[Parallel(n_jobs=-1)]: Done  18 tasks      | elapsed:    0.2s\n",
      "[Parallel(n_jobs=-1)]: Done 700 out of 700 | elapsed:  3.5min finished\n"
     ]
    },
    {
     "name": "stdout",
     "output_type": "stream",
     "text": [
      "Grid-Searching for Data-Set 2\n",
      "Fitting 10 folds for each of 70 candidates, totalling 700 fits\n"
     ]
    },
    {
     "name": "stderr",
     "output_type": "stream",
     "text": [
      "[Parallel(n_jobs=-1)]: Done  18 tasks      | elapsed:    0.2s\n",
      "[Parallel(n_jobs=-1)]: Done 450 tasks      | elapsed:  1.6min\n",
      "[Parallel(n_jobs=-1)]: Done 669 out of 700 | elapsed: 15.0min remaining:   41.8s\n",
      "[Parallel(n_jobs=-1)]: Done 700 out of 700 | elapsed: 18.2min finished\n"
     ]
    },
    {
     "name": "stdout",
     "output_type": "stream",
     "text": [
      "Grid-Searching for Data-Set deck_pred_1\n",
      "Fitting 10 folds for each of 70 candidates, totalling 700 fits\n"
     ]
    },
    {
     "name": "stderr",
     "output_type": "stream",
     "text": [
      "[Parallel(n_jobs=-1)]: Done  18 tasks      | elapsed:    0.2s\n"
     ]
    },
    {
     "name": "stdout",
     "output_type": "stream",
     "text": [
      "Grid-Searching for Data-Set deck_pred_2\n",
      "Fitting 10 folds for each of 70 candidates, totalling 700 fits\n"
     ]
    },
    {
     "name": "stderr",
     "output_type": "stream",
     "text": [
      "[Parallel(n_jobs=-1)]: Done 700 out of 700 | elapsed:  4.0min finished\n",
      "[Parallel(n_jobs=-1)]: Done  18 tasks      | elapsed:    0.2s\n",
      "[Parallel(n_jobs=-1)]: Done 370 tasks      | elapsed:  1.3min\n",
      "[Parallel(n_jobs=-1)]: Done 642 tasks      | elapsed: 10.6min\n",
      "[Parallel(n_jobs=-1)]: Done 669 out of 700 | elapsed: 18.1min remaining:   50.3s\n",
      "[Parallel(n_jobs=-1)]: Done 700 out of 700 | elapsed: 24.6min finished\n"
     ]
    }
   ],
   "source": [
    "for dataset in datasets:\n",
    "    print('Grid-Searching for Data-Set '+dataset)\n",
    "    if('deck_pred' not in dataset):\n",
    "        data=pd.read_csv('./data_train_'+dataset+'.csv',index_col='PassengerId').drop(['Missing_Embark','Missing_Deck'],axis=1)\n",
    "    if('deck_pred' in dataset):\n",
    "        data=pd.read_csv('./data_train_'+dataset+'.csv',index_col='PassengerId').drop(['Missing_Embark'],axis=1)\n",
    "    X=data.drop('Survived',axis=1).as_matrix()\n",
    "    Y=data['Survived'].as_matrix()\n",
    "    estimators = [('AddPoly',PolynomialFeatures()),('LR',LogisticRegression())]\n",
    "    quartic_log_reg = Pipeline(estimators)\n",
    "    param_grid = [{\n",
    "        'AddPoly__degree':[2,3],\n",
    "        'LR__C': [10**x for x in range(-3,4)],\n",
    "        'LR__penalty':['l1'],\n",
    "        'LR__solver' :['liblinear','saga']\n",
    "        },{\n",
    "        'AddPoly__degree':[2,3],\n",
    "        'LR__C': [10**x for x in range(-3,4)],\n",
    "        'LR__penalty':['l2'],\n",
    "        'LR__solver' :['newton-cg','lbfgs','sag']\n",
    "        }]\n",
    "    gscv=GridSearchCV(quartic_log_reg,param_grid,scoring='accuracy',cv=cv_k_global,verbose=1,n_jobs=-1)\n",
    "    gscv.fit(X,Y)\n",
    "    results_df=pd.DataFrame(gscv.cv_results_)\n",
    "    results_df.to_csv('./CV_LR_X_'+dataset+'.csv')"
   ]
  },
  {
   "cell_type": "markdown",
   "metadata": {},
   "source": [
    "## AdaBC"
   ]
  },
  {
   "cell_type": "code",
   "execution_count": 7,
   "metadata": {
    "ExecuteTime": {
     "end_time": "2018-03-04T12:28:46.115125Z",
     "start_time": "2018-03-04T12:25:21.117617Z"
    },
    "scrolled": true
   },
   "outputs": [
    {
     "name": "stdout",
     "output_type": "stream",
     "text": [
      "Grid-Searching for Data-Set 1\n",
      "Fitting 10 folds for each of 360 candidates, totalling 3600 fits\n"
     ]
    },
    {
     "name": "stderr",
     "output_type": "stream",
     "text": [
      "[Parallel(n_jobs=-1)]: Done  18 tasks      | elapsed:    0.1s\n",
      "[Parallel(n_jobs=-1)]: Done 862 tasks      | elapsed:   11.0s\n",
      "[Parallel(n_jobs=-1)]: Done 1118 tasks      | elapsed:   14.5s\n",
      "[Parallel(n_jobs=-1)]: Done 1468 tasks      | elapsed:   19.0s\n",
      "[Parallel(n_jobs=-1)]: Done 2182 tasks      | elapsed:   29.3s\n",
      "[Parallel(n_jobs=-1)]: Done 3282 tasks      | elapsed:   44.5s\n"
     ]
    },
    {
     "name": "stdout",
     "output_type": "stream",
     "text": [
      "Grid-Searching for Data-Set 2\n",
      "Fitting 10 folds for each of 360 candidates, totalling 3600 fits\n"
     ]
    },
    {
     "name": "stderr",
     "output_type": "stream",
     "text": [
      "[Parallel(n_jobs=-1)]: Done 3600 out of 3600 | elapsed:   49.7s finished\n",
      "[Parallel(n_jobs=-1)]: Done  18 tasks      | elapsed:    0.1s\n",
      "[Parallel(n_jobs=-1)]: Done 905 tasks      | elapsed:   12.2s\n",
      "[Parallel(n_jobs=-1)]: Done 1655 tasks      | elapsed:   22.3s\n",
      "[Parallel(n_jobs=-1)]: Done 2705 tasks      | elapsed:   38.0s\n",
      "[Parallel(n_jobs=-1)]: Done 3569 out of 3600 | elapsed:   51.8s remaining:    0.4s\n"
     ]
    },
    {
     "name": "stdout",
     "output_type": "stream",
     "text": [
      "Grid-Searching for Data-Set deck_pred_1\n",
      "Fitting 10 folds for each of 360 candidates, totalling 3600 fits\n"
     ]
    },
    {
     "name": "stderr",
     "output_type": "stream",
     "text": [
      "[Parallel(n_jobs=-1)]: Done 3600 out of 3600 | elapsed:   52.4s finished\n",
      "[Parallel(n_jobs=-1)]: Done  18 tasks      | elapsed:    0.1s\n",
      "[Parallel(n_jobs=-1)]: Done 730 tasks      | elapsed:    9.1s\n",
      "[Parallel(n_jobs=-1)]: Done 1230 tasks      | elapsed:   15.5s\n",
      "[Parallel(n_jobs=-1)]: Done 1930 tasks      | elapsed:   24.5s\n",
      "[Parallel(n_jobs=-1)]: Done 2830 tasks      | elapsed:   37.7s\n",
      "[Parallel(n_jobs=-1)]: Done 3600 out of 3600 | elapsed:   49.1s finished\n"
     ]
    },
    {
     "name": "stdout",
     "output_type": "stream",
     "text": [
      "Grid-Searching for Data-Set deck_pred_2\n",
      "Fitting 10 folds for each of 360 candidates, totalling 3600 fits\n"
     ]
    },
    {
     "name": "stderr",
     "output_type": "stream",
     "text": [
      "[Parallel(n_jobs=-1)]: Done  18 tasks      | elapsed:    0.1s\n",
      "[Parallel(n_jobs=-1)]: Done 676 tasks      | elapsed:    9.0s\n",
      "[Parallel(n_jobs=-1)]: Done 926 tasks      | elapsed:   12.4s\n",
      "[Parallel(n_jobs=-1)]: Done 1276 tasks      | elapsed:   17.1s\n",
      "[Parallel(n_jobs=-1)]: Done 1726 tasks      | elapsed:   23.2s\n",
      "[Parallel(n_jobs=-1)]: Done 2276 tasks      | elapsed:   31.5s\n",
      "[Parallel(n_jobs=-1)]: Done 2926 tasks      | elapsed:   41.6s\n",
      "[Parallel(n_jobs=-1)]: Done 3600 out of 3600 | elapsed:   52.7s finished\n"
     ]
    }
   ],
   "source": [
    "for dataset in datasets:\n",
    "    print('Grid-Searching for Data-Set '+dataset)\n",
    "    if('deck_pred' not in dataset):\n",
    "        data=pd.read_csv('./data_train_'+dataset+'.csv',index_col='PassengerId').drop(['Missing_Embark','Missing_Deck'],axis=1)\n",
    "    if('deck_pred' in dataset):\n",
    "        data=pd.read_csv('./data_train_'+dataset+'.csv',index_col='PassengerId').drop(['Missing_Embark'],axis=1)\n",
    "    X=data.drop('Survived',axis=1).as_matrix()\n",
    "    Y=data['Survived'].as_matrix()\n",
    "    classif_ABC = AdaBoostClassifier()\n",
    "    param_grid ={'n_estimators':[10*x for x in range(1,21)],\n",
    "             'learning_rate':[10**x for x in range(-4,5)],\n",
    "             'algorithm':['SAMME','SAMME.R']}\n",
    "    gscv=GridSearchCV(classif_ABC,param_grid,scoring='accuracy',cv=cv_k_global,n_jobs=-1,verbose=1)\n",
    "    gscv.fit(X,Y)\n",
    "    results_df=pd.DataFrame(gscv.cv_results_)\n",
    "    results_df.to_csv('./CV_ABC_'+dataset+'.csv')"
   ]
  },
  {
   "cell_type": "markdown",
   "metadata": {},
   "source": [
    "## GBC"
   ]
  },
  {
   "cell_type": "code",
   "execution_count": 8,
   "metadata": {
    "ExecuteTime": {
     "end_time": "2018-03-04T14:47:42.619710Z",
     "start_time": "2018-03-04T12:29:00.461442Z"
    },
    "scrolled": true
   },
   "outputs": [
    {
     "name": "stdout",
     "output_type": "stream",
     "text": [
      "Grid-Searching for Data-Set 1\n",
      "Fitting 10 folds for each of 28800 candidates, totalling 288000 fits\n"
     ]
    },
    {
     "name": "stderr",
     "output_type": "stream",
     "text": [
      "[Parallel(n_jobs=-1)]: Done  18 tasks      | elapsed:    0.2s\n",
      "[Parallel(n_jobs=-1)]: Done 1500 tasks      | elapsed:   10.0s\n",
      "[Parallel(n_jobs=-1)]: Done 2500 tasks      | elapsed:   17.6s\n",
      "[Parallel(n_jobs=-1)]: Done 3900 tasks      | elapsed:   28.0s\n",
      "[Parallel(n_jobs=-1)]: Done 5700 tasks      | elapsed:   38.3s\n",
      "[Parallel(n_jobs=-1)]: Done 7900 tasks      | elapsed:   56.0s\n",
      "[Parallel(n_jobs=-1)]: Done 10434 tasks      | elapsed:  1.2min\n",
      "[Parallel(n_jobs=-1)]: Done 13434 tasks      | elapsed:  1.6min\n",
      "[Parallel(n_jobs=-1)]: Done 16834 tasks      | elapsed:  2.0min\n",
      "[Parallel(n_jobs=-1)]: Done 20634 tasks      | elapsed:  2.4min\n",
      "[Parallel(n_jobs=-1)]: Done 24834 tasks      | elapsed:  3.0min\n",
      "[Parallel(n_jobs=-1)]: Done 29386 tasks      | elapsed:  3.5min\n",
      "[Parallel(n_jobs=-1)]: Done 34386 tasks      | elapsed:  4.2min\n",
      "[Parallel(n_jobs=-1)]: Done 39786 tasks      | elapsed:  4.8min\n",
      "[Parallel(n_jobs=-1)]: Done 45586 tasks      | elapsed:  5.5min\n",
      "[Parallel(n_jobs=-1)]: Done 51786 tasks      | elapsed:  6.3min\n",
      "[Parallel(n_jobs=-1)]: Done 58386 tasks      | elapsed:  7.1min\n",
      "[Parallel(n_jobs=-1)]: Done 65386 tasks      | elapsed:  7.9min\n",
      "[Parallel(n_jobs=-1)]: Done 72786 tasks      | elapsed:  8.7min\n",
      "[Parallel(n_jobs=-1)]: Done 80586 tasks      | elapsed:  9.7min\n",
      "[Parallel(n_jobs=-1)]: Done 88786 tasks      | elapsed: 10.6min\n",
      "[Parallel(n_jobs=-1)]: Done 97386 tasks      | elapsed: 11.7min\n",
      "[Parallel(n_jobs=-1)]: Done 106386 tasks      | elapsed: 12.7min\n",
      "[Parallel(n_jobs=-1)]: Done 115786 tasks      | elapsed: 13.7min\n",
      "[Parallel(n_jobs=-1)]: Done 130118 tasks      | elapsed: 15.0min\n",
      "[Parallel(n_jobs=-1)]: Done 142314 tasks      | elapsed: 16.1min\n",
      "[Parallel(n_jobs=-1)]: Done 154418 tasks      | elapsed: 17.4min\n",
      "[Parallel(n_jobs=-1)]: Done 165352 tasks      | elapsed: 18.7min\n",
      "[Parallel(n_jobs=-1)]: Done 176622 tasks      | elapsed: 20.1min\n",
      "[Parallel(n_jobs=-1)]: Done 188422 tasks      | elapsed: 21.6min\n",
      "[Parallel(n_jobs=-1)]: Done 200622 tasks      | elapsed: 23.0min\n",
      "[Parallel(n_jobs=-1)]: Done 213160 tasks      | elapsed: 24.5min\n",
      "[Parallel(n_jobs=-1)]: Done 226160 tasks      | elapsed: 26.1min\n",
      "[Parallel(n_jobs=-1)]: Done 239560 tasks      | elapsed: 27.7min\n",
      "[Parallel(n_jobs=-1)]: Done 253360 tasks      | elapsed: 29.2min\n",
      "[Parallel(n_jobs=-1)]: Done 268948 tasks      | elapsed: 30.8min\n",
      "[Parallel(n_jobs=-1)]: Done 288000 out of 288000 | elapsed: 32.4min finished\n"
     ]
    },
    {
     "name": "stdout",
     "output_type": "stream",
     "text": [
      "Grid-Searching for Data-Set 2\n",
      "Fitting 10 folds for each of 28800 candidates, totalling 288000 fits\n"
     ]
    },
    {
     "name": "stderr",
     "output_type": "stream",
     "text": [
      "[Parallel(n_jobs=-1)]: Done  18 tasks      | elapsed:    0.2s\n",
      "[Parallel(n_jobs=-1)]: Done 1455 tasks      | elapsed:   10.9s\n",
      "[Parallel(n_jobs=-1)]: Done 1955 tasks      | elapsed:   18.8s\n",
      "[Parallel(n_jobs=-1)]: Done 3913 tasks      | elapsed:   31.3s\n",
      "[Parallel(n_jobs=-1)]: Done 5713 tasks      | elapsed:   41.7s\n",
      "[Parallel(n_jobs=-1)]: Done 7887 tasks      | elapsed:  1.0min\n",
      "[Parallel(n_jobs=-1)]: Done 9998 tasks      | elapsed:  1.4min\n",
      "[Parallel(n_jobs=-1)]: Done 13689 tasks      | elapsed:  1.8min\n",
      "[Parallel(n_jobs=-1)]: Done 16812 tasks      | elapsed:  2.2min\n",
      "[Parallel(n_jobs=-1)]: Done 20703 tasks      | elapsed:  2.7min\n",
      "[Parallel(n_jobs=-1)]: Done 25032 tasks      | elapsed:  3.3min\n",
      "[Parallel(n_jobs=-1)]: Done 28806 tasks      | elapsed:  3.8min\n",
      "[Parallel(n_jobs=-1)]: Done 33045 tasks      | elapsed:  4.5min\n",
      "[Parallel(n_jobs=-1)]: Done 39240 tasks      | elapsed:  5.3min\n",
      "[Parallel(n_jobs=-1)]: Done 43650 tasks      | elapsed:  5.9min\n",
      "[Parallel(n_jobs=-1)]: Done 49662 tasks      | elapsed:  6.8min\n",
      "[Parallel(n_jobs=-1)]: Done 56910 tasks      | elapsed:  7.7min\n",
      "[Parallel(n_jobs=-1)]: Done 63525 tasks      | elapsed:  8.6min\n",
      "[Parallel(n_jobs=-1)]: Done 71298 tasks      | elapsed:  9.5min\n",
      "[Parallel(n_jobs=-1)]: Done 79296 tasks      | elapsed: 10.6min\n",
      "[Parallel(n_jobs=-1)]: Done 87726 tasks      | elapsed: 11.8min\n",
      "[Parallel(n_jobs=-1)]: Done 95559 tasks      | elapsed: 12.8min\n",
      "[Parallel(n_jobs=-1)]: Done 104559 tasks      | elapsed: 14.0min\n",
      "[Parallel(n_jobs=-1)]: Done 115353 tasks      | elapsed: 15.3min\n",
      "[Parallel(n_jobs=-1)]: Done 128697 tasks      | elapsed: 16.5min\n",
      "[Parallel(n_jobs=-1)]: Done 141696 tasks      | elapsed: 17.9min\n",
      "[Parallel(n_jobs=-1)]: Done 153102 tasks      | elapsed: 19.2min\n",
      "[Parallel(n_jobs=-1)]: Done 162933 tasks      | elapsed: 20.6min\n",
      "[Parallel(n_jobs=-1)]: Done 174195 tasks      | elapsed: 22.1min\n",
      "[Parallel(n_jobs=-1)]: Done 184479 tasks      | elapsed: 23.6min\n",
      "[Parallel(n_jobs=-1)]: Done 195645 tasks      | elapsed: 25.1min\n",
      "[Parallel(n_jobs=-1)]: Done 208299 tasks      | elapsed: 26.9min\n",
      "[Parallel(n_jobs=-1)]: Done 219913 tasks      | elapsed: 28.4min\n",
      "[Parallel(n_jobs=-1)]: Done 233482 tasks      | elapsed: 30.3min\n",
      "[Parallel(n_jobs=-1)]: Done 247741 tasks      | elapsed: 32.1min\n",
      "[Parallel(n_jobs=-1)]: Done 263368 tasks      | elapsed: 34.0min\n",
      "[Parallel(n_jobs=-1)]: Done 280459 tasks      | elapsed: 35.8min\n",
      "[Parallel(n_jobs=-1)]: Done 288000 out of 288000 | elapsed: 36.3min finished\n"
     ]
    },
    {
     "name": "stdout",
     "output_type": "stream",
     "text": [
      "Grid-Searching for Data-Set deck_pred_1\n",
      "Fitting 10 folds for each of 28800 candidates, totalling 288000 fits\n"
     ]
    },
    {
     "name": "stderr",
     "output_type": "stream",
     "text": [
      "[Parallel(n_jobs=-1)]: Done  18 tasks      | elapsed:    0.2s\n",
      "[Parallel(n_jobs=-1)]: Done 1340 tasks      | elapsed:    8.1s\n",
      "[Parallel(n_jobs=-1)]: Done 2090 tasks      | elapsed:   16.5s\n",
      "[Parallel(n_jobs=-1)]: Done 3971 tasks      | elapsed:   28.8s\n",
      "[Parallel(n_jobs=-1)]: Done 6224 tasks      | elapsed:   41.9s\n",
      "[Parallel(n_jobs=-1)]: Done 8543 tasks      | elapsed:   59.4s\n",
      "[Parallel(n_jobs=-1)]: Done 10676 tasks      | elapsed:  1.3min\n",
      "[Parallel(n_jobs=-1)]: Done 14411 tasks      | elapsed:  1.7min\n",
      "[Parallel(n_jobs=-1)]: Done 18173 tasks      | elapsed:  2.3min\n",
      "[Parallel(n_jobs=-1)]: Done 23084 tasks      | elapsed:  2.8min\n",
      "[Parallel(n_jobs=-1)]: Done 27074 tasks      | elapsed:  3.3min\n",
      "[Parallel(n_jobs=-1)]: Done 31922 tasks      | elapsed:  4.0min\n",
      "[Parallel(n_jobs=-1)]: Done 37286 tasks      | elapsed:  4.6min\n",
      "[Parallel(n_jobs=-1)]: Done 43217 tasks      | elapsed:  5.3min\n",
      "[Parallel(n_jobs=-1)]: Done 49274 tasks      | elapsed:  6.1min\n",
      "[Parallel(n_jobs=-1)]: Done 56656 tasks      | elapsed:  6.9min\n",
      "[Parallel(n_jobs=-1)]: Done 63256 tasks      | elapsed:  7.7min\n",
      "[Parallel(n_jobs=-1)]: Done 70256 tasks      | elapsed:  8.6min\n",
      "[Parallel(n_jobs=-1)]: Done 77656 tasks      | elapsed:  9.5min\n",
      "[Parallel(n_jobs=-1)]: Done 85456 tasks      | elapsed: 10.4min\n",
      "[Parallel(n_jobs=-1)]: Done 93656 tasks      | elapsed: 11.4min\n",
      "[Parallel(n_jobs=-1)]: Done 102256 tasks      | elapsed: 12.5min\n",
      "[Parallel(n_jobs=-1)]: Done 111256 tasks      | elapsed: 13.4min\n",
      "[Parallel(n_jobs=-1)]: Done 121028 tasks      | elapsed: 14.6min\n",
      "[Parallel(n_jobs=-1)]: Done 134980 tasks      | elapsed: 15.8min\n",
      "[Parallel(n_jobs=-1)]: Done 149680 tasks      | elapsed: 17.1min\n",
      "[Parallel(n_jobs=-1)]: Done 161070 tasks      | elapsed: 18.6min\n",
      "[Parallel(n_jobs=-1)]: Done 173296 tasks      | elapsed: 20.1min\n",
      "[Parallel(n_jobs=-1)]: Done 186313 tasks      | elapsed: 21.7min\n",
      "[Parallel(n_jobs=-1)]: Done 199738 tasks      | elapsed: 23.3min\n",
      "[Parallel(n_jobs=-1)]: Done 213413 tasks      | elapsed: 25.0min\n",
      "[Parallel(n_jobs=-1)]: Done 226117 tasks      | elapsed: 26.6min\n",
      "[Parallel(n_jobs=-1)]: Done 239117 tasks      | elapsed: 28.1min\n",
      "[Parallel(n_jobs=-1)]: Done 252517 tasks      | elapsed: 29.7min\n",
      "[Parallel(n_jobs=-1)]: Done 268385 tasks      | elapsed: 31.3min\n",
      "[Parallel(n_jobs=-1)]: Done 288000 out of 288000 | elapsed: 33.0min finished\n"
     ]
    },
    {
     "name": "stdout",
     "output_type": "stream",
     "text": [
      "Grid-Searching for Data-Set deck_pred_2\n",
      "Fitting 10 folds for each of 28800 candidates, totalling 288000 fits\n"
     ]
    },
    {
     "name": "stderr",
     "output_type": "stream",
     "text": [
      "[Parallel(n_jobs=-1)]: Done  18 tasks      | elapsed:    0.1s\n",
      "[Parallel(n_jobs=-1)]: Done 1336 tasks      | elapsed:    9.6s\n",
      "[Parallel(n_jobs=-1)]: Done 2086 tasks      | elapsed:   19.7s\n",
      "[Parallel(n_jobs=-1)]: Done 3913 tasks      | elapsed:   32.0s\n",
      "[Parallel(n_jobs=-1)]: Done 6082 tasks      | elapsed:   45.8s\n",
      "[Parallel(n_jobs=-1)]: Done 8293 tasks      | elapsed:  1.1min\n",
      "[Parallel(n_jobs=-1)]: Done 10243 tasks      | elapsed:  1.4min\n",
      "[Parallel(n_jobs=-1)]: Done 12745 tasks      | elapsed:  1.7min\n",
      "[Parallel(n_jobs=-1)]: Done 15817 tasks      | elapsed:  2.2min\n",
      "[Parallel(n_jobs=-1)]: Done 19018 tasks      | elapsed:  2.6min\n",
      "[Parallel(n_jobs=-1)]: Done 24055 tasks      | elapsed:  3.3min\n",
      "[Parallel(n_jobs=-1)]: Done 27505 tasks      | elapsed:  3.8min\n",
      "[Parallel(n_jobs=-1)]: Done 32512 tasks      | elapsed:  4.5min\n",
      "[Parallel(n_jobs=-1)]: Done 36961 tasks      | elapsed:  5.0min\n",
      "[Parallel(n_jobs=-1)]: Done 42331 tasks      | elapsed:  5.9min\n",
      "[Parallel(n_jobs=-1)]: Done 48283 tasks      | elapsed:  6.7min\n",
      "[Parallel(n_jobs=-1)]: Done 55564 tasks      | elapsed:  7.6min\n",
      "[Parallel(n_jobs=-1)]: Done 61393 tasks      | elapsed:  8.4min\n",
      "[Parallel(n_jobs=-1)]: Done 67927 tasks      | elapsed:  9.4min\n",
      "[Parallel(n_jobs=-1)]: Done 75988 tasks      | elapsed: 10.4min\n",
      "[Parallel(n_jobs=-1)]: Done 82882 tasks      | elapsed: 11.4min\n",
      "[Parallel(n_jobs=-1)]: Done 91141 tasks      | elapsed: 12.5min\n",
      "[Parallel(n_jobs=-1)]: Done 99085 tasks      | elapsed: 13.5min\n",
      "[Parallel(n_jobs=-1)]: Done 108859 tasks      | elapsed: 14.7min\n",
      "[Parallel(n_jobs=-1)]: Done 119827 tasks      | elapsed: 16.1min\n",
      "[Parallel(n_jobs=-1)]: Done 133246 tasks      | elapsed: 17.4min\n",
      "[Parallel(n_jobs=-1)]: Done 147142 tasks      | elapsed: 18.8min\n",
      "[Parallel(n_jobs=-1)]: Done 157933 tasks      | elapsed: 20.2min\n",
      "[Parallel(n_jobs=-1)]: Done 168139 tasks      | elapsed: 21.7min\n",
      "[Parallel(n_jobs=-1)]: Done 177736 tasks      | elapsed: 23.1min\n",
      "[Parallel(n_jobs=-1)]: Done 191017 tasks      | elapsed: 24.8min\n",
      "[Parallel(n_jobs=-1)]: Done 203341 tasks      | elapsed: 26.6min\n",
      "[Parallel(n_jobs=-1)]: Done 217000 tasks      | elapsed: 28.4min\n",
      "[Parallel(n_jobs=-1)]: Done 230440 tasks      | elapsed: 30.2min\n",
      "[Parallel(n_jobs=-1)]: Done 244090 tasks      | elapsed: 32.1min\n",
      "[Parallel(n_jobs=-1)]: Done 259324 tasks      | elapsed: 34.0min\n",
      "[Parallel(n_jobs=-1)]: Done 278101 tasks      | elapsed: 35.9min\n",
      "[Parallel(n_jobs=-1)]: Done 288000 out of 288000 | elapsed: 36.8min finished\n"
     ]
    }
   ],
   "source": [
    "for dataset in datasets:\n",
    "    print('Grid-Searching for Data-Set '+dataset)\n",
    "    if('deck_pred' not in dataset):\n",
    "        data=pd.read_csv('./data_train_'+dataset+'.csv',index_col='PassengerId').drop(['Missing_Embark','Missing_Deck'],axis=1)\n",
    "    if('deck_pred' in dataset):\n",
    "        data=pd.read_csv('./data_train_'+dataset+'.csv',index_col='PassengerId').drop(['Missing_Embark'],axis=1)\n",
    "    X=data.drop('Survived',axis=1).as_matrix()\n",
    "    Y=data['Survived'].as_matrix()\n",
    "    classif_GBC = GradientBoostingClassifier()\n",
    "    param_grid ={'loss' : ['deviance', 'exponential'],\n",
    "             'learning_rate':[10**x for x in range(-4,5)],\n",
    "             'criterion':['friedman_mse','mse'],\n",
    "             'n_estimators':[10*x for x in range(1,21)],\n",
    "             'subsample':[x*0.1 for x in range(1,11)],\n",
    "             'max_features':['auto','log2','sqrt',None]}\n",
    "    gscv=GridSearchCV(classif_GBC,param_grid,scoring='accuracy',cv=cv_k_global,n_jobs=-1,verbose=1)\n",
    "    gscv.fit(X,Y)\n",
    "    results_df=pd.DataFrame(gscv.cv_results_)\n",
    "    results_df.to_csv('./CV_GBC_'+dataset+'.csv')"
   ]
  },
  {
   "cell_type": "markdown",
   "metadata": {},
   "source": [
    "## Random Forests"
   ]
  },
  {
   "cell_type": "code",
   "execution_count": 9,
   "metadata": {
    "ExecuteTime": {
     "end_time": "2018-03-04T14:49:42.100791Z",
     "start_time": "2018-03-04T14:47:42.959319Z"
    },
    "scrolled": true
   },
   "outputs": [
    {
     "name": "stdout",
     "output_type": "stream",
     "text": [
      "Grid-Searching for Data-Set 1\n",
      "Fitting 10 folds for each of 160 candidates, totalling 1600 fits\n"
     ]
    },
    {
     "name": "stderr",
     "output_type": "stream",
     "text": [
      "[Parallel(n_jobs=-1)]: Done  18 tasks      | elapsed:    0.1s\n",
      "[Parallel(n_jobs=-1)]: Done 612 tasks      | elapsed:    9.5s\n",
      "[Parallel(n_jobs=-1)]: Done 1112 tasks      | elapsed:   18.1s\n"
     ]
    },
    {
     "name": "stdout",
     "output_type": "stream",
     "text": [
      "Grid-Searching for Data-Set 2\n",
      "Fitting 10 folds for each of 160 candidates, totalling 1600 fits\n"
     ]
    },
    {
     "name": "stderr",
     "output_type": "stream",
     "text": [
      "[Parallel(n_jobs=-1)]: Done 1600 out of 1600 | elapsed:   28.2s finished\n",
      "[Parallel(n_jobs=-1)]: Done  18 tasks      | elapsed:    0.2s\n",
      "[Parallel(n_jobs=-1)]: Done 612 tasks      | elapsed:    9.7s\n",
      "[Parallel(n_jobs=-1)]: Done 969 tasks      | elapsed:   16.9s\n",
      "[Parallel(n_jobs=-1)]: Done 1319 tasks      | elapsed:   22.5s\n",
      "[Parallel(n_jobs=-1)]: Done 1600 out of 1600 | elapsed:   30.3s finished\n"
     ]
    },
    {
     "name": "stdout",
     "output_type": "stream",
     "text": [
      "Grid-Searching for Data-Set deck_pred_1\n",
      "Fitting 10 folds for each of 160 candidates, totalling 1600 fits\n"
     ]
    },
    {
     "name": "stderr",
     "output_type": "stream",
     "text": [
      "[Parallel(n_jobs=-1)]: Done  18 tasks      | elapsed:    0.1s\n",
      "[Parallel(n_jobs=-1)]: Done 612 tasks      | elapsed:    9.4s\n",
      "[Parallel(n_jobs=-1)]: Done 1112 tasks      | elapsed:   18.0s\n",
      "[Parallel(n_jobs=-1)]: Done 1600 out of 1600 | elapsed:   28.4s finished\n"
     ]
    },
    {
     "name": "stdout",
     "output_type": "stream",
     "text": [
      "Grid-Searching for Data-Set deck_pred_2\n",
      "Fitting 10 folds for each of 160 candidates, totalling 1600 fits\n"
     ]
    },
    {
     "name": "stderr",
     "output_type": "stream",
     "text": [
      "[Parallel(n_jobs=-1)]: Done  18 tasks      | elapsed:    0.1s\n",
      "[Parallel(n_jobs=-1)]: Done 783 tasks      | elapsed:   13.9s\n",
      "[Parallel(n_jobs=-1)]: Done 1033 tasks      | elapsed:   18.0s\n",
      "[Parallel(n_jobs=-1)]: Done 1383 tasks      | elapsed:   24.5s\n",
      "[Parallel(n_jobs=-1)]: Done 1600 out of 1600 | elapsed:   30.7s finished\n"
     ]
    }
   ],
   "source": [
    "for dataset in datasets:\n",
    "    print('Grid-Searching for Data-Set '+dataset)\n",
    "    if('deck_pred' not in dataset):\n",
    "        data=pd.read_csv('./data_train_'+dataset+'.csv',index_col='PassengerId').drop(['Missing_Embark','Missing_Deck'],axis=1)\n",
    "    if('deck_pred' in dataset):\n",
    "        data=pd.read_csv('./data_train_'+dataset+'.csv',index_col='PassengerId').drop(['Missing_Embark'],axis=1)\n",
    "    X=data.drop('Survived',axis=1).as_matrix()\n",
    "    Y=data['Survived'].as_matrix()\n",
    "    rfc = RandomForestClassifier()\n",
    "    param_grid ={\n",
    "        'n_estimators':[10*x for x in range(1,21)],\n",
    "        'criterion':['gini','entropy'],\n",
    "        'max_features':['auto','log2','sqrt',None]}\n",
    "    gscv=GridSearchCV(rfc,param_grid,scoring='accuracy',cv=cv_k_global,verbose=1,n_jobs=-1)\n",
    "    gscv.fit(X,Y)\n",
    "    results_df=pd.DataFrame(gscv.cv_results_)\n",
    "    results_df.to_csv('./CV_RFC_'+dataset+'.csv')"
   ]
  },
  {
   "cell_type": "markdown",
   "metadata": {},
   "source": [
    "## KNN"
   ]
  },
  {
   "cell_type": "code",
   "execution_count": 10,
   "metadata": {
    "ExecuteTime": {
     "end_time": "2018-03-04T16:06:10.517908Z",
     "start_time": "2018-03-04T14:49:42.457464Z"
    },
    "scrolled": true
   },
   "outputs": [
    {
     "name": "stdout",
     "output_type": "stream",
     "text": [
      "Grid-Searching for Data-Set 1\n",
      "Fitting 10 folds for each of 30000 candidates, totalling 300000 fits\n"
     ]
    },
    {
     "name": "stderr",
     "output_type": "stream",
     "text": [
      "[Parallel(n_jobs=-1)]: Done  18 tasks      | elapsed:    0.1s\n",
      "[Parallel(n_jobs=-1)]: Done 1664 tasks      | elapsed:    4.8s\n",
      "[Parallel(n_jobs=-1)]: Done 4664 tasks      | elapsed:   11.7s\n",
      "[Parallel(n_jobs=-1)]: Done 8864 tasks      | elapsed:   21.1s\n",
      "[Parallel(n_jobs=-1)]: Done 14264 tasks      | elapsed:   33.3s\n",
      "[Parallel(n_jobs=-1)]: Done 20864 tasks      | elapsed:   47.8s\n",
      "[Parallel(n_jobs=-1)]: Done 28664 tasks      | elapsed:  1.1min\n",
      "[Parallel(n_jobs=-1)]: Done 37664 tasks      | elapsed:  1.4min\n",
      "[Parallel(n_jobs=-1)]: Done 47864 tasks      | elapsed:  1.8min\n",
      "[Parallel(n_jobs=-1)]: Done 59264 tasks      | elapsed:  2.2min\n",
      "[Parallel(n_jobs=-1)]: Done 71864 tasks      | elapsed:  2.7min\n",
      "[Parallel(n_jobs=-1)]: Done 85664 tasks      | elapsed:  3.3min\n",
      "[Parallel(n_jobs=-1)]: Done 100664 tasks      | elapsed:  3.8min\n",
      "[Parallel(n_jobs=-1)]: Done 109418 tasks      | elapsed:  4.3min\n",
      "[Parallel(n_jobs=-1)]: Done 121850 tasks      | elapsed:  4.7min\n",
      "[Parallel(n_jobs=-1)]: Done 140450 tasks      | elapsed:  5.2min\n",
      "[Parallel(n_jobs=-1)]: Done 160250 tasks      | elapsed:  5.8min\n",
      "[Parallel(n_jobs=-1)]: Done 181250 tasks      | elapsed:  6.5min\n",
      "[Parallel(n_jobs=-1)]: Done 202106 tasks      | elapsed:  7.3min\n",
      "[Parallel(n_jobs=-1)]: Done 213806 tasks      | elapsed:  8.5min\n",
      "[Parallel(n_jobs=-1)]: Done 226106 tasks      | elapsed:  9.9min\n",
      "[Parallel(n_jobs=-1)]: Done 239006 tasks      | elapsed: 11.2min\n",
      "[Parallel(n_jobs=-1)]: Done 252506 tasks      | elapsed: 12.7min\n",
      "[Parallel(n_jobs=-1)]: Done 266606 tasks      | elapsed: 14.2min\n",
      "[Parallel(n_jobs=-1)]: Done 281306 tasks      | elapsed: 15.8min\n",
      "[Parallel(n_jobs=-1)]: Done 296606 tasks      | elapsed: 17.4min\n",
      "[Parallel(n_jobs=-1)]: Done 300000 out of 300000 | elapsed: 17.8min finished\n"
     ]
    },
    {
     "name": "stdout",
     "output_type": "stream",
     "text": [
      "Grid-Searching for Data-Set 2\n",
      "Fitting 10 folds for each of 30000 candidates, totalling 300000 fits\n"
     ]
    },
    {
     "name": "stderr",
     "output_type": "stream",
     "text": [
      "[Parallel(n_jobs=-1)]: Done  18 tasks      | elapsed:    0.1s\n",
      "[Parallel(n_jobs=-1)]: Done 1664 tasks      | elapsed:    6.0s\n",
      "[Parallel(n_jobs=-1)]: Done 4664 tasks      | elapsed:   14.9s\n",
      "[Parallel(n_jobs=-1)]: Done 8864 tasks      | elapsed:   26.9s\n",
      "[Parallel(n_jobs=-1)]: Done 14264 tasks      | elapsed:   41.9s\n",
      "[Parallel(n_jobs=-1)]: Done 20864 tasks      | elapsed:   59.8s\n",
      "[Parallel(n_jobs=-1)]: Done 28664 tasks      | elapsed:  1.4min\n",
      "[Parallel(n_jobs=-1)]: Done 37664 tasks      | elapsed:  1.8min\n",
      "[Parallel(n_jobs=-1)]: Done 47864 tasks      | elapsed:  2.3min\n",
      "[Parallel(n_jobs=-1)]: Done 59264 tasks      | elapsed:  2.8min\n",
      "[Parallel(n_jobs=-1)]: Done 71864 tasks      | elapsed:  3.4min\n",
      "[Parallel(n_jobs=-1)]: Done 85664 tasks      | elapsed:  4.0min\n",
      "[Parallel(n_jobs=-1)]: Done 100664 tasks      | elapsed:  4.7min\n",
      "[Parallel(n_jobs=-1)]: Done 108896 tasks      | elapsed:  5.4min\n",
      "[Parallel(n_jobs=-1)]: Done 117596 tasks      | elapsed:  5.8min\n",
      "[Parallel(n_jobs=-1)]: Done 126896 tasks      | elapsed:  6.2min\n",
      "[Parallel(n_jobs=-1)]: Done 136796 tasks      | elapsed:  6.6min\n",
      "[Parallel(n_jobs=-1)]: Done 147296 tasks      | elapsed:  7.1min\n",
      "[Parallel(n_jobs=-1)]: Done 158396 tasks      | elapsed:  7.6min\n",
      "[Parallel(n_jobs=-1)]: Done 170096 tasks      | elapsed:  8.1min\n",
      "[Parallel(n_jobs=-1)]: Done 182396 tasks      | elapsed:  8.6min\n",
      "[Parallel(n_jobs=-1)]: Done 195296 tasks      | elapsed:  9.2min\n",
      "[Parallel(n_jobs=-1)]: Done 208796 tasks      | elapsed: 10.4min\n",
      "[Parallel(n_jobs=-1)]: Done 222896 tasks      | elapsed: 11.9min\n",
      "[Parallel(n_jobs=-1)]: Done 237596 tasks      | elapsed: 13.5min\n",
      "[Parallel(n_jobs=-1)]: Done 252896 tasks      | elapsed: 15.1min\n",
      "[Parallel(n_jobs=-1)]: Done 268796 tasks      | elapsed: 16.9min\n",
      "[Parallel(n_jobs=-1)]: Done 285296 tasks      | elapsed: 18.7min\n",
      "[Parallel(n_jobs=-1)]: Done 300000 out of 300000 | elapsed: 20.3min finished\n"
     ]
    },
    {
     "name": "stdout",
     "output_type": "stream",
     "text": [
      "Grid-Searching for Data-Set deck_pred_1\n",
      "Fitting 10 folds for each of 30000 candidates, totalling 300000 fits\n"
     ]
    },
    {
     "name": "stderr",
     "output_type": "stream",
     "text": [
      "[Parallel(n_jobs=-1)]: Done  18 tasks      | elapsed:    0.1s\n",
      "[Parallel(n_jobs=-1)]: Done 1664 tasks      | elapsed:    4.9s\n",
      "[Parallel(n_jobs=-1)]: Done 4664 tasks      | elapsed:   12.0s\n",
      "[Parallel(n_jobs=-1)]: Done 8864 tasks      | elapsed:   21.6s\n",
      "[Parallel(n_jobs=-1)]: Done 14264 tasks      | elapsed:   34.0s\n",
      "[Parallel(n_jobs=-1)]: Done 20864 tasks      | elapsed:   48.6s\n",
      "[Parallel(n_jobs=-1)]: Done 28664 tasks      | elapsed:  1.1min\n",
      "[Parallel(n_jobs=-1)]: Done 37664 tasks      | elapsed:  1.4min\n",
      "[Parallel(n_jobs=-1)]: Done 47864 tasks      | elapsed:  1.8min\n",
      "[Parallel(n_jobs=-1)]: Done 59264 tasks      | elapsed:  2.3min\n",
      "[Parallel(n_jobs=-1)]: Done 71864 tasks      | elapsed:  2.7min\n",
      "[Parallel(n_jobs=-1)]: Done 85664 tasks      | elapsed:  3.3min\n",
      "[Parallel(n_jobs=-1)]: Done 100664 tasks      | elapsed:  3.8min\n",
      "[Parallel(n_jobs=-1)]: Done 109274 tasks      | elapsed:  4.3min\n",
      "[Parallel(n_jobs=-1)]: Done 117974 tasks      | elapsed:  4.6min\n",
      "[Parallel(n_jobs=-1)]: Done 127274 tasks      | elapsed:  4.9min\n",
      "[Parallel(n_jobs=-1)]: Done 145964 tasks      | elapsed:  5.5min\n",
      "[Parallel(n_jobs=-1)]: Done 166964 tasks      | elapsed:  6.2min\n",
      "[Parallel(n_jobs=-1)]: Done 189164 tasks      | elapsed:  6.9min\n",
      "[Parallel(n_jobs=-1)]: Done 206660 tasks      | elapsed:  8.0min\n",
      "[Parallel(n_jobs=-1)]: Done 218960 tasks      | elapsed:  9.3min\n",
      "[Parallel(n_jobs=-1)]: Done 231860 tasks      | elapsed: 10.7min\n",
      "[Parallel(n_jobs=-1)]: Done 245360 tasks      | elapsed: 12.1min\n",
      "[Parallel(n_jobs=-1)]: Done 259460 tasks      | elapsed: 13.6min\n",
      "[Parallel(n_jobs=-1)]: Done 274160 tasks      | elapsed: 15.2min\n",
      "[Parallel(n_jobs=-1)]: Done 289460 tasks      | elapsed: 16.8min\n",
      "[Parallel(n_jobs=-1)]: Done 300000 out of 300000 | elapsed: 17.9min finished\n"
     ]
    },
    {
     "name": "stdout",
     "output_type": "stream",
     "text": [
      "Grid-Searching for Data-Set deck_pred_2\n",
      "Fitting 10 folds for each of 30000 candidates, totalling 300000 fits\n"
     ]
    },
    {
     "name": "stderr",
     "output_type": "stream",
     "text": [
      "[Parallel(n_jobs=-1)]: Done  18 tasks      | elapsed:    0.1s\n",
      "[Parallel(n_jobs=-1)]: Done 1392 tasks      | elapsed:    4.8s\n",
      "[Parallel(n_jobs=-1)]: Done 3892 tasks      | elapsed:   13.1s\n",
      "[Parallel(n_jobs=-1)]: Done 7392 tasks      | elapsed:   22.8s\n",
      "[Parallel(n_jobs=-1)]: Done 11892 tasks      | elapsed:   36.0s\n",
      "[Parallel(n_jobs=-1)]: Done 17392 tasks      | elapsed:   50.7s\n",
      "[Parallel(n_jobs=-1)]: Done 23892 tasks      | elapsed:  1.1min\n",
      "[Parallel(n_jobs=-1)]: Done 31392 tasks      | elapsed:  1.5min\n",
      "[Parallel(n_jobs=-1)]: Done 39892 tasks      | elapsed:  1.9min\n",
      "[Parallel(n_jobs=-1)]: Done 49392 tasks      | elapsed:  2.3min\n",
      "[Parallel(n_jobs=-1)]: Done 59892 tasks      | elapsed:  2.8min\n",
      "[Parallel(n_jobs=-1)]: Done 71392 tasks      | elapsed:  3.4min\n",
      "[Parallel(n_jobs=-1)]: Done 83892 tasks      | elapsed:  3.9min\n",
      "[Parallel(n_jobs=-1)]: Done 97392 tasks      | elapsed:  4.6min\n",
      "[Parallel(n_jobs=-1)]: Done 106462 tasks      | elapsed:  5.2min\n",
      "[Parallel(n_jobs=-1)]: Done 114212 tasks      | elapsed:  5.7min\n",
      "[Parallel(n_jobs=-1)]: Done 122462 tasks      | elapsed:  6.1min\n",
      "[Parallel(n_jobs=-1)]: Done 131212 tasks      | elapsed:  6.5min\n",
      "[Parallel(n_jobs=-1)]: Done 140462 tasks      | elapsed:  6.9min\n",
      "[Parallel(n_jobs=-1)]: Done 150212 tasks      | elapsed:  7.3min\n",
      "[Parallel(n_jobs=-1)]: Done 160462 tasks      | elapsed:  7.8min\n",
      "[Parallel(n_jobs=-1)]: Done 171212 tasks      | elapsed:  8.2min\n",
      "[Parallel(n_jobs=-1)]: Done 182462 tasks      | elapsed:  8.7min\n",
      "[Parallel(n_jobs=-1)]: Done 194212 tasks      | elapsed:  9.2min\n",
      "[Parallel(n_jobs=-1)]: Done 206462 tasks      | elapsed: 10.1min\n",
      "[Parallel(n_jobs=-1)]: Done 219212 tasks      | elapsed: 11.5min\n",
      "[Parallel(n_jobs=-1)]: Done 232462 tasks      | elapsed: 12.9min\n",
      "[Parallel(n_jobs=-1)]: Done 246212 tasks      | elapsed: 14.4min\n",
      "[Parallel(n_jobs=-1)]: Done 260462 tasks      | elapsed: 16.0min\n",
      "[Parallel(n_jobs=-1)]: Done 275212 tasks      | elapsed: 17.6min\n",
      "[Parallel(n_jobs=-1)]: Done 290462 tasks      | elapsed: 19.3min\n",
      "[Parallel(n_jobs=-1)]: Done 300000 out of 300000 | elapsed: 20.3min finished\n"
     ]
    }
   ],
   "source": [
    "for dataset in datasets:\n",
    "    print('Grid-Searching for Data-Set '+dataset)\n",
    "    if('deck_pred' not in dataset):\n",
    "        data=pd.read_csv('./data_train_'+dataset+'.csv',index_col='PassengerId').drop(['Missing_Embark','Missing_Deck'],axis=1)\n",
    "    if('deck_pred' in dataset):\n",
    "        data=pd.read_csv('./data_train_'+dataset+'.csv',index_col='PassengerId').drop(['Missing_Embark'],axis=1)\n",
    "    X=data.drop('Survived',axis=1).as_matrix()\n",
    "    Y=data['Survived'].as_matrix()\n",
    "    knn = KNeighborsClassifier()\n",
    "    param_grid = [{\n",
    "        'n_neighbors':[2*x+1 for x in range(1,51)],\n",
    "        'algorithm':[ 'ball_tree', 'kd_tree','brute'],\n",
    "        'p':[1,2],\n",
    "        'weights':['uniform','distance'],\n",
    "        'leaf_size':[2*x+1 for x in range(1,51)]}]\n",
    "    gscv=GridSearchCV(knn,param_grid,scoring='accuracy',cv=cv_k_global,verbose=1,n_jobs=-1)\n",
    "    gscv.fit(X,Y)\n",
    "    results_df=pd.DataFrame(gscv.cv_results_)\n",
    "    results_df.to_csv('./CV_KNN_'+dataset+'.csv')"
   ]
  },
  {
   "cell_type": "markdown",
   "metadata": {},
   "source": [
    "## SVM"
   ]
  },
  {
   "cell_type": "code",
   "execution_count": null,
   "metadata": {
    "ExecuteTime": {
     "start_time": "2018-03-04T12:29:09.545Z"
    },
    "scrolled": true
   },
   "outputs": [
    {
     "name": "stdout",
     "output_type": "stream",
     "text": [
      "Grid-Searching for Data-Set 1\n",
      "Fitting 10 folds for each of 98 candidates, totalling 980 fits\n"
     ]
    },
    {
     "name": "stderr",
     "output_type": "stream",
     "text": [
      "[Parallel(n_jobs=-1)]: Done  18 tasks      | elapsed:    0.1s\n",
      "[Parallel(n_jobs=-1)]: Done 980 out of 980 | elapsed:  3.2min finished\n"
     ]
    },
    {
     "name": "stdout",
     "output_type": "stream",
     "text": [
      "Grid-Searching for Data-Set 2\n",
      "Fitting 10 folds for each of 98 candidates, totalling 980 fits\n"
     ]
    },
    {
     "name": "stderr",
     "output_type": "stream",
     "text": [
      "[Parallel(n_jobs=-1)]: Done  18 tasks      | elapsed:    0.2s\n"
     ]
    },
    {
     "name": "stdout",
     "output_type": "stream",
     "text": [
      "Grid-Searching for Data-Set deck_pred_1\n",
      "Fitting 10 folds for each of 98 candidates, totalling 980 fits\n"
     ]
    },
    {
     "name": "stderr",
     "output_type": "stream",
     "text": [
      "[Parallel(n_jobs=-1)]: Done 980 out of 980 | elapsed:  1.6min finished\n",
      "[Parallel(n_jobs=-1)]: Done  18 tasks      | elapsed:    0.1s\n",
      "[Parallel(n_jobs=-1)]: Done 980 out of 980 | elapsed:  3.0min finished\n"
     ]
    },
    {
     "name": "stdout",
     "output_type": "stream",
     "text": [
      "Grid-Searching for Data-Set deck_pred_2\n",
      "Fitting 10 folds for each of 98 candidates, totalling 980 fits\n"
     ]
    },
    {
     "name": "stderr",
     "output_type": "stream",
     "text": [
      "[Parallel(n_jobs=-1)]: Done  18 tasks      | elapsed:    0.1s\n"
     ]
    }
   ],
   "source": [
    "for dataset in datasets:\n",
    "    print('Grid-Searching for Data-Set '+dataset)\n",
    "    if('deck_pred' not in dataset):\n",
    "        data=pd.read_csv('./data_train_'+dataset+'.csv',index_col='PassengerId').drop(['Missing_Embark','Missing_Deck'],axis=1)\n",
    "    if('deck_pred' in dataset):\n",
    "        data=pd.read_csv('./data_train_'+dataset+'.csv',index_col='PassengerId').drop(['Missing_Embark'],axis=1)\n",
    "    X=data.drop('Survived',axis=1).as_matrix()\n",
    "    Y=data['Survived'].as_matrix()\n",
    "    svm_class = svm.SVC()\n",
    "    param_grid =[\n",
    "        {'C':[10**x for x in range(-3,4)],\n",
    "        'kernel':['poly'],\n",
    "        'degree':[2,3,4,5],\n",
    "        'decision_function_shape':['ovo','ovr']\n",
    "        },\n",
    "         {'C':[10**x for x in range(-3,4)],\n",
    "        'kernel':['rbf','linear','sigmoid'],\n",
    "        'decision_function_shape':['ovo','ovr']\n",
    "         }\n",
    "        ]\n",
    "    gscv=GridSearchCV(svm_class,param_grid,scoring='accuracy',cv=cv_k_global,verbose=1,n_jobs=-1)\n",
    "    gscv.fit(X,Y)\n",
    "    results_df=pd.DataFrame(gscv.cv_results_)\n",
    "    results_df.to_csv('./CV_SVM_'+dataset+'.csv')"
   ]
  },
  {
   "cell_type": "code",
   "execution_count": null,
   "metadata": {},
   "outputs": [],
   "source": []
  }
 ],
 "metadata": {
  "kernelspec": {
   "display_name": "Python 3",
   "language": "python",
   "name": "python3"
  },
  "language_info": {
   "codemirror_mode": {
    "name": "ipython",
    "version": 3
   },
   "file_extension": ".py",
   "mimetype": "text/x-python",
   "name": "python",
   "nbconvert_exporter": "python",
   "pygments_lexer": "ipython3",
   "version": "3.6.4"
  },
  "notify_time": "5",
  "toc": {
   "nav_menu": {
    "height": "317px",
    "width": "342px"
   },
   "number_sections": true,
   "sideBar": true,
   "skip_h1_title": false,
   "title_cell": "Table of Contents",
   "title_sidebar": "Contents",
   "toc_cell": false,
   "toc_position": {
    "height": "48px",
    "left": "29px",
    "top": "131.133px",
    "width": "212px"
   },
   "toc_section_display": true,
   "toc_window_display": true
  },
  "varInspector": {
   "cols": {
    "lenName": 16,
    "lenType": 16,
    "lenVar": 40
   },
   "kernels_config": {
    "python": {
     "delete_cmd_postfix": "",
     "delete_cmd_prefix": "del ",
     "library": "var_list.py",
     "varRefreshCmd": "print(var_dic_list())"
    },
    "r": {
     "delete_cmd_postfix": ") ",
     "delete_cmd_prefix": "rm(",
     "library": "var_list.r",
     "varRefreshCmd": "cat(var_dic_list()) "
    }
   },
   "position": {
    "height": "452px",
    "left": "655px",
    "right": "127px",
    "top": "153px",
    "width": "478px"
   },
   "types_to_exclude": [
    "module",
    "function",
    "builtin_function_or_method",
    "instance",
    "_Feature"
   ],
   "window_display": false
  }
 },
 "nbformat": 4,
 "nbformat_minor": 2
}
