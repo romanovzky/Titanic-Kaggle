{
 "cells": [
  {
   "cell_type": "code",
   "execution_count": 3,
   "metadata": {
    "ExecuteTime": {
     "end_time": "2018-02-26T14:13:53.721785Z",
     "start_time": "2018-02-26T14:13:52.379875Z"
    }
   },
   "outputs": [
    {
     "name": "stderr",
     "output_type": "stream",
     "text": [
      "Using TensorFlow backend.\n"
     ]
    }
   ],
   "source": [
    "import warnings\n",
    "warnings.filterwarnings('ignore')\n",
    "\n",
    "import pandas as pd\n",
    "import numpy as np\n",
    "import matplotlib.pyplot as plt\n",
    "import seaborn as sns\n",
    "%matplotlib inline\n",
    "\n",
    "from sklearn.model_selection import cross_val_score\n",
    "\n",
    "from sklearn.naive_bayes import GaussianNB\n",
    "\n",
    "from scipy.stats import randint as sp_randint\n",
    "\n",
    "from sklearn.model_selection import train_test_split, KFold, GridSearchCV, cross_val_score, RandomizedSearchCV\n",
    "\n",
    "from keras.wrappers.scikit_learn import KerasClassifier\n",
    "from keras.models import Sequential\n",
    "from keras.layers import Dense, Dropout, Activation\n",
    "from keras import regularizers"
   ]
  },
  {
   "cell_type": "code",
   "execution_count": 4,
   "metadata": {
    "ExecuteTime": {
     "end_time": "2018-02-26T14:13:53.768988Z",
     "start_time": "2018-02-26T14:13:53.729404Z"
    },
    "collapsed": true
   },
   "outputs": [],
   "source": [
    "test_1 = pd.read_csv('data_test_1.csv',index_col='PassengerId').drop(['Missing_Embark','Missing_Deck'],axis=1)\n",
    "test_2 = pd.read_csv('data_test_2.csv',index_col='PassengerId').drop(['Missing_Embark','Missing_Deck'],axis=1)\n",
    "test_3 = pd.read_csv('data_test_3.csv',index_col='PassengerId').drop(['Missing_Embark','Missing_Deck'],axis=1)\n",
    "\n",
    "data_1 = pd.read_csv('data_train_1.csv',index_col='PassengerId').drop(['Missing_Embark','Missing_Deck'],axis=1)\n",
    "data_2 = pd.read_csv('data_train_2.csv',index_col='PassengerId').drop(['Missing_Embark','Missing_Deck'],axis=1)\n",
    "data_3 = pd.read_csv('data_train_3.csv',index_col='PassengerId').drop(['Missing_Embark','Missing_Deck'],axis=1)"
   ]
  },
  {
   "cell_type": "markdown",
   "metadata": {
    "heading_collapsed": true
   },
   "source": [
    "# Bayes"
   ]
  },
  {
   "cell_type": "markdown",
   "metadata": {
    "hidden": true
   },
   "source": [
    "## Data Type 1"
   ]
  },
  {
   "cell_type": "code",
   "execution_count": 4,
   "metadata": {
    "ExecuteTime": {
     "end_time": "2018-02-21T11:58:23.018965Z",
     "start_time": "2018-02-21T11:58:23.000167Z"
    },
    "hidden": true
   },
   "outputs": [
    {
     "name": "stdout",
     "output_type": "stream",
     "text": [
      "Accuracy: 0.55 (+/- 0.17)\n"
     ]
    }
   ],
   "source": [
    "X=data_1.drop('Survived',axis=1).as_matrix()\n",
    "Y=data_1['Survived'].as_matrix()\n",
    "\n",
    "gnb = GaussianNB()\n",
    "scores=cross_val_score(gnb,X,Y,cv=5)\n",
    "print(\"Accuracy: %0.2f (+/- %0.2f)\" % (scores.mean(), scores.std() * 2))"
   ]
  },
  {
   "cell_type": "markdown",
   "metadata": {
    "heading_collapsed": true,
    "hidden": true
   },
   "source": [
    "## Data Type 2"
   ]
  },
  {
   "cell_type": "code",
   "execution_count": 5,
   "metadata": {
    "ExecuteTime": {
     "end_time": "2018-02-21T11:58:59.612752Z",
     "start_time": "2018-02-21T11:58:59.595479Z"
    },
    "hidden": true
   },
   "outputs": [
    {
     "name": "stdout",
     "output_type": "stream",
     "text": [
      "Accuracy: 0.56 (+/- 0.15)\n"
     ]
    }
   ],
   "source": [
    "X=data_2.drop('Survived',axis=1).as_matrix()\n",
    "Y=data_2['Survived'].as_matrix()\n",
    "\n",
    "gnb = GaussianNB()\n",
    "scores=cross_val_score(gnb,X,Y,cv=5)\n",
    "print(\"Accuracy: %0.2f (+/- %0.2f)\" % (scores.mean(), scores.std() * 2))"
   ]
  },
  {
   "cell_type": "markdown",
   "metadata": {
    "hidden": true
   },
   "source": [
    "### Data Type 3"
   ]
  },
  {
   "cell_type": "code",
   "execution_count": 6,
   "metadata": {
    "ExecuteTime": {
     "end_time": "2018-02-21T11:58:59.612752Z",
     "start_time": "2018-02-21T11:58:59.595479Z"
    },
    "hidden": true
   },
   "outputs": [
    {
     "name": "stdout",
     "output_type": "stream",
     "text": [
      "Accuracy: 0.72 (+/- 0.10)\n"
     ]
    }
   ],
   "source": [
    "X=data_3.drop('Survived',axis=1).as_matrix()\n",
    "Y=data_3['Survived'].as_matrix()\n",
    "\n",
    "gnb = GaussianNB()\n",
    "scores=cross_val_score(gnb,X,Y,cv=5)\n",
    "print(\"Accuracy: %0.2f (+/- %0.2f)\" % (scores.mean(), scores.std() * 2))"
   ]
  },
  {
   "cell_type": "markdown",
   "metadata": {
    "collapsed": true,
    "heading_collapsed": true
   },
   "source": [
    "# DNN for polynomial logistic regressor"
   ]
  },
  {
   "cell_type": "code",
   "execution_count": 3,
   "metadata": {
    "ExecuteTime": {
     "end_time": "2018-02-22T16:15:09.482201Z",
     "start_time": "2018-02-22T16:15:09.460285Z"
    },
    "collapsed": true,
    "hidden": true
   },
   "outputs": [],
   "source": [
    "def DNN_log_reg(input_layer,regularization=0.01,cells=4):\n",
    "    model = None\n",
    "    model = Sequential()\n",
    "    model.add(Dense(units=cells, input_dim=input_layer,kernel_regularizer=regularizers.l2(regularization),bias_regularizer=regularizers.l2(regularization)))#Linear poly\n",
    "    model.add(Dense(units=cells,kernel_regularizer=regularizers.l2(regularization),bias_regularizer=regularizers.l2(regularization)))#Quadratic poly\n",
    "    model.add(Dense(units=cells,kernel_regularizer=regularizers.l2(regularization),bias_regularizer=regularizers.l2(regularization)))#Quartic Poly\n",
    "    model.add(Dense(units=1,kernel_regularizer=regularizers.l2(regularization),bias_regularizer=regularizers.l2(regularization)))#Sigmoid Function\n",
    "    model.add(Activation('sigmoid'))\n",
    "    model.compile(optimizer='rmsprop',loss='binary_crossentropy',metrics=['accuracy'])\n",
    "    return model"
   ]
  },
  {
   "cell_type": "markdown",
   "metadata": {
    "heading_collapsed": true,
    "hidden": true
   },
   "source": [
    "## Data 1"
   ]
  },
  {
   "cell_type": "code",
   "execution_count": 4,
   "metadata": {
    "ExecuteTime": {
     "end_time": "2018-02-22T16:31:24.179409Z",
     "start_time": "2018-02-22T16:15:30.912261Z"
    },
    "hidden": true,
    "scrolled": true
   },
   "outputs": [
    {
     "name": "stdout",
     "output_type": "stream",
     "text": [
      "Fitting 5 folds for each of 10 candidates, totalling 50 fits\n"
     ]
    },
    {
     "name": "stderr",
     "output_type": "stream",
     "text": [
      "[Parallel(n_jobs=1)]: Done  50 out of  50 | elapsed: 15.6min finished\n"
     ]
    },
    {
     "data": {
      "text/plain": [
       "RandomizedSearchCV(cv=5, error_score='raise',\n",
       "          estimator=<keras.wrappers.scikit_learn.KerasClassifier object at 0x7f1688955cc0>,\n",
       "          fit_params=None, iid=True, n_iter=10, n_jobs=1,\n",
       "          param_distributions={'batch_size': [1024], 'epochs': [1000, 1500, 2000, 2500, 3000, 3500, 4000, 4500, 5000], 'input_layer': [17], 'regularization': [1.0, 0.1, 0.010000000000000002, 0.0010000000000000002], 'cells': range(2, 11)},\n",
       "          pre_dispatch='2*n_jobs', random_state=None, refit=True,\n",
       "          return_train_score='warn', scoring='accuracy', verbose=1)"
      ]
     },
     "execution_count": 4,
     "metadata": {},
     "output_type": "execute_result"
    }
   ],
   "source": [
    "X=data_1.drop('Survived',axis=1).as_matrix()\n",
    "Y=data_1['Survived'].as_matrix()\n",
    "input_layer=X.shape[1]\n",
    "\n",
    "\n",
    "classifier = None\n",
    "classifier = KerasClassifier(build_fn=DNN_log_reg,verbose=0)\n",
    "\n",
    "param_distributions ={'batch_size': [1024],\n",
    "                      'epochs': [500*x for x in range(2,11)],\n",
    "                      'input_layer' :[input_layer],\n",
    "                      'regularization':[0.1**x for x in range(0,4)],\n",
    "                      'cells': range(2,11)\n",
    "                     }\n",
    "\n",
    "\n",
    "rscv=RandomizedSearchCV(estimator=classifier,\n",
    "                  param_distributions=param_distributions,\n",
    "                  scoring='accuracy',\n",
    "                  cv=5,\n",
    "                  verbose=1,\n",
    "                  n_iter=10)\n",
    "\n",
    "rscv.fit(X,Y)"
   ]
  },
  {
   "cell_type": "code",
   "execution_count": 5,
   "metadata": {
    "ExecuteTime": {
     "end_time": "2018-02-22T16:31:24.795567Z",
     "start_time": "2018-02-22T16:31:24.773393Z"
    },
    "hidden": true,
    "scrolled": true
   },
   "outputs": [
    {
     "data": {
      "text/html": [
       "<div>\n",
       "<style scoped>\n",
       "    .dataframe tbody tr th:only-of-type {\n",
       "        vertical-align: middle;\n",
       "    }\n",
       "\n",
       "    .dataframe tbody tr th {\n",
       "        vertical-align: top;\n",
       "    }\n",
       "\n",
       "    .dataframe thead th {\n",
       "        text-align: right;\n",
       "    }\n",
       "</style>\n",
       "<table border=\"1\" class=\"dataframe\">\n",
       "  <thead>\n",
       "    <tr style=\"text-align: right;\">\n",
       "      <th></th>\n",
       "      <th>mean_fit_time</th>\n",
       "      <th>mean_test_score</th>\n",
       "      <th>mean_train_score</th>\n",
       "      <th>param_cells</th>\n",
       "      <th>param_regularization</th>\n",
       "      <th>rank_test_score</th>\n",
       "      <th>std_test_score</th>\n",
       "      <th>std_train_score</th>\n",
       "    </tr>\n",
       "  </thead>\n",
       "  <tbody>\n",
       "    <tr>\n",
       "      <th>5</th>\n",
       "      <td>14.568671</td>\n",
       "      <td>0.799102</td>\n",
       "      <td>0.811729</td>\n",
       "      <td>6</td>\n",
       "      <td>0.01</td>\n",
       "      <td>1</td>\n",
       "      <td>0.025297</td>\n",
       "      <td>0.005749</td>\n",
       "    </tr>\n",
       "    <tr>\n",
       "      <th>7</th>\n",
       "      <td>18.073125</td>\n",
       "      <td>0.799102</td>\n",
       "      <td>0.812290</td>\n",
       "      <td>5</td>\n",
       "      <td>0.01</td>\n",
       "      <td>1</td>\n",
       "      <td>0.027167</td>\n",
       "      <td>0.005342</td>\n",
       "    </tr>\n",
       "    <tr>\n",
       "      <th>1</th>\n",
       "      <td>25.867062</td>\n",
       "      <td>0.795735</td>\n",
       "      <td>0.812850</td>\n",
       "      <td>8</td>\n",
       "      <td>0.001</td>\n",
       "      <td>3</td>\n",
       "      <td>0.026245</td>\n",
       "      <td>0.006380</td>\n",
       "    </tr>\n",
       "    <tr>\n",
       "      <th>0</th>\n",
       "      <td>14.258777</td>\n",
       "      <td>0.794613</td>\n",
       "      <td>0.814253</td>\n",
       "      <td>7</td>\n",
       "      <td>0.001</td>\n",
       "      <td>4</td>\n",
       "      <td>0.022645</td>\n",
       "      <td>0.005674</td>\n",
       "    </tr>\n",
       "    <tr>\n",
       "      <th>2</th>\n",
       "      <td>6.806915</td>\n",
       "      <td>0.793490</td>\n",
       "      <td>0.812570</td>\n",
       "      <td>4</td>\n",
       "      <td>0.001</td>\n",
       "      <td>5</td>\n",
       "      <td>0.025975</td>\n",
       "      <td>0.005796</td>\n",
       "    </tr>\n",
       "    <tr>\n",
       "      <th>4</th>\n",
       "      <td>11.391210</td>\n",
       "      <td>0.793490</td>\n",
       "      <td>0.811728</td>\n",
       "      <td>2</td>\n",
       "      <td>0.001</td>\n",
       "      <td>5</td>\n",
       "      <td>0.025975</td>\n",
       "      <td>0.006382</td>\n",
       "    </tr>\n",
       "    <tr>\n",
       "      <th>3</th>\n",
       "      <td>23.053953</td>\n",
       "      <td>0.616162</td>\n",
       "      <td>0.616158</td>\n",
       "      <td>7</td>\n",
       "      <td>0.1</td>\n",
       "      <td>7</td>\n",
       "      <td>0.039703</td>\n",
       "      <td>0.009933</td>\n",
       "    </tr>\n",
       "    <tr>\n",
       "      <th>6</th>\n",
       "      <td>13.459300</td>\n",
       "      <td>0.616162</td>\n",
       "      <td>0.616158</td>\n",
       "      <td>2</td>\n",
       "      <td>0.1</td>\n",
       "      <td>7</td>\n",
       "      <td>0.039703</td>\n",
       "      <td>0.009933</td>\n",
       "    </tr>\n",
       "    <tr>\n",
       "      <th>8</th>\n",
       "      <td>27.619536</td>\n",
       "      <td>0.616162</td>\n",
       "      <td>0.616158</td>\n",
       "      <td>10</td>\n",
       "      <td>1</td>\n",
       "      <td>7</td>\n",
       "      <td>0.039703</td>\n",
       "      <td>0.009933</td>\n",
       "    </tr>\n",
       "    <tr>\n",
       "      <th>9</th>\n",
       "      <td>28.352684</td>\n",
       "      <td>0.616162</td>\n",
       "      <td>0.616158</td>\n",
       "      <td>10</td>\n",
       "      <td>1</td>\n",
       "      <td>7</td>\n",
       "      <td>0.039703</td>\n",
       "      <td>0.009933</td>\n",
       "    </tr>\n",
       "  </tbody>\n",
       "</table>\n",
       "</div>"
      ],
      "text/plain": [
       "   mean_fit_time  mean_test_score  mean_train_score param_cells  \\\n",
       "5      14.568671         0.799102          0.811729           6   \n",
       "7      18.073125         0.799102          0.812290           5   \n",
       "1      25.867062         0.795735          0.812850           8   \n",
       "0      14.258777         0.794613          0.814253           7   \n",
       "2       6.806915         0.793490          0.812570           4   \n",
       "4      11.391210         0.793490          0.811728           2   \n",
       "3      23.053953         0.616162          0.616158           7   \n",
       "6      13.459300         0.616162          0.616158           2   \n",
       "8      27.619536         0.616162          0.616158          10   \n",
       "9      28.352684         0.616162          0.616158          10   \n",
       "\n",
       "  param_regularization  rank_test_score  std_test_score  std_train_score  \n",
       "5                 0.01                1        0.025297         0.005749  \n",
       "7                 0.01                1        0.027167         0.005342  \n",
       "1                0.001                3        0.026245         0.006380  \n",
       "0                0.001                4        0.022645         0.005674  \n",
       "2                0.001                5        0.025975         0.005796  \n",
       "4                0.001                5        0.025975         0.006382  \n",
       "3                  0.1                7        0.039703         0.009933  \n",
       "6                  0.1                7        0.039703         0.009933  \n",
       "8                    1                7        0.039703         0.009933  \n",
       "9                    1                7        0.039703         0.009933  "
      ]
     },
     "execution_count": 5,
     "metadata": {},
     "output_type": "execute_result"
    }
   ],
   "source": [
    "results_df=pd.DataFrame(rscv.cv_results_)\n",
    "results_df.sort_values('rank_test_score',axis=0).drop(['param_batch_size', 'param_epochs','param_input_layer', 'params','mean_score_time','split0_test_score',\n",
    "       'split0_train_score', 'split1_test_score', 'split1_train_score',\n",
    "       'split2_test_score', 'split2_train_score', 'split3_test_score',\n",
    "       'split3_train_score', 'split4_test_score', 'split4_train_score',\n",
    "       'std_fit_time', 'std_score_time'],axis=1).head(10)"
   ]
  },
  {
   "cell_type": "markdown",
   "metadata": {
    "hidden": true
   },
   "source": [
    "## Data 2"
   ]
  },
  {
   "cell_type": "code",
   "execution_count": 6,
   "metadata": {
    "ExecuteTime": {
     "end_time": "2018-02-22T17:43:36.333616Z",
     "start_time": "2018-02-22T17:07:26.071456Z"
    },
    "hidden": true
   },
   "outputs": [
    {
     "name": "stdout",
     "output_type": "stream",
     "text": [
      "Fitting 5 folds for each of 10 candidates, totalling 50 fits\n"
     ]
    },
    {
     "name": "stderr",
     "output_type": "stream",
     "text": [
      "[Parallel(n_jobs=1)]: Done  50 out of  50 | elapsed: 35.1min finished\n"
     ]
    },
    {
     "data": {
      "text/plain": [
       "RandomizedSearchCV(cv=5, error_score='raise',\n",
       "          estimator=<keras.wrappers.scikit_learn.KerasClassifier object at 0x7f13d80bfa90>,\n",
       "          fit_params=None, iid=True, n_iter=10, n_jobs=1,\n",
       "          param_distributions={'batch_size': [1024], 'epochs': [2000, 3000, 4000, 5000, 6000, 7000, 8000, 9000, 10000], 'input_layer': [23], 'regularization': [1e-05, 0.0001, 0.001, 0.01, 0.1], 'cells': range(2, 11)},\n",
       "          pre_dispatch='2*n_jobs', random_state=None, refit=True,\n",
       "          return_train_score='warn', scoring='accuracy', verbose=1)"
      ]
     },
     "execution_count": 6,
     "metadata": {},
     "output_type": "execute_result"
    }
   ],
   "source": [
    "X=data_2.drop('Survived',axis=1).as_matrix()\n",
    "Y=data_2['Survived'].as_matrix()\n",
    "input_layer=X.shape[1]\n",
    "\n",
    "\n",
    "classifier = None\n",
    "classifier = KerasClassifier(build_fn=DNN_log_reg,verbose=0)\n",
    "\n",
    "param_distributions ={'batch_size': [1024],\n",
    "                      'epochs': [1000*x for x in range(2,11)],\n",
    "                      'input_layer' :[input_layer],\n",
    "                      'regularization':[0.00001,0.0001,0.001,0.01,0.1],\n",
    "                      'cells': range(2,11)\n",
    "                     }\n",
    "\n",
    "\n",
    "rscv=RandomizedSearchCV(estimator=classifier,\n",
    "                  param_distributions=param_distributions,\n",
    "                  scoring='accuracy',\n",
    "                  cv=5,\n",
    "                  verbose=1,\n",
    "                  n_iter=10)\n",
    "\n",
    "rscv.fit(X,Y)"
   ]
  },
  {
   "cell_type": "code",
   "execution_count": 7,
   "metadata": {
    "ExecuteTime": {
     "end_time": "2018-02-22T17:43:36.939503Z",
     "start_time": "2018-02-22T17:43:36.920073Z"
    },
    "hidden": true,
    "scrolled": true
   },
   "outputs": [
    {
     "data": {
      "text/html": [
       "<div>\n",
       "<style scoped>\n",
       "    .dataframe tbody tr th:only-of-type {\n",
       "        vertical-align: middle;\n",
       "    }\n",
       "\n",
       "    .dataframe tbody tr th {\n",
       "        vertical-align: top;\n",
       "    }\n",
       "\n",
       "    .dataframe thead th {\n",
       "        text-align: right;\n",
       "    }\n",
       "</style>\n",
       "<table border=\"1\" class=\"dataframe\">\n",
       "  <thead>\n",
       "    <tr style=\"text-align: right;\">\n",
       "      <th></th>\n",
       "      <th>mean_fit_time</th>\n",
       "      <th>mean_test_score</th>\n",
       "      <th>mean_train_score</th>\n",
       "      <th>param_cells</th>\n",
       "      <th>param_regularization</th>\n",
       "      <th>rank_test_score</th>\n",
       "      <th>std_test_score</th>\n",
       "      <th>std_train_score</th>\n",
       "    </tr>\n",
       "  </thead>\n",
       "  <tbody>\n",
       "    <tr>\n",
       "      <th>3</th>\n",
       "      <td>50.636481</td>\n",
       "      <td>0.799102</td>\n",
       "      <td>0.816219</td>\n",
       "      <td>5</td>\n",
       "      <td>0.01</td>\n",
       "      <td>1</td>\n",
       "      <td>0.028864</td>\n",
       "      <td>0.009153</td>\n",
       "    </tr>\n",
       "    <tr>\n",
       "      <th>0</th>\n",
       "      <td>14.752232</td>\n",
       "      <td>0.797980</td>\n",
       "      <td>0.814815</td>\n",
       "      <td>2</td>\n",
       "      <td>0.0001</td>\n",
       "      <td>2</td>\n",
       "      <td>0.024588</td>\n",
       "      <td>0.007305</td>\n",
       "    </tr>\n",
       "    <tr>\n",
       "      <th>6</th>\n",
       "      <td>52.917723</td>\n",
       "      <td>0.796857</td>\n",
       "      <td>0.813132</td>\n",
       "      <td>5</td>\n",
       "      <td>0.0001</td>\n",
       "      <td>3</td>\n",
       "      <td>0.019323</td>\n",
       "      <td>0.006985</td>\n",
       "    </tr>\n",
       "    <tr>\n",
       "      <th>7</th>\n",
       "      <td>47.983652</td>\n",
       "      <td>0.795735</td>\n",
       "      <td>0.819304</td>\n",
       "      <td>2</td>\n",
       "      <td>0.001</td>\n",
       "      <td>4</td>\n",
       "      <td>0.024187</td>\n",
       "      <td>0.006713</td>\n",
       "    </tr>\n",
       "    <tr>\n",
       "      <th>8</th>\n",
       "      <td>41.995564</td>\n",
       "      <td>0.795735</td>\n",
       "      <td>0.815658</td>\n",
       "      <td>9</td>\n",
       "      <td>0.0001</td>\n",
       "      <td>4</td>\n",
       "      <td>0.020591</td>\n",
       "      <td>0.008178</td>\n",
       "    </tr>\n",
       "    <tr>\n",
       "      <th>9</th>\n",
       "      <td>29.987378</td>\n",
       "      <td>0.795735</td>\n",
       "      <td>0.817340</td>\n",
       "      <td>10</td>\n",
       "      <td>0.01</td>\n",
       "      <td>4</td>\n",
       "      <td>0.029152</td>\n",
       "      <td>0.008187</td>\n",
       "    </tr>\n",
       "    <tr>\n",
       "      <th>1</th>\n",
       "      <td>14.414760</td>\n",
       "      <td>0.794613</td>\n",
       "      <td>0.815659</td>\n",
       "      <td>9</td>\n",
       "      <td>0.0001</td>\n",
       "      <td>7</td>\n",
       "      <td>0.018677</td>\n",
       "      <td>0.007716</td>\n",
       "    </tr>\n",
       "    <tr>\n",
       "      <th>4</th>\n",
       "      <td>51.495830</td>\n",
       "      <td>0.794613</td>\n",
       "      <td>0.814535</td>\n",
       "      <td>7</td>\n",
       "      <td>0.0001</td>\n",
       "      <td>7</td>\n",
       "      <td>0.020673</td>\n",
       "      <td>0.007097</td>\n",
       "    </tr>\n",
       "    <tr>\n",
       "      <th>5</th>\n",
       "      <td>65.214982</td>\n",
       "      <td>0.794613</td>\n",
       "      <td>0.816499</td>\n",
       "      <td>3</td>\n",
       "      <td>0.01</td>\n",
       "      <td>7</td>\n",
       "      <td>0.028944</td>\n",
       "      <td>0.009257</td>\n",
       "    </tr>\n",
       "    <tr>\n",
       "      <th>2</th>\n",
       "      <td>39.027358</td>\n",
       "      <td>0.791246</td>\n",
       "      <td>0.815936</td>\n",
       "      <td>5</td>\n",
       "      <td>0.001</td>\n",
       "      <td>10</td>\n",
       "      <td>0.022210</td>\n",
       "      <td>0.009600</td>\n",
       "    </tr>\n",
       "  </tbody>\n",
       "</table>\n",
       "</div>"
      ],
      "text/plain": [
       "   mean_fit_time  mean_test_score  mean_train_score param_cells  \\\n",
       "3      50.636481         0.799102          0.816219           5   \n",
       "0      14.752232         0.797980          0.814815           2   \n",
       "6      52.917723         0.796857          0.813132           5   \n",
       "7      47.983652         0.795735          0.819304           2   \n",
       "8      41.995564         0.795735          0.815658           9   \n",
       "9      29.987378         0.795735          0.817340          10   \n",
       "1      14.414760         0.794613          0.815659           9   \n",
       "4      51.495830         0.794613          0.814535           7   \n",
       "5      65.214982         0.794613          0.816499           3   \n",
       "2      39.027358         0.791246          0.815936           5   \n",
       "\n",
       "  param_regularization  rank_test_score  std_test_score  std_train_score  \n",
       "3                 0.01                1        0.028864         0.009153  \n",
       "0               0.0001                2        0.024588         0.007305  \n",
       "6               0.0001                3        0.019323         0.006985  \n",
       "7                0.001                4        0.024187         0.006713  \n",
       "8               0.0001                4        0.020591         0.008178  \n",
       "9                 0.01                4        0.029152         0.008187  \n",
       "1               0.0001                7        0.018677         0.007716  \n",
       "4               0.0001                7        0.020673         0.007097  \n",
       "5                 0.01                7        0.028944         0.009257  \n",
       "2                0.001               10        0.022210         0.009600  "
      ]
     },
     "execution_count": 7,
     "metadata": {},
     "output_type": "execute_result"
    }
   ],
   "source": [
    "results_df=pd.DataFrame(rscv.cv_results_)\n",
    "results_df.sort_values('rank_test_score',axis=0).drop(['param_batch_size', 'param_epochs','param_input_layer', 'params','mean_score_time','split0_test_score',\n",
    "       'split0_train_score', 'split1_test_score', 'split1_train_score',\n",
    "       'split2_test_score', 'split2_train_score', 'split3_test_score',\n",
    "       'split3_train_score', 'split4_test_score', 'split4_train_score',\n",
    "       'std_fit_time', 'std_score_time'],axis=1).head(10)"
   ]
  },
  {
   "cell_type": "markdown",
   "metadata": {
    "hidden": true
   },
   "source": [
    "## Data 3"
   ]
  },
  {
   "cell_type": "code",
   "execution_count": 8,
   "metadata": {
    "ExecuteTime": {
     "end_time": "2018-02-22T17:43:36.333616Z",
     "start_time": "2018-02-22T17:07:26.071456Z"
    },
    "hidden": true
   },
   "outputs": [
    {
     "name": "stdout",
     "output_type": "stream",
     "text": [
      "Fitting 5 folds for each of 10 candidates, totalling 50 fits\n"
     ]
    },
    {
     "name": "stderr",
     "output_type": "stream",
     "text": [
      "[Parallel(n_jobs=1)]: Done  50 out of  50 | elapsed: 35.8min finished\n"
     ]
    },
    {
     "data": {
      "text/plain": [
       "RandomizedSearchCV(cv=5, error_score='raise',\n",
       "          estimator=<keras.wrappers.scikit_learn.KerasClassifier object at 0x7f13b8be6278>,\n",
       "          fit_params=None, iid=True, n_iter=10, n_jobs=1,\n",
       "          param_distributions={'batch_size': [1024], 'epochs': [2000, 3000, 4000, 5000, 6000, 7000, 8000, 9000, 10000], 'input_layer': [27], 'regularization': [1e-05, 0.0001, 0.001, 0.01, 0.1], 'cells': range(2, 11)},\n",
       "          pre_dispatch='2*n_jobs', random_state=None, refit=True,\n",
       "          return_train_score='warn', scoring='accuracy', verbose=1)"
      ]
     },
     "execution_count": 8,
     "metadata": {},
     "output_type": "execute_result"
    }
   ],
   "source": [
    "X=data_3.drop('Survived',axis=1).as_matrix()\n",
    "Y=data_3['Survived'].as_matrix()\n",
    "input_layer=X.shape[1]\n",
    "\n",
    "\n",
    "classifier = None\n",
    "classifier = KerasClassifier(build_fn=DNN_log_reg,verbose=0)\n",
    "\n",
    "param_distributions ={'batch_size': [1024],\n",
    "                      'epochs': [1000*x for x in range(2,11)],\n",
    "                      'input_layer' :[input_layer],\n",
    "                      'regularization':[0.00001,0.0001,0.001,0.01,0.1],\n",
    "                      'cells': range(2,11)\n",
    "                     }\n",
    "\n",
    "\n",
    "rscv=RandomizedSearchCV(estimator=classifier,\n",
    "                  param_distributions=param_distributions,\n",
    "                  scoring='accuracy',\n",
    "                  cv=5,\n",
    "                  verbose=1,\n",
    "                  n_iter=10)\n",
    "\n",
    "rscv.fit(X,Y)"
   ]
  },
  {
   "cell_type": "code",
   "execution_count": 9,
   "metadata": {
    "ExecuteTime": {
     "end_time": "2018-02-22T17:43:36.939503Z",
     "start_time": "2018-02-22T17:43:36.920073Z"
    },
    "hidden": true,
    "scrolled": false
   },
   "outputs": [
    {
     "data": {
      "text/html": [
       "<div>\n",
       "<style scoped>\n",
       "    .dataframe tbody tr th:only-of-type {\n",
       "        vertical-align: middle;\n",
       "    }\n",
       "\n",
       "    .dataframe tbody tr th {\n",
       "        vertical-align: top;\n",
       "    }\n",
       "\n",
       "    .dataframe thead th {\n",
       "        text-align: right;\n",
       "    }\n",
       "</style>\n",
       "<table border=\"1\" class=\"dataframe\">\n",
       "  <thead>\n",
       "    <tr style=\"text-align: right;\">\n",
       "      <th></th>\n",
       "      <th>mean_fit_time</th>\n",
       "      <th>mean_test_score</th>\n",
       "      <th>mean_train_score</th>\n",
       "      <th>param_cells</th>\n",
       "      <th>param_regularization</th>\n",
       "      <th>rank_test_score</th>\n",
       "      <th>std_test_score</th>\n",
       "      <th>std_train_score</th>\n",
       "    </tr>\n",
       "  </thead>\n",
       "  <tbody>\n",
       "    <tr>\n",
       "      <th>5</th>\n",
       "      <td>19.727894</td>\n",
       "      <td>0.822671</td>\n",
       "      <td>0.838946</td>\n",
       "      <td>9</td>\n",
       "      <td>0.001</td>\n",
       "      <td>1</td>\n",
       "      <td>0.026979</td>\n",
       "      <td>0.007412</td>\n",
       "    </tr>\n",
       "    <tr>\n",
       "      <th>6</th>\n",
       "      <td>46.448713</td>\n",
       "      <td>0.815937</td>\n",
       "      <td>0.838666</td>\n",
       "      <td>8</td>\n",
       "      <td>0.0001</td>\n",
       "      <td>2</td>\n",
       "      <td>0.029958</td>\n",
       "      <td>0.007118</td>\n",
       "    </tr>\n",
       "    <tr>\n",
       "      <th>1</th>\n",
       "      <td>31.168279</td>\n",
       "      <td>0.814815</td>\n",
       "      <td>0.839788</td>\n",
       "      <td>7</td>\n",
       "      <td>0.0001</td>\n",
       "      <td>3</td>\n",
       "      <td>0.029882</td>\n",
       "      <td>0.007036</td>\n",
       "    </tr>\n",
       "    <tr>\n",
       "      <th>3</th>\n",
       "      <td>44.986054</td>\n",
       "      <td>0.814815</td>\n",
       "      <td>0.837261</td>\n",
       "      <td>4</td>\n",
       "      <td>1e-05</td>\n",
       "      <td>3</td>\n",
       "      <td>0.027918</td>\n",
       "      <td>0.006479</td>\n",
       "    </tr>\n",
       "    <tr>\n",
       "      <th>0</th>\n",
       "      <td>37.064299</td>\n",
       "      <td>0.813692</td>\n",
       "      <td>0.837540</td>\n",
       "      <td>3</td>\n",
       "      <td>1e-05</td>\n",
       "      <td>5</td>\n",
       "      <td>0.029288</td>\n",
       "      <td>0.006935</td>\n",
       "    </tr>\n",
       "    <tr>\n",
       "      <th>8</th>\n",
       "      <td>41.038134</td>\n",
       "      <td>0.813692</td>\n",
       "      <td>0.838384</td>\n",
       "      <td>8</td>\n",
       "      <td>0.0001</td>\n",
       "      <td>5</td>\n",
       "      <td>0.028855</td>\n",
       "      <td>0.008836</td>\n",
       "    </tr>\n",
       "    <tr>\n",
       "      <th>7</th>\n",
       "      <td>36.432313</td>\n",
       "      <td>0.812570</td>\n",
       "      <td>0.837823</td>\n",
       "      <td>7</td>\n",
       "      <td>0.0001</td>\n",
       "      <td>7</td>\n",
       "      <td>0.030896</td>\n",
       "      <td>0.006039</td>\n",
       "    </tr>\n",
       "    <tr>\n",
       "      <th>2</th>\n",
       "      <td>44.060880</td>\n",
       "      <td>0.809203</td>\n",
       "      <td>0.834736</td>\n",
       "      <td>10</td>\n",
       "      <td>0.0001</td>\n",
       "      <td>8</td>\n",
       "      <td>0.030912</td>\n",
       "      <td>0.007401</td>\n",
       "    </tr>\n",
       "    <tr>\n",
       "      <th>4</th>\n",
       "      <td>65.418357</td>\n",
       "      <td>0.616162</td>\n",
       "      <td>0.616158</td>\n",
       "      <td>5</td>\n",
       "      <td>0.1</td>\n",
       "      <td>9</td>\n",
       "      <td>0.039703</td>\n",
       "      <td>0.009933</td>\n",
       "    </tr>\n",
       "    <tr>\n",
       "      <th>9</th>\n",
       "      <td>41.844631</td>\n",
       "      <td>0.616162</td>\n",
       "      <td>0.616158</td>\n",
       "      <td>7</td>\n",
       "      <td>0.1</td>\n",
       "      <td>9</td>\n",
       "      <td>0.039703</td>\n",
       "      <td>0.009933</td>\n",
       "    </tr>\n",
       "  </tbody>\n",
       "</table>\n",
       "</div>"
      ],
      "text/plain": [
       "   mean_fit_time  mean_test_score  mean_train_score param_cells  \\\n",
       "5      19.727894         0.822671          0.838946           9   \n",
       "6      46.448713         0.815937          0.838666           8   \n",
       "1      31.168279         0.814815          0.839788           7   \n",
       "3      44.986054         0.814815          0.837261           4   \n",
       "0      37.064299         0.813692          0.837540           3   \n",
       "8      41.038134         0.813692          0.838384           8   \n",
       "7      36.432313         0.812570          0.837823           7   \n",
       "2      44.060880         0.809203          0.834736          10   \n",
       "4      65.418357         0.616162          0.616158           5   \n",
       "9      41.844631         0.616162          0.616158           7   \n",
       "\n",
       "  param_regularization  rank_test_score  std_test_score  std_train_score  \n",
       "5                0.001                1        0.026979         0.007412  \n",
       "6               0.0001                2        0.029958         0.007118  \n",
       "1               0.0001                3        0.029882         0.007036  \n",
       "3                1e-05                3        0.027918         0.006479  \n",
       "0                1e-05                5        0.029288         0.006935  \n",
       "8               0.0001                5        0.028855         0.008836  \n",
       "7               0.0001                7        0.030896         0.006039  \n",
       "2               0.0001                8        0.030912         0.007401  \n",
       "4                  0.1                9        0.039703         0.009933  \n",
       "9                  0.1                9        0.039703         0.009933  "
      ]
     },
     "execution_count": 9,
     "metadata": {},
     "output_type": "execute_result"
    }
   ],
   "source": [
    "results_df=pd.DataFrame(rscv.cv_results_)\n",
    "results_df.sort_values('rank_test_score',axis=0).drop(['param_batch_size', 'param_epochs','param_input_layer', 'params','mean_score_time','split0_test_score',\n",
    "       'split0_train_score', 'split1_test_score', 'split1_train_score',\n",
    "       'split2_test_score', 'split2_train_score', 'split3_test_score',\n",
    "       'split3_train_score', 'split4_test_score', 'split4_train_score',\n",
    "       'std_fit_time', 'std_score_time'],axis=1).head(10)"
   ]
  },
  {
   "cell_type": "markdown",
   "metadata": {},
   "source": [
    "# Gradient Boost"
   ]
  },
  {
   "cell_type": "code",
   "execution_count": 1,
   "metadata": {
    "ExecuteTime": {
     "end_time": "2018-02-26T14:13:10.498305Z",
     "start_time": "2018-02-26T14:13:10.267110Z"
    },
    "collapsed": true
   },
   "outputs": [],
   "source": [
    "from sklearn.ensemble import GradientBoostingClassifier"
   ]
  },
  {
   "cell_type": "code",
   "execution_count": 5,
   "metadata": {
    "ExecuteTime": {
     "end_time": "2018-02-26T14:14:06.950517Z",
     "start_time": "2018-02-26T14:14:06.837624Z"
    }
   },
   "outputs": [
    {
     "ename": "AttributeError",
     "evalue": "'int' object has no attribute 'index'",
     "output_type": "error",
     "traceback": [
      "\u001b[0;31m---------------------------------------------------------------------------\u001b[0m",
      "\u001b[0;31mAttributeError\u001b[0m                            Traceback (most recent call last)",
      "\u001b[0;32m<ipython-input-5-af3aec6395a5>\u001b[0m in \u001b[0;36m<module>\u001b[0;34m()\u001b[0m\n\u001b[1;32m      1\u001b[0m \u001b[0mX\u001b[0m\u001b[0;34m=\u001b[0m\u001b[0mdata_1\u001b[0m\u001b[0;34m.\u001b[0m\u001b[0mdrop\u001b[0m\u001b[0;34m(\u001b[0m\u001b[0;34m'Survived'\u001b[0m\u001b[0;34m,\u001b[0m\u001b[0maxis\u001b[0m\u001b[0;34m=\u001b[0m\u001b[0;36m1\u001b[0m\u001b[0;34m)\u001b[0m\u001b[0;34m.\u001b[0m\u001b[0mas_matrix\u001b[0m\u001b[0;34m(\u001b[0m\u001b[0;34m)\u001b[0m\u001b[0;34m\u001b[0m\u001b[0m\n\u001b[1;32m      2\u001b[0m \u001b[0mY\u001b[0m\u001b[0;34m=\u001b[0m\u001b[0mdata_1\u001b[0m\u001b[0;34m[\u001b[0m\u001b[0;34m'Survived'\u001b[0m\u001b[0;34m]\u001b[0m\u001b[0;34m.\u001b[0m\u001b[0mas_matrix\u001b[0m\u001b[0;34m(\u001b[0m\u001b[0;34m)\u001b[0m\u001b[0;34m\u001b[0m\u001b[0m\n\u001b[0;32m----> 3\u001b[0;31m \u001b[0mY_classes\u001b[0m \u001b[0;34m=\u001b[0m \u001b[0;34m[\u001b[0m\u001b[0mx\u001b[0m\u001b[0;34m.\u001b[0m\u001b[0mtolist\u001b[0m\u001b[0;34m(\u001b[0m\u001b[0;34m)\u001b[0m\u001b[0;34m.\u001b[0m\u001b[0mindex\u001b[0m\u001b[0;34m(\u001b[0m\u001b[0;36m1\u001b[0m\u001b[0;34m)\u001b[0m \u001b[0;32mfor\u001b[0m \u001b[0mx\u001b[0m \u001b[0;32min\u001b[0m \u001b[0mY\u001b[0m\u001b[0;34m]\u001b[0m\u001b[0;34m\u001b[0m\u001b[0m\n\u001b[0m\u001b[1;32m      4\u001b[0m \u001b[0;34m\u001b[0m\u001b[0m\n\u001b[1;32m      5\u001b[0m \u001b[0mclassif_GBC\u001b[0m \u001b[0;34m=\u001b[0m \u001b[0mOneVsRestClassifier\u001b[0m\u001b[0;34m(\u001b[0m\u001b[0mestimator\u001b[0m\u001b[0;34m=\u001b[0m\u001b[0mGradientBoostingClassifier\u001b[0m\u001b[0;34m(\u001b[0m\u001b[0;34m)\u001b[0m\u001b[0;34m)\u001b[0m\u001b[0;34m\u001b[0m\u001b[0m\n",
      "\u001b[0;32m<ipython-input-5-af3aec6395a5>\u001b[0m in \u001b[0;36m<listcomp>\u001b[0;34m(.0)\u001b[0m\n\u001b[1;32m      1\u001b[0m \u001b[0mX\u001b[0m\u001b[0;34m=\u001b[0m\u001b[0mdata_1\u001b[0m\u001b[0;34m.\u001b[0m\u001b[0mdrop\u001b[0m\u001b[0;34m(\u001b[0m\u001b[0;34m'Survived'\u001b[0m\u001b[0;34m,\u001b[0m\u001b[0maxis\u001b[0m\u001b[0;34m=\u001b[0m\u001b[0;36m1\u001b[0m\u001b[0;34m)\u001b[0m\u001b[0;34m.\u001b[0m\u001b[0mas_matrix\u001b[0m\u001b[0;34m(\u001b[0m\u001b[0;34m)\u001b[0m\u001b[0;34m\u001b[0m\u001b[0m\n\u001b[1;32m      2\u001b[0m \u001b[0mY\u001b[0m\u001b[0;34m=\u001b[0m\u001b[0mdata_1\u001b[0m\u001b[0;34m[\u001b[0m\u001b[0;34m'Survived'\u001b[0m\u001b[0;34m]\u001b[0m\u001b[0;34m.\u001b[0m\u001b[0mas_matrix\u001b[0m\u001b[0;34m(\u001b[0m\u001b[0;34m)\u001b[0m\u001b[0;34m\u001b[0m\u001b[0m\n\u001b[0;32m----> 3\u001b[0;31m \u001b[0mY_classes\u001b[0m \u001b[0;34m=\u001b[0m \u001b[0;34m[\u001b[0m\u001b[0mx\u001b[0m\u001b[0;34m.\u001b[0m\u001b[0mtolist\u001b[0m\u001b[0;34m(\u001b[0m\u001b[0;34m)\u001b[0m\u001b[0;34m.\u001b[0m\u001b[0mindex\u001b[0m\u001b[0;34m(\u001b[0m\u001b[0;36m1\u001b[0m\u001b[0;34m)\u001b[0m \u001b[0;32mfor\u001b[0m \u001b[0mx\u001b[0m \u001b[0;32min\u001b[0m \u001b[0mY\u001b[0m\u001b[0;34m]\u001b[0m\u001b[0;34m\u001b[0m\u001b[0m\n\u001b[0m\u001b[1;32m      4\u001b[0m \u001b[0;34m\u001b[0m\u001b[0m\n\u001b[1;32m      5\u001b[0m \u001b[0mclassif_GBC\u001b[0m \u001b[0;34m=\u001b[0m \u001b[0mOneVsRestClassifier\u001b[0m\u001b[0;34m(\u001b[0m\u001b[0mestimator\u001b[0m\u001b[0;34m=\u001b[0m\u001b[0mGradientBoostingClassifier\u001b[0m\u001b[0;34m(\u001b[0m\u001b[0;34m)\u001b[0m\u001b[0;34m)\u001b[0m\u001b[0;34m\u001b[0m\u001b[0m\n",
      "\u001b[0;31mAttributeError\u001b[0m: 'int' object has no attribute 'index'"
     ]
    }
   ],
   "source": [
    "X=data_1.drop('Survived',axis=1).as_matrix()\n",
    "Y=data_1['Survived'].as_matrix()\n",
    "Y_classes = [x.tolist().index(1) for x in Y]\n",
    "\n",
    "classif_GBC = OneVsRestClassifier(estimator=GradientBoostingClassifier())\n",
    "\n",
    "\n",
    "scores=cross_val_score(classif_GBC,X=X,y=Y_classes,cv=cv_global)\n",
    "print(\"%0.4f (+/- %0.4f)\" % (scores.mean(), scores.std() * 2))"
   ]
  },
  {
   "cell_type": "code",
   "execution_count": null,
   "metadata": {
    "collapsed": true
   },
   "outputs": [],
   "source": []
  }
 ],
 "metadata": {
  "kernelspec": {
   "display_name": "Python 3",
   "language": "python",
   "name": "python3"
  },
  "language_info": {
   "codemirror_mode": {
    "name": "ipython",
    "version": 3
   },
   "file_extension": ".py",
   "mimetype": "text/x-python",
   "name": "python",
   "nbconvert_exporter": "python",
   "pygments_lexer": "ipython3",
   "version": "3.6.4"
  },
  "toc": {
   "nav_menu": {},
   "number_sections": true,
   "sideBar": true,
   "skip_h1_title": false,
   "title_cell": "Table of Contents",
   "title_sidebar": "Contents",
   "toc_cell": false,
   "toc_position": {},
   "toc_section_display": true,
   "toc_window_display": false
  },
  "varInspector": {
   "cols": {
    "lenName": 16,
    "lenType": 16,
    "lenVar": 40
   },
   "kernels_config": {
    "python": {
     "delete_cmd_postfix": "",
     "delete_cmd_prefix": "del ",
     "library": "var_list.py",
     "varRefreshCmd": "print(var_dic_list())"
    },
    "r": {
     "delete_cmd_postfix": ") ",
     "delete_cmd_prefix": "rm(",
     "library": "var_list.r",
     "varRefreshCmd": "cat(var_dic_list()) "
    }
   },
   "types_to_exclude": [
    "module",
    "function",
    "builtin_function_or_method",
    "instance",
    "_Feature"
   ],
   "window_display": false
  }
 },
 "nbformat": 4,
 "nbformat_minor": 2
}
