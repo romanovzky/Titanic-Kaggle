{
 "cells": [
  {
   "cell_type": "code",
   "execution_count": 13,
   "metadata": {
    "ExecuteTime": {
     "end_time": "2018-02-21T11:26:25.975330Z",
     "start_time": "2018-02-21T11:26:25.954212Z"
    },
    "collapsed": true
   },
   "outputs": [],
   "source": [
    "import warnings\n",
    "warnings.filterwarnings('ignore')\n",
    "\n",
    "import pandas as pd\n",
    "import numpy as np\n",
    "import matplotlib.pyplot as plt\n",
    "import seaborn as sns\n",
    "%matplotlib inline\n",
    "\n",
    "from sklearn.model_selection import cross_val_score, GridSearchCV, RandomizedSearchCV\n",
    "from sklearn.preprocessing import PolynomialFeatures\n",
    "from sklearn.linear_model import LogisticRegression\n",
    "from sklearn.ensemble import RandomForestClassifier, VotingClassifier\n",
    "from sklearn.neighbors import KNeighborsClassifier\n",
    "from sklearn import svm\n",
    "\n",
    "from scipy.stats import randint as sp_randint"
   ]
  },
  {
   "cell_type": "code",
   "execution_count": 8,
   "metadata": {
    "ExecuteTime": {
     "end_time": "2018-02-21T11:22:15.443823Z",
     "start_time": "2018-02-21T11:22:15.275352Z"
    },
    "collapsed": true
   },
   "outputs": [],
   "source": [
    "dataset='old'#'new' or 'old'\n",
    "\n",
    "test_1 = pd.read_csv('data_test_1.csv',index_col='PassengerId').drop(['Missing_Embark','Missing_Deck'],axis=1)\n",
    "test_2 = pd.read_csv('data_test_2.csv',index_col='PassengerId').drop(['Missing_Embark','Missing_Deck'],axis=1)\n",
    "test_3 = pd.read_csv('data_test_3.csv',index_col='PassengerId').drop(['Missing_Embark','Missing_Deck'],axis=1)\n",
    "\n",
    "if(dataset=='old'):\n",
    "    data_1 = pd.read_csv('data_train_1.csv',index_col='PassengerId').drop(['Missing_Embark','Missing_Deck'],axis=1)\n",
    "    data_2 = pd.read_csv('data_train_2.csv',index_col='PassengerId').drop(['Missing_Embark','Missing_Deck'],axis=1)\n",
    "    data_3 = pd.read_csv('data_train_3.csv',index_col='PassengerId').drop(['Missing_Embark','Missing_Deck'],axis=1)\n",
    "    \n",
    "if(dataset=='new'):\n",
    "    data_1 = pd.read_csv('data_train_1_new.csv',index_col='PassengerId').drop(['Missing_Embark','Missing_Deck'],axis=1)\n",
    "    data_2 = pd.read_csv('data_train_2_new.csv',index_col='PassengerId').drop(['Missing_Embark','Missing_Deck'],axis=1)\n",
    "    data_3 = pd.read_csv('data_train_3_new.csv',index_col='PassengerId').drop(['Missing_Embark','Missing_Deck'],axis=1)"
   ]
  },
  {
   "cell_type": "markdown",
   "metadata": {},
   "source": [
    "# Logistic Regression"
   ]
  },
  {
   "cell_type": "markdown",
   "metadata": {},
   "source": [
    "## Data Type 3"
   ]
  },
  {
   "cell_type": "code",
   "execution_count": 39,
   "metadata": {
    "ExecuteTime": {
     "end_time": "2018-02-20T17:59:05.996141Z",
     "start_time": "2018-02-20T17:59:05.501893Z"
    }
   },
   "outputs": [
    {
     "data": {
      "text/plain": [
       "LogisticRegression(C=0.5, class_weight=None, dual=False, fit_intercept=True,\n",
       "          intercept_scaling=1, max_iter=100, multi_class='ovr', n_jobs=1,\n",
       "          penalty='l2', random_state=None, solver='sag', tol=0.0001,\n",
       "          verbose=0, warm_start=False)"
      ]
     },
     "execution_count": 39,
     "metadata": {},
     "output_type": "execute_result"
    }
   ],
   "source": [
    "X=data_3.drop('Survived',axis=1).as_matrix()\n",
    "Y=data_3['Survived'].as_matrix()\n",
    "\n",
    "poly = PolynomialFeatures(4)#\n",
    "X_poly = poly.fit_transform(X)\n",
    "\n",
    "logmodel = LogisticRegression(C=0.5,solver='sag')\n",
    "logmodel.fit(X,Y)"
   ]
  },
  {
   "cell_type": "code",
   "execution_count": 40,
   "metadata": {
    "ExecuteTime": {
     "end_time": "2018-02-20T17:59:27.242306Z",
     "start_time": "2018-02-20T17:59:27.171087Z"
    },
    "collapsed": true
   },
   "outputs": [],
   "source": [
    "predictions=rfc.predict(test_3)\n",
    "pd.DataFrame(predictions,columns=['Survived'],index=test_3.index).to_csv('./predictions_LR_X_data_3.csv')"
   ]
  },
  {
   "cell_type": "markdown",
   "metadata": {
    "heading_collapsed": true
   },
   "source": [
    "# RFC"
   ]
  },
  {
   "cell_type": "markdown",
   "metadata": {
    "heading_collapsed": true,
    "hidden": true
   },
   "source": [
    "## Data Type 3"
   ]
  },
  {
   "cell_type": "code",
   "execution_count": 37,
   "metadata": {
    "ExecuteTime": {
     "end_time": "2018-02-20T17:43:37.670942Z",
     "start_time": "2018-02-20T17:43:36.933678Z"
    },
    "hidden": true
   },
   "outputs": [
    {
     "data": {
      "text/plain": [
       "RandomForestClassifier(bootstrap=True, class_weight=None, criterion='gini',\n",
       "            max_depth=None, max_features='auto', max_leaf_nodes=None,\n",
       "            min_impurity_decrease=0.0, min_impurity_split=None,\n",
       "            min_samples_leaf=1, min_samples_split=2,\n",
       "            min_weight_fraction_leaf=0.0, n_estimators=500, n_jobs=1,\n",
       "            oob_score=False, random_state=None, verbose=0,\n",
       "            warm_start=False)"
      ]
     },
     "execution_count": 37,
     "metadata": {},
     "output_type": "execute_result"
    }
   ],
   "source": [
    "X=data_3.drop('Survived',axis=1).as_matrix()\n",
    "Y=data_3['Survived'].as_matrix()\n",
    "rfc = RandomForestClassifier(n_estimators=500)\n",
    "rfc.fit(X,Y)"
   ]
  },
  {
   "cell_type": "code",
   "execution_count": 38,
   "metadata": {
    "ExecuteTime": {
     "end_time": "2018-02-20T17:43:47.475130Z",
     "start_time": "2018-02-20T17:43:47.405009Z"
    },
    "collapsed": true,
    "hidden": true
   },
   "outputs": [],
   "source": [
    "predictions=rfc.predict(test_3)\n",
    "pd.DataFrame(predictions,columns=['Survived'],index=test_3.index).to_csv('./predictions_RFC_data_3.csv')"
   ]
  },
  {
   "cell_type": "markdown",
   "metadata": {
    "heading_collapsed": true
   },
   "source": [
    "# KNN"
   ]
  },
  {
   "cell_type": "markdown",
   "metadata": {
    "hidden": true
   },
   "source": [
    "## Data 3"
   ]
  },
  {
   "cell_type": "code",
   "execution_count": 35,
   "metadata": {
    "ExecuteTime": {
     "end_time": "2018-02-20T17:23:54.614923Z",
     "start_time": "2018-02-20T17:23:54.604912Z"
    },
    "hidden": true
   },
   "outputs": [
    {
     "data": {
      "text/plain": [
       "KNeighborsClassifier(algorithm='auto', leaf_size=30, metric='minkowski',\n",
       "           metric_params=None, n_jobs=1, n_neighbors=17, p=2,\n",
       "           weights='uniform')"
      ]
     },
     "execution_count": 35,
     "metadata": {},
     "output_type": "execute_result"
    }
   ],
   "source": [
    "X=data_3.drop('Survived',axis=1).as_matrix()\n",
    "Y=data_3['Survived'].as_matrix()\n",
    "knn = KNeighborsClassifier(n_neighbors=17,p=2)\n",
    "knn.fit(X,Y)"
   ]
  },
  {
   "cell_type": "code",
   "execution_count": 36,
   "metadata": {
    "ExecuteTime": {
     "end_time": "2018-02-20T17:24:37.233249Z",
     "start_time": "2018-02-20T17:24:37.215196Z"
    },
    "collapsed": true,
    "hidden": true
   },
   "outputs": [],
   "source": [
    "predictions=knn.predict(test_3)\n",
    "pd.DataFrame(predictions,columns=['Survived'],index=test_3.index).to_csv('./predictions_KNN_data_3.csv')"
   ]
  },
  {
   "cell_type": "markdown",
   "metadata": {},
   "source": [
    "# SVM"
   ]
  },
  {
   "cell_type": "markdown",
   "metadata": {
    "heading_collapsed": true
   },
   "source": [
    "## Data 1"
   ]
  },
  {
   "cell_type": "code",
   "execution_count": 20,
   "metadata": {
    "ExecuteTime": {
     "end_time": "2018-02-20T15:23:49.520963Z",
     "start_time": "2018-02-20T15:23:49.397828Z"
    },
    "hidden": true
   },
   "outputs": [
    {
     "data": {
      "text/plain": [
       "SVC(C=750, cache_size=200, class_weight=None, coef0=0.0,\n",
       "  decision_function_shape='ovr', degree=5, gamma='auto', kernel='poly',\n",
       "  max_iter=-1, probability=False, random_state=None, shrinking=True,\n",
       "  tol=0.001, verbose=False)"
      ]
     },
     "execution_count": 20,
     "metadata": {},
     "output_type": "execute_result"
    }
   ],
   "source": [
    "X=data_1.drop('Survived',axis=1).as_matrix()\n",
    "Y=data_1['Survived'].as_matrix()\n",
    "svm_class = svm.SVC(kernel='poly',degree=5,C=750)\n",
    "\n",
    "svm_class.fit(X,Y)"
   ]
  },
  {
   "cell_type": "code",
   "execution_count": 22,
   "metadata": {
    "ExecuteTime": {
     "end_time": "2018-02-20T15:24:02.917682Z",
     "start_time": "2018-02-20T15:24:02.906709Z"
    },
    "collapsed": true,
    "hidden": true
   },
   "outputs": [],
   "source": [
    "predictions=svm_class.predict(test_1)\n",
    "pd.DataFrame(predictions,columns=['Survived'],index=test_1.index).to_csv('./predictions_SVM_data_1.csv')"
   ]
  },
  {
   "cell_type": "markdown",
   "metadata": {
    "heading_collapsed": true
   },
   "source": [
    "## Data 2"
   ]
  },
  {
   "cell_type": "code",
   "execution_count": 24,
   "metadata": {
    "ExecuteTime": {
     "end_time": "2018-02-20T15:35:03.220957Z",
     "start_time": "2018-02-20T15:35:03.174095Z"
    },
    "hidden": true
   },
   "outputs": [
    {
     "data": {
      "text/plain": [
       "SVC(C=100, cache_size=200, class_weight=None, coef0=0.0,\n",
       "  decision_function_shape='ovr', degree=3, gamma='auto', kernel='poly',\n",
       "  max_iter=-1, probability=False, random_state=None, shrinking=True,\n",
       "  tol=0.001, verbose=False)"
      ]
     },
     "execution_count": 24,
     "metadata": {},
     "output_type": "execute_result"
    }
   ],
   "source": [
    "X=data_2.drop('Survived',axis=1).as_matrix()\n",
    "Y=data_2['Survived'].as_matrix()\n",
    "svm_class = svm.SVC(kernel='poly',degree=3,C=100)\n",
    "\n",
    "svm_class.fit(X,Y)"
   ]
  },
  {
   "cell_type": "code",
   "execution_count": 25,
   "metadata": {
    "ExecuteTime": {
     "end_time": "2018-02-20T15:35:05.271710Z",
     "start_time": "2018-02-20T15:35:05.263203Z"
    },
    "collapsed": true,
    "hidden": true
   },
   "outputs": [],
   "source": [
    "predictions=svm_class.predict(test_2)\n",
    "pd.DataFrame(predictions,columns=['Survived'],index=test_2.index).to_csv('./predictions_SVM_data_2.csv')"
   ]
  },
  {
   "cell_type": "code",
   "execution_count": null,
   "metadata": {
    "collapsed": true,
    "hidden": true
   },
   "outputs": [],
   "source": []
  },
  {
   "cell_type": "markdown",
   "metadata": {
    "heading_collapsed": true
   },
   "source": [
    "## Data 3"
   ]
  },
  {
   "cell_type": "code",
   "execution_count": 29,
   "metadata": {
    "ExecuteTime": {
     "end_time": "2018-02-20T17:08:32.236329Z",
     "start_time": "2018-02-20T17:08:32.195862Z"
    },
    "hidden": true
   },
   "outputs": [
    {
     "data": {
      "text/plain": [
       "SVC(C=10, cache_size=200, class_weight=None, coef0=0.0,\n",
       "  decision_function_shape='ovr', degree=2, gamma='auto', kernel='poly',\n",
       "  max_iter=-1, probability=False, random_state=None, shrinking=True,\n",
       "  tol=0.001, verbose=False)"
      ]
     },
     "execution_count": 29,
     "metadata": {},
     "output_type": "execute_result"
    }
   ],
   "source": [
    "X=data_3.drop('Survived',axis=1).as_matrix()\n",
    "Y=data_3['Survived'].as_matrix()\n",
    "svm_class = svm.SVC(kernel='poly',degree=2,C=10)\n",
    "\n",
    "svm_class.fit(X,Y)"
   ]
  },
  {
   "cell_type": "code",
   "execution_count": 32,
   "metadata": {
    "ExecuteTime": {
     "end_time": "2018-02-20T17:08:55.200388Z",
     "start_time": "2018-02-20T17:08:55.187635Z"
    },
    "collapsed": true,
    "hidden": true
   },
   "outputs": [],
   "source": [
    "predictions=svm_class.predict(test_3)\n",
    "pd.DataFrame(predictions,columns=['Survived'],index=test_3.index).to_csv('./predictions_SVM_data_3.csv')"
   ]
  },
  {
   "cell_type": "markdown",
   "metadata": {
    "collapsed": true
   },
   "source": [
    "# Voting"
   ]
  },
  {
   "cell_type": "markdown",
   "metadata": {},
   "source": [
    "## Data Type 1"
   ]
  },
  {
   "cell_type": "code",
   "execution_count": 28,
   "metadata": {
    "ExecuteTime": {
     "end_time": "2018-02-21T11:41:41.713148Z",
     "start_time": "2018-02-21T11:41:35.760187Z"
    },
    "scrolled": true
   },
   "outputs": [
    {
     "name": "stdout",
     "output_type": "stream",
     "text": [
      "Accuracy: 0.81 (+/- 0.04) [RFC]\n",
      "Accuracy: 0.81 (+/- 0.01) [KNN 1]\n",
      "Accuracy: 0.80 (+/- 0.03) [KNN 2]\n",
      "Accuracy: 0.83 (+/- 0.02) [SVM]\n",
      "Accuracy: 0.82 (+/- 0.02) [Voting Hard]\n"
     ]
    }
   ],
   "source": [
    "X=data_1.drop('Survived',axis=1).as_matrix()\n",
    "Y=data_1['Survived'].as_matrix()\n",
    "\n",
    "clf_RFC=RandomForestClassifier(criterion='entropy',max_features=None,n_estimators=200)\n",
    "clf_KNN_1=KNeighborsClassifier(n_neighbors=6,p=2)\n",
    "clf_KNN_2=KNeighborsClassifier(n_neighbors=32,p=2)\n",
    "clf_SVM=svm.SVC(C=700,degree=5,kernel='poly')\n",
    "\n",
    "clf_voting_hard=VotingClassifier(estimators=[('RFC',clf_RFC),\n",
    "                                        ('KNN_1',clf_KNN_1),\n",
    "                                        ('KNN_2',clf_KNN_2),\n",
    "                                        ('SVM',clf_SVM)],\n",
    "                                 voting='hard')\n",
    "\n",
    "for clf, label in zip([clf_RFC, clf_KNN_1, clf_KNN_2, clf_SVM,clf_voting_hard], ['RFC', 'KNN 1', 'KNN 2', 'SVM','Voting Hard']):\n",
    "    scores = cross_val_score(clf, X, Y, cv=5, scoring='accuracy')\n",
    "    print(\"Accuracy: %0.2f (+/- %0.2f) [%s]\" % (scores.mean(), scores.std(), label))\n",
    "clf_voting_hard.fit(X,Y)\n",
    "predictions=clf_voting_hard.predict(test_1)\n",
    "pd.DataFrame(predictions,columns=['Survived'],index=test_1.index).to_csv('./predictions_Voting_data_1.csv')"
   ]
  },
  {
   "cell_type": "markdown",
   "metadata": {},
   "source": [
    "## Data Type 2"
   ]
  },
  {
   "cell_type": "code",
   "execution_count": 29,
   "metadata": {
    "ExecuteTime": {
     "end_time": "2018-02-21T11:42:45.808276Z",
     "start_time": "2018-02-21T11:42:38.840093Z"
    },
    "scrolled": true
   },
   "outputs": [
    {
     "name": "stdout",
     "output_type": "stream",
     "text": [
      "Accuracy: 0.82 (+/- 0.04) [RFC]\n",
      "Accuracy: 0.77 (+/- 0.05) [KNN]\n",
      "Accuracy: 0.83 (+/- 0.03) [SVM]\n",
      "Accuracy: 0.82 (+/- 0.03) [Voting Hard]\n"
     ]
    }
   ],
   "source": [
    "X=data_2.drop('Survived',axis=1).as_matrix()\n",
    "Y=data_2['Survived'].as_matrix()\n",
    "\n",
    "clf_RFC=RandomForestClassifier(criterion='gini',max_features=None,n_estimators=200)\n",
    "clf_KNN=KNeighborsClassifier(n_neighbors=29,p=1)\n",
    "clf_SVM=svm.SVC(C=80,degree=3,kernel='poly')\n",
    "\n",
    "clf_voting_hard=VotingClassifier(estimators=[('RFC',clf_RFC),\n",
    "                                        ('KNN',clf_KNN),\n",
    "                                        ('SVM',clf_SVM)],\n",
    "                                 voting='hard')\n",
    "\n",
    "for clf, label in zip([clf_RFC, clf_KNN, clf_SVM,clf_voting_hard], ['RFC', 'KNN', 'SVM','Voting Hard']):\n",
    "    scores = cross_val_score(clf, X, Y, cv=5, scoring='accuracy')\n",
    "    print(\"Accuracy: %0.2f (+/- %0.2f) [%s]\" % (scores.mean(), scores.std(), label))\n",
    "\n",
    "    clf_voting_hard.fit(X,Y)\n",
    "predictions=clf_voting_hard.predict(test_2)\n",
    "pd.DataFrame(predictions,columns=['Survived'],index=test_2.index).to_csv('./predictions_Voting_data_2.csv')"
   ]
  },
  {
   "cell_type": "markdown",
   "metadata": {},
   "source": [
    "## Data Type 3"
   ]
  },
  {
   "cell_type": "code",
   "execution_count": 30,
   "metadata": {
    "ExecuteTime": {
     "end_time": "2018-02-21T11:43:06.114414Z",
     "start_time": "2018-02-21T11:42:45.961385Z"
    }
   },
   "outputs": [
    {
     "name": "stdout",
     "output_type": "stream",
     "text": [
      "Accuracy: 0.82 (+/- 0.02) [LR]\n",
      "Accuracy: 0.82 (+/- 0.03) [RFC]\n",
      "Accuracy: 0.81 (+/- 0.02) [KNN]\n",
      "Accuracy: 0.82 (+/- 0.02) [SVM 1]\n",
      "Accuracy: 0.83 (+/- 0.02) [SVM 2]\n",
      "Accuracy: 0.84 (+/- 0.03) [Voting Hard]\n"
     ]
    }
   ],
   "source": [
    "X=data_3.drop('Survived',axis=1).as_matrix()\n",
    "Y=data_3['Survived'].as_matrix()\n",
    "\n",
    "clf_LR = LogisticRegression(penalty='l2',C=5)\n",
    "clf_RFC=RandomForestClassifier(criterion='gini',max_features=None,n_estimators=500)\n",
    "clf_KNN=KNeighborsClassifier(n_neighbors=17,p=2,algorithm='brute')\n",
    "clf_SVM_1=svm.SVC(C=80,degree=2,kernel='poly')\n",
    "clf_SVM_2=svm.SVC(C=10,degree=4,kernel='poly')\n",
    "\n",
    "clf_voting_hard=VotingClassifier(estimators=[('LR',clf_LR),\n",
    "                                        ('RFC',clf_RFC),\n",
    "                                        ('KNN',clf_KNN),\n",
    "                                        ('SVM 1',clf_SVM_1),\n",
    "                                        ('SVM 2',clf_SVM_2)],\n",
    "                                 voting='hard')\n",
    "\n",
    "for clf, label in zip([clf_LR,clf_RFC, clf_KNN, clf_SVM_1,clf_SVM_2,clf_voting_hard], ['LR','RFC', 'KNN', 'SVM 1', 'SVM 2','Voting Hard']):\n",
    "    scores = cross_val_score(clf, X, Y, cv=5, scoring='accuracy')\n",
    "    print(\"Accuracy: %0.2f (+/- %0.2f) [%s]\" % (scores.mean(), scores.std(), label))\n",
    "\n",
    "    clf_voting_hard.fit(X,Y)\n",
    "predictions=clf_voting_hard.predict(test_3)\n",
    "pd.DataFrame(predictions,columns=['Survived'],index=test_3.index).to_csv('./predictions_Voting_data_3.csv')"
   ]
  },
  {
   "cell_type": "code",
   "execution_count": null,
   "metadata": {
    "collapsed": true
   },
   "outputs": [],
   "source": []
  }
 ],
 "metadata": {
  "kernelspec": {
   "display_name": "Python 3",
   "language": "python",
   "name": "python3"
  },
  "language_info": {
   "codemirror_mode": {
    "name": "ipython",
    "version": 3
   },
   "file_extension": ".py",
   "mimetype": "text/x-python",
   "name": "python",
   "nbconvert_exporter": "python",
   "pygments_lexer": "ipython3",
   "version": "3.6.4"
  },
  "toc": {
   "nav_menu": {},
   "number_sections": true,
   "sideBar": true,
   "skip_h1_title": false,
   "title_cell": "Table of Contents",
   "title_sidebar": "Contents",
   "toc_cell": false,
   "toc_position": {},
   "toc_section_display": true,
   "toc_window_display": false
  },
  "varInspector": {
   "cols": {
    "lenName": 16,
    "lenType": 16,
    "lenVar": 40
   },
   "kernels_config": {
    "python": {
     "delete_cmd_postfix": "",
     "delete_cmd_prefix": "del ",
     "library": "var_list.py",
     "varRefreshCmd": "print(var_dic_list())"
    },
    "r": {
     "delete_cmd_postfix": ") ",
     "delete_cmd_prefix": "rm(",
     "library": "var_list.r",
     "varRefreshCmd": "cat(var_dic_list()) "
    }
   },
   "types_to_exclude": [
    "module",
    "function",
    "builtin_function_or_method",
    "instance",
    "_Feature"
   ],
   "window_display": false
  }
 },
 "nbformat": 4,
 "nbformat_minor": 2
}
