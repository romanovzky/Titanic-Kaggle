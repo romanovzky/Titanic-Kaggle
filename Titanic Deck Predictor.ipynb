{
 "cells": [
  {
   "cell_type": "code",
   "execution_count": 1,
   "metadata": {
    "ExecuteTime": {
     "end_time": "2018-02-26T11:51:46.197034Z",
     "start_time": "2018-02-26T11:51:44.116477Z"
    },
    "code_folding": []
   },
   "outputs": [
    {
     "name": "stderr",
     "output_type": "stream",
     "text": [
      "Using TensorFlow backend.\n"
     ]
    }
   ],
   "source": [
    "import warnings\n",
    "warnings.filterwarnings('ignore')\n",
    "\n",
    "from sklearn.model_selection import KFold\n",
    "\n",
    "import pandas as pd\n",
    "import numpy as np\n",
    "import matplotlib.pyplot as plt\n",
    "import seaborn as sns\n",
    "%matplotlib inline\n",
    "\n",
    "train_original=pd.read_csv('train.csv')\n",
    "train_original.set_index('PassengerId',inplace=True)\n",
    "\n",
    "from keras.wrappers.scikit_learn import KerasClassifier\n",
    "from keras.models import Sequential\n",
    "from keras.layers import Dense, Dropout, Activation\n",
    "\n",
    "from sklearn.model_selection import train_test_split\n",
    "from sklearn.metrics import accuracy_score\n",
    "\n",
    "from sklearn.model_selection import train_test_split, KFold, GridSearchCV, cross_val_score, RandomizedSearchCV\n",
    "from scipy.stats import randint as sp_randint\n",
    "from scipy.stats import powerlaw\n",
    "from scipy.stats import uniform\n",
    "\n",
    "\n",
    "def create_model(in_layer,neurons=128,activation='relu',dropout=0.25,optimizer='adam',shape='one'):\n",
    "    model=None\n",
    "    model = Sequential()\n",
    "    #first, input, layer, always present\n",
    "    model.add(Dense(neurons, input_dim=in_layer,activation=activation))\n",
    "    model.add(Dropout(dropout))\n",
    "    if(shape=='none'):\n",
    "        None\n",
    "    if(shape=='one'):\n",
    "        model.add(Dense(neurons,activation=activation))\n",
    "        model.add(Dropout(dropout))\n",
    "    if(shape=='two'):\n",
    "        model.add(Dense(neurons,activation=activation))\n",
    "        model.add(Dropout(dropout))\n",
    "        model.add(Dense(neurons,activation=activation))\n",
    "        model.add(Dropout(dropout))\n",
    "    #final layer, always present\n",
    "    model.add(Dense(8, activation='softmax'))\n",
    "    model.compile(loss='categorical_crossentropy',optimizer=optimizer, metrics=['accuracy'])\n",
    "    return model"
   ]
  },
  {
   "cell_type": "code",
   "execution_count": 2,
   "metadata": {
    "ExecuteTime": {
     "end_time": "2018-02-26T11:51:47.642945Z",
     "start_time": "2018-02-26T11:51:47.003340Z"
    }
   },
   "outputs": [
    {
     "name": "stdout",
     "output_type": "stream",
     "text": [
      "(1309, 21) \n",
      " (1309, 27) \n",
      " (1309, 31)\n"
     ]
    }
   ],
   "source": [
    "data_1 = pd.read_csv('data_raw_1.csv',index_col='PassengerId')\n",
    "data_2 = pd.read_csv('data_raw_2.csv',index_col='PassengerId')\n",
    "data_3 = pd.read_csv('data_raw_3.csv',index_col='PassengerId')\n",
    "\n",
    "decks=['A_deck', 'B_deck', 'C_deck',\n",
    "       'D_deck', 'E_deck', 'F_deck', 'G_deck', 'T_deck']\n",
    "decks_survived=['A_deck', 'B_deck', 'C_deck',\n",
    "       'D_deck', 'E_deck', 'F_deck', 'G_deck', 'T_deck','Survived','Missing_Embark','Missing_Deck','deck']\n",
    "\n",
    "\n",
    "\n",
    "deck_keys=pd.DataFrame({'A_deck':[1,0,0,0,0,0,0,0],\n",
    "                        'B_deck':[0,1,0,0,0,0,0,0],\n",
    "                        'C_deck':[0,0,1,0,0,0,0,0],\n",
    "                        'D_deck':[0,0,0,1,0,0,0,0],\n",
    "                        'E_deck':[0,0,0,0,1,0,0,0],\n",
    "                        'F_deck':[0,0,0,0,0,1,0,0],\n",
    "                        'G_deck':[0,0,0,0,0,0,1,0],\n",
    "                        'T_deck':[0,0,0,0,0,0,0,1],\n",
    "                        'Missing_Deck':[0,0,0,0,0,0,0,0]})\n",
    "\n",
    "deck_keys_from_int = {\n",
    "    '0':'A_deck',\n",
    "    '1':'B_deck',\n",
    "    '2':'C_deck',\n",
    "    '3':'D_deck',\n",
    "    '4':'E_deck',\n",
    "    '5':'F_deck',\n",
    "    '6':'G_deck',\n",
    "    '7':'T_deck'\n",
    "}\n",
    "\n",
    "def get_deck(row):\n",
    "    for c in deck_keys.columns:\n",
    "        if row[c]==1:\n",
    "            return c\n",
    "\n",
    "data_1['deck']=data_1.apply(get_deck,axis=1)\n",
    "data_1_nodeck=data_1.loc[(data_1['deck'] == 'Missing_Deck')]\n",
    "data_1_deck=data_1.loc[(data_1['deck'] != 'Missing_Deck')]\n",
    "\n",
    "data_2['deck']=data_2.apply(get_deck,axis=1)\n",
    "data_2_nodeck=data_2.loc[(data_2['deck'] == 'Missing_Deck')]\n",
    "data_2_deck=data_2.loc[(data_2['deck'] != 'Missing_Deck')]\n",
    "\n",
    "data_3['deck']=data_3.apply(get_deck,axis=1)\n",
    "data_3_nodeck=data_3.loc[(data_3['deck'] == 'Missing_Deck')]\n",
    "data_3_deck=data_3.loc[(data_3['deck'] != 'Missing_Deck')]\n",
    "\n",
    "print(data_1.shape,\"\\n\",data_2.shape,\"\\n\",data_3.shape)"
   ]
  },
  {
   "cell_type": "markdown",
   "metadata": {
    "ExecuteTime": {
     "end_time": "2018-02-16T15:35:55.773733Z",
     "start_time": "2018-02-16T15:35:55.770809Z"
    }
   },
   "source": [
    "# Data 1"
   ]
  },
  {
   "cell_type": "code",
   "execution_count": 6,
   "metadata": {
    "ExecuteTime": {
     "end_time": "2018-02-22T15:59:30.989610Z",
     "start_time": "2018-02-22T15:49:19.288042Z"
    },
    "scrolled": true
   },
   "outputs": [
    {
     "name": "stdout",
     "output_type": "stream",
     "text": [
      "Fitting 5 folds for each of 10 candidates, totalling 50 fits\n"
     ]
    },
    {
     "name": "stderr",
     "output_type": "stream",
     "text": [
      "[Parallel(n_jobs=1)]: Done  50 out of  50 | elapsed: 10.0min finished\n"
     ]
    },
    {
     "data": {
      "text/html": [
       "<div>\n",
       "<style scoped>\n",
       "    .dataframe tbody tr th:only-of-type {\n",
       "        vertical-align: middle;\n",
       "    }\n",
       "\n",
       "    .dataframe tbody tr th {\n",
       "        vertical-align: top;\n",
       "    }\n",
       "\n",
       "    .dataframe thead th {\n",
       "        text-align: right;\n",
       "    }\n",
       "</style>\n",
       "<table border=\"1\" class=\"dataframe\">\n",
       "  <thead>\n",
       "    <tr style=\"text-align: right;\">\n",
       "      <th></th>\n",
       "      <th>mean_fit_time</th>\n",
       "      <th>mean_test_score</th>\n",
       "      <th>mean_train_score</th>\n",
       "      <th>param_activation</th>\n",
       "      <th>param_dropout</th>\n",
       "      <th>param_neurons</th>\n",
       "      <th>param_optimizer</th>\n",
       "      <th>param_shape</th>\n",
       "      <th>rank_test_score</th>\n",
       "      <th>std_test_score</th>\n",
       "      <th>std_train_score</th>\n",
       "    </tr>\n",
       "  </thead>\n",
       "  <tbody>\n",
       "    <tr>\n",
       "      <th>9</th>\n",
       "      <td>11.543897</td>\n",
       "      <td>0.403390</td>\n",
       "      <td>0.866949</td>\n",
       "      <td>relu</td>\n",
       "      <td>0.42</td>\n",
       "      <td>256</td>\n",
       "      <td>adam</td>\n",
       "      <td>two</td>\n",
       "      <td>1</td>\n",
       "      <td>0.049589</td>\n",
       "      <td>0.013292</td>\n",
       "    </tr>\n",
       "    <tr>\n",
       "      <th>4</th>\n",
       "      <td>10.124330</td>\n",
       "      <td>0.396610</td>\n",
       "      <td>0.773729</td>\n",
       "      <td>relu</td>\n",
       "      <td>0.58</td>\n",
       "      <td>256</td>\n",
       "      <td>adam</td>\n",
       "      <td>two</td>\n",
       "      <td>2</td>\n",
       "      <td>0.054237</td>\n",
       "      <td>0.022357</td>\n",
       "    </tr>\n",
       "    <tr>\n",
       "      <th>8</th>\n",
       "      <td>11.251261</td>\n",
       "      <td>0.396610</td>\n",
       "      <td>0.801695</td>\n",
       "      <td>relu</td>\n",
       "      <td>0.54</td>\n",
       "      <td>256</td>\n",
       "      <td>adam</td>\n",
       "      <td>two</td>\n",
       "      <td>2</td>\n",
       "      <td>0.057327</td>\n",
       "      <td>0.020999</td>\n",
       "    </tr>\n",
       "    <tr>\n",
       "      <th>3</th>\n",
       "      <td>10.160644</td>\n",
       "      <td>0.396610</td>\n",
       "      <td>0.686441</td>\n",
       "      <td>relu</td>\n",
       "      <td>0.66</td>\n",
       "      <td>256</td>\n",
       "      <td>adam</td>\n",
       "      <td>two</td>\n",
       "      <td>4</td>\n",
       "      <td>0.057327</td>\n",
       "      <td>0.018372</td>\n",
       "    </tr>\n",
       "    <tr>\n",
       "      <th>7</th>\n",
       "      <td>10.943918</td>\n",
       "      <td>0.393220</td>\n",
       "      <td>0.890678</td>\n",
       "      <td>relu</td>\n",
       "      <td>0.38</td>\n",
       "      <td>256</td>\n",
       "      <td>adam</td>\n",
       "      <td>two</td>\n",
       "      <td>5</td>\n",
       "      <td>0.024910</td>\n",
       "      <td>0.011804</td>\n",
       "    </tr>\n",
       "    <tr>\n",
       "      <th>1</th>\n",
       "      <td>9.349178</td>\n",
       "      <td>0.386441</td>\n",
       "      <td>0.900847</td>\n",
       "      <td>relu</td>\n",
       "      <td>0.3</td>\n",
       "      <td>256</td>\n",
       "      <td>adam</td>\n",
       "      <td>two</td>\n",
       "      <td>6</td>\n",
       "      <td>0.042067</td>\n",
       "      <td>0.007388</td>\n",
       "    </tr>\n",
       "    <tr>\n",
       "      <th>2</th>\n",
       "      <td>9.562164</td>\n",
       "      <td>0.386441</td>\n",
       "      <td>0.818644</td>\n",
       "      <td>relu</td>\n",
       "      <td>0.5</td>\n",
       "      <td>256</td>\n",
       "      <td>adam</td>\n",
       "      <td>two</td>\n",
       "      <td>6</td>\n",
       "      <td>0.034570</td>\n",
       "      <td>0.018644</td>\n",
       "    </tr>\n",
       "    <tr>\n",
       "      <th>6</th>\n",
       "      <td>10.972853</td>\n",
       "      <td>0.386441</td>\n",
       "      <td>0.889831</td>\n",
       "      <td>relu</td>\n",
       "      <td>0.34</td>\n",
       "      <td>256</td>\n",
       "      <td>adam</td>\n",
       "      <td>two</td>\n",
       "      <td>6</td>\n",
       "      <td>0.029160</td>\n",
       "      <td>0.005992</td>\n",
       "    </tr>\n",
       "    <tr>\n",
       "      <th>5</th>\n",
       "      <td>10.453851</td>\n",
       "      <td>0.383051</td>\n",
       "      <td>0.645763</td>\n",
       "      <td>relu</td>\n",
       "      <td>0.7</td>\n",
       "      <td>256</td>\n",
       "      <td>adam</td>\n",
       "      <td>two</td>\n",
       "      <td>9</td>\n",
       "      <td>0.061205</td>\n",
       "      <td>0.021706</td>\n",
       "    </tr>\n",
       "    <tr>\n",
       "      <th>0</th>\n",
       "      <td>9.437125</td>\n",
       "      <td>0.359322</td>\n",
       "      <td>0.848305</td>\n",
       "      <td>relu</td>\n",
       "      <td>0.46</td>\n",
       "      <td>256</td>\n",
       "      <td>adam</td>\n",
       "      <td>two</td>\n",
       "      <td>10</td>\n",
       "      <td>0.045982</td>\n",
       "      <td>0.012397</td>\n",
       "    </tr>\n",
       "  </tbody>\n",
       "</table>\n",
       "</div>"
      ],
      "text/plain": [
       "   mean_fit_time  mean_test_score  mean_train_score param_activation  \\\n",
       "9      11.543897         0.403390          0.866949             relu   \n",
       "4      10.124330         0.396610          0.773729             relu   \n",
       "8      11.251261         0.396610          0.801695             relu   \n",
       "3      10.160644         0.396610          0.686441             relu   \n",
       "7      10.943918         0.393220          0.890678             relu   \n",
       "1       9.349178         0.386441          0.900847             relu   \n",
       "2       9.562164         0.386441          0.818644             relu   \n",
       "6      10.972853         0.386441          0.889831             relu   \n",
       "5      10.453851         0.383051          0.645763             relu   \n",
       "0       9.437125         0.359322          0.848305             relu   \n",
       "\n",
       "  param_dropout param_neurons param_optimizer param_shape  rank_test_score  \\\n",
       "9          0.42           256            adam         two                1   \n",
       "4          0.58           256            adam         two                2   \n",
       "8          0.54           256            adam         two                2   \n",
       "3          0.66           256            adam         two                4   \n",
       "7          0.38           256            adam         two                5   \n",
       "1           0.3           256            adam         two                6   \n",
       "2           0.5           256            adam         two                6   \n",
       "6          0.34           256            adam         two                6   \n",
       "5           0.7           256            adam         two                9   \n",
       "0          0.46           256            adam         two               10   \n",
       "\n",
       "   std_test_score  std_train_score  \n",
       "9        0.049589         0.013292  \n",
       "4        0.054237         0.022357  \n",
       "8        0.057327         0.020999  \n",
       "3        0.057327         0.018372  \n",
       "7        0.024910         0.011804  \n",
       "1        0.042067         0.007388  \n",
       "2        0.034570         0.018644  \n",
       "6        0.029160         0.005992  \n",
       "5        0.061205         0.021706  \n",
       "0        0.045982         0.012397  "
      ]
     },
     "execution_count": 6,
     "metadata": {},
     "output_type": "execute_result"
    }
   ],
   "source": [
    "X=data_1_deck.drop(decks_survived,axis=1)\n",
    "Y=data_1_deck[decks].as_matrix()#.reshape((-1,1))\n",
    "\n",
    "classifier = None\n",
    "classifier = KerasClassifier(build_fn=create_model,verbose=0)\n",
    "\n",
    "param_distributions = {'epochs':[1000],\n",
    "                       'batch_size':[1024],\n",
    "                       'in_layer':[X.shape[1]],\n",
    "                       'neurons' : [256],#[32,64,128],\n",
    "                       'optimizer': ['adam'],#['adam','adagrad','rmsprop','adadelta'],\n",
    "                       'dropout' : np.linspace(0.3,0.7,11),#uniform(0.1,1)\n",
    "                       'activation' : ['relu'],\n",
    "                       'shape':['two']\n",
    "                      }\n",
    "\n",
    "rscv = RandomizedSearchCV(estimator=classifier,\n",
    "                          param_distributions=param_distributions,\n",
    "                          cv=5,\n",
    "                          verbose=1,\n",
    "                          n_iter=10)\n",
    "\n",
    "rscv.fit(X,Y)\n",
    "results_df=pd.DataFrame(rscv.cv_results_)\n",
    "\n",
    "results_df.sort_values('rank_test_score',axis=0).drop(['param_epochs','std_score_time','std_fit_time','params','mean_score_time','split0_test_score',\n",
    "       'split0_train_score', 'split1_test_score', 'split1_train_score',\n",
    "       'split2_test_score', 'split2_train_score', 'split3_test_score',\n",
    "       'split3_train_score', 'split4_test_score', 'split4_train_score','param_batch_size','param_in_layer'],axis=1).head(10)"
   ]
  },
  {
   "cell_type": "markdown",
   "metadata": {},
   "source": [
    "## Predicting deck"
   ]
  },
  {
   "cell_type": "code",
   "execution_count": 185,
   "metadata": {
    "ExecuteTime": {
     "end_time": "2018-02-22T18:29:29.046975Z",
     "start_time": "2018-02-22T18:28:41.821134Z"
    }
   },
   "outputs": [
    {
     "data": {
      "text/plain": [
       "<keras.callbacks.History at 0x7f3ec7c15ba8>"
      ]
     },
     "execution_count": 185,
     "metadata": {},
     "output_type": "execute_result"
    }
   ],
   "source": [
    "X=data_1_deck.drop(decks_survived,axis=1)\n",
    "Y=data_1_deck[decks].as_matrix()#.reshape((-1,1))\n",
    "\n",
    "classifier = None\n",
    "classifier = create_model(in_layer=X.shape[1],neurons=256,dropout=0.5,shape='two')\n",
    "classifier.fit(X,Y,epochs=5000,verbose=0,batch_size=1024)\n"
   ]
  },
  {
   "cell_type": "code",
   "execution_count": 186,
   "metadata": {
    "ExecuteTime": {
     "end_time": "2018-02-22T18:30:02.466787Z",
     "start_time": "2018-02-22T18:29:58.102705Z"
    },
    "collapsed": true
   },
   "outputs": [],
   "source": [
    "predicteddeck_df=pd.DataFrame(classifier.predict_classes(data_1_nodeck.drop(decks_survived,axis=1),batch_size=1024),index=data_2_nodeck.index,columns=['PredictedDeck'])\n",
    "\n",
    "\n",
    "predicteddeck_df['deck']=predicteddeck_df.astype(str).replace(deck_keys_from_int)\n",
    "\n",
    "data_1_nodeck_rep=data_1_nodeck.drop(decks,axis=1).drop('Missing_Deck',axis=1).copy()\n",
    "data_1_deck_rep=data_1_deck.drop(decks,axis=1).drop('Missing_Deck',axis=1).copy()\n",
    "data_1_nodeck_rep['deck']=predicteddeck_df['deck']\n",
    "\n",
    "data_1_decks_pred=pd.concat([data_1_deck_rep,data_1_nodeck_rep]).sort_index()\n",
    "\n",
    "deck_dummies=pd.get_dummies(data_1_decks_pred['deck'],drop_first=False)\n",
    "\n",
    "data_1_decks_pred=pd.concat([data_1_decks_pred,deck_dummies],axis=1).drop('deck',axis=1)\n",
    "\n",
    "train_1_deck_pred=data_1_decks_pred[data_1_decks_pred['Survived']<2]\n",
    "test_1_deck_pred=data_1_decks_pred[data_1_decks_pred['Survived']==2].drop('Survived',axis=1)\n",
    "\n",
    "train_1_deck_pred.to_csv(\"./data_train_deck_pred_1.csv\")#Train\n",
    "test_1_deck_pred.to_csv(\"./data_test_deck_pred_1.csv\")#Test"
   ]
  },
  {
   "cell_type": "markdown",
   "metadata": {
    "ExecuteTime": {
     "end_time": "2018-02-16T15:35:55.773733Z",
     "start_time": "2018-02-16T15:35:55.770809Z"
    },
    "heading_collapsed": true
   },
   "source": [
    "# Data 2"
   ]
  },
  {
   "cell_type": "code",
   "execution_count": 7,
   "metadata": {
    "ExecuteTime": {
     "end_time": "2018-02-22T16:12:21.297743Z",
     "start_time": "2018-02-22T15:59:31.475071Z"
    },
    "hidden": true,
    "scrolled": false
   },
   "outputs": [
    {
     "name": "stdout",
     "output_type": "stream",
     "text": [
      "Fitting 5 folds for each of 10 candidates, totalling 50 fits\n"
     ]
    },
    {
     "name": "stderr",
     "output_type": "stream",
     "text": [
      "[Parallel(n_jobs=1)]: Done  50 out of  50 | elapsed: 12.6min finished\n"
     ]
    },
    {
     "data": {
      "text/html": [
       "<div>\n",
       "<style scoped>\n",
       "    .dataframe tbody tr th:only-of-type {\n",
       "        vertical-align: middle;\n",
       "    }\n",
       "\n",
       "    .dataframe tbody tr th {\n",
       "        vertical-align: top;\n",
       "    }\n",
       "\n",
       "    .dataframe thead th {\n",
       "        text-align: right;\n",
       "    }\n",
       "</style>\n",
       "<table border=\"1\" class=\"dataframe\">\n",
       "  <thead>\n",
       "    <tr style=\"text-align: right;\">\n",
       "      <th></th>\n",
       "      <th>mean_fit_time</th>\n",
       "      <th>mean_test_score</th>\n",
       "      <th>mean_train_score</th>\n",
       "      <th>param_activation</th>\n",
       "      <th>param_dropout</th>\n",
       "      <th>param_neurons</th>\n",
       "      <th>param_optimizer</th>\n",
       "      <th>param_shape</th>\n",
       "      <th>rank_test_score</th>\n",
       "      <th>std_test_score</th>\n",
       "      <th>std_train_score</th>\n",
       "    </tr>\n",
       "  </thead>\n",
       "  <tbody>\n",
       "    <tr>\n",
       "      <th>1</th>\n",
       "      <td>11.599699</td>\n",
       "      <td>0.440678</td>\n",
       "      <td>0.851695</td>\n",
       "      <td>relu</td>\n",
       "      <td>0.62</td>\n",
       "      <td>256</td>\n",
       "      <td>rmsprop</td>\n",
       "      <td>two</td>\n",
       "      <td>1</td>\n",
       "      <td>0.033898</td>\n",
       "      <td>0.011681</td>\n",
       "    </tr>\n",
       "    <tr>\n",
       "      <th>7</th>\n",
       "      <td>13.547408</td>\n",
       "      <td>0.437288</td>\n",
       "      <td>0.883898</td>\n",
       "      <td>relu</td>\n",
       "      <td>0.58</td>\n",
       "      <td>256</td>\n",
       "      <td>rmsprop</td>\n",
       "      <td>two</td>\n",
       "      <td>2</td>\n",
       "      <td>0.042067</td>\n",
       "      <td>0.021705</td>\n",
       "    </tr>\n",
       "    <tr>\n",
       "      <th>3</th>\n",
       "      <td>12.138423</td>\n",
       "      <td>0.433898</td>\n",
       "      <td>0.818644</td>\n",
       "      <td>relu</td>\n",
       "      <td>0.66</td>\n",
       "      <td>256</td>\n",
       "      <td>rmsprop</td>\n",
       "      <td>two</td>\n",
       "      <td>3</td>\n",
       "      <td>0.043675</td>\n",
       "      <td>0.017034</td>\n",
       "    </tr>\n",
       "    <tr>\n",
       "      <th>5</th>\n",
       "      <td>12.514424</td>\n",
       "      <td>0.427119</td>\n",
       "      <td>0.934746</td>\n",
       "      <td>relu</td>\n",
       "      <td>0.46</td>\n",
       "      <td>256</td>\n",
       "      <td>rmsprop</td>\n",
       "      <td>two</td>\n",
       "      <td>4</td>\n",
       "      <td>0.034570</td>\n",
       "      <td>0.009883</td>\n",
       "    </tr>\n",
       "    <tr>\n",
       "      <th>6</th>\n",
       "      <td>13.184444</td>\n",
       "      <td>0.423729</td>\n",
       "      <td>0.780508</td>\n",
       "      <td>relu</td>\n",
       "      <td>0.7</td>\n",
       "      <td>256</td>\n",
       "      <td>rmsprop</td>\n",
       "      <td>two</td>\n",
       "      <td>5</td>\n",
       "      <td>0.037134</td>\n",
       "      <td>0.015488</td>\n",
       "    </tr>\n",
       "    <tr>\n",
       "      <th>2</th>\n",
       "      <td>11.897243</td>\n",
       "      <td>0.413559</td>\n",
       "      <td>0.916949</td>\n",
       "      <td>relu</td>\n",
       "      <td>0.5</td>\n",
       "      <td>256</td>\n",
       "      <td>rmsprop</td>\n",
       "      <td>two</td>\n",
       "      <td>6</td>\n",
       "      <td>0.022991</td>\n",
       "      <td>0.012455</td>\n",
       "    </tr>\n",
       "    <tr>\n",
       "      <th>0</th>\n",
       "      <td>12.000760</td>\n",
       "      <td>0.403390</td>\n",
       "      <td>0.939831</td>\n",
       "      <td>relu</td>\n",
       "      <td>0.42</td>\n",
       "      <td>256</td>\n",
       "      <td>rmsprop</td>\n",
       "      <td>two</td>\n",
       "      <td>7</td>\n",
       "      <td>0.047215</td>\n",
       "      <td>0.003171</td>\n",
       "    </tr>\n",
       "    <tr>\n",
       "      <th>9</th>\n",
       "      <td>13.261916</td>\n",
       "      <td>0.403390</td>\n",
       "      <td>0.960169</td>\n",
       "      <td>relu</td>\n",
       "      <td>0.34</td>\n",
       "      <td>256</td>\n",
       "      <td>rmsprop</td>\n",
       "      <td>two</td>\n",
       "      <td>8</td>\n",
       "      <td>0.061017</td>\n",
       "      <td>0.006885</td>\n",
       "    </tr>\n",
       "    <tr>\n",
       "      <th>4</th>\n",
       "      <td>12.302268</td>\n",
       "      <td>0.400000</td>\n",
       "      <td>0.951695</td>\n",
       "      <td>relu</td>\n",
       "      <td>0.38</td>\n",
       "      <td>256</td>\n",
       "      <td>rmsprop</td>\n",
       "      <td>two</td>\n",
       "      <td>9</td>\n",
       "      <td>0.036510</td>\n",
       "      <td>0.010585</td>\n",
       "    </tr>\n",
       "    <tr>\n",
       "      <th>8</th>\n",
       "      <td>13.031654</td>\n",
       "      <td>0.400000</td>\n",
       "      <td>0.905932</td>\n",
       "      <td>relu</td>\n",
       "      <td>0.54</td>\n",
       "      <td>256</td>\n",
       "      <td>rmsprop</td>\n",
       "      <td>two</td>\n",
       "      <td>10</td>\n",
       "      <td>0.036510</td>\n",
       "      <td>0.020304</td>\n",
       "    </tr>\n",
       "  </tbody>\n",
       "</table>\n",
       "</div>"
      ],
      "text/plain": [
       "   mean_fit_time  mean_test_score  mean_train_score param_activation  \\\n",
       "1      11.599699         0.440678          0.851695             relu   \n",
       "7      13.547408         0.437288          0.883898             relu   \n",
       "3      12.138423         0.433898          0.818644             relu   \n",
       "5      12.514424         0.427119          0.934746             relu   \n",
       "6      13.184444         0.423729          0.780508             relu   \n",
       "2      11.897243         0.413559          0.916949             relu   \n",
       "0      12.000760         0.403390          0.939831             relu   \n",
       "9      13.261916         0.403390          0.960169             relu   \n",
       "4      12.302268         0.400000          0.951695             relu   \n",
       "8      13.031654         0.400000          0.905932             relu   \n",
       "\n",
       "  param_dropout param_neurons param_optimizer param_shape  rank_test_score  \\\n",
       "1          0.62           256         rmsprop         two                1   \n",
       "7          0.58           256         rmsprop         two                2   \n",
       "3          0.66           256         rmsprop         two                3   \n",
       "5          0.46           256         rmsprop         two                4   \n",
       "6           0.7           256         rmsprop         two                5   \n",
       "2           0.5           256         rmsprop         two                6   \n",
       "0          0.42           256         rmsprop         two                7   \n",
       "9          0.34           256         rmsprop         two                8   \n",
       "4          0.38           256         rmsprop         two                9   \n",
       "8          0.54           256         rmsprop         two               10   \n",
       "\n",
       "   std_test_score  std_train_score  \n",
       "1        0.033898         0.011681  \n",
       "7        0.042067         0.021705  \n",
       "3        0.043675         0.017034  \n",
       "5        0.034570         0.009883  \n",
       "6        0.037134         0.015488  \n",
       "2        0.022991         0.012455  \n",
       "0        0.047215         0.003171  \n",
       "9        0.061017         0.006885  \n",
       "4        0.036510         0.010585  \n",
       "8        0.036510         0.020304  "
      ]
     },
     "execution_count": 7,
     "metadata": {},
     "output_type": "execute_result"
    }
   ],
   "source": [
    "X=data_2_deck.drop(decks_survived,axis=1)\n",
    "Y=data_2_deck[decks].as_matrix()#.reshape((-1,1))\n",
    "\n",
    "classifier = None\n",
    "classifier = KerasClassifier(build_fn=create_model,verbose=0)\n",
    "\n",
    "param_distributions = {'epochs':[1000],\n",
    "                       'batch_size':[1024],\n",
    "                       'in_layer':[X.shape[1]],\n",
    "                       'neurons' : [256],#[32,64,128],\n",
    "                       'optimizer': ['rmsprop'],#['adam','adagrad','rmsprop','adadelta'],\n",
    "                       'dropout' : np.linspace(0.3,0.7,11),\n",
    "                       'activation' : ['relu'],\n",
    "                       'shape':['two']\n",
    "                      }\n",
    "\n",
    "rscv = RandomizedSearchCV(estimator=classifier,\n",
    "                          param_distributions=param_distributions,\n",
    "                          cv=5,\n",
    "                          verbose=1,\n",
    "                          n_iter=10)\n",
    "\n",
    "rscv.fit(X,Y)\n",
    "results_df=pd.DataFrame(rscv.cv_results_)\n",
    "\n",
    "results_df.sort_values('rank_test_score',axis=0).drop(['param_epochs','std_score_time','std_fit_time','params','mean_score_time','split0_test_score',\n",
    "       'split0_train_score', 'split1_test_score', 'split1_train_score',\n",
    "       'split2_test_score', 'split2_train_score', 'split3_test_score',\n",
    "       'split3_train_score', 'split4_test_score', 'split4_train_score','param_batch_size','param_in_layer'],axis=1).head(10)"
   ]
  },
  {
   "cell_type": "markdown",
   "metadata": {
    "hidden": true
   },
   "source": [
    "## Predicting deck"
   ]
  },
  {
   "cell_type": "code",
   "execution_count": 187,
   "metadata": {
    "ExecuteTime": {
     "end_time": "2018-02-22T18:31:02.367056Z",
     "start_time": "2018-02-22T18:30:12.650223Z"
    },
    "hidden": true
   },
   "outputs": [
    {
     "data": {
      "text/plain": [
       "<keras.callbacks.History at 0x7f3ec6f126a0>"
      ]
     },
     "execution_count": 187,
     "metadata": {},
     "output_type": "execute_result"
    }
   ],
   "source": [
    "X=data_2_deck.drop(decks_survived,axis=1)\n",
    "Y=data_2_deck[decks].as_matrix()#.reshape((-1,1))\n",
    "\n",
    "classifier = None\n",
    "classifier = create_model(in_layer=X.shape[1],neurons=256,dropout=0.5,shape='two',optimizer='rmsprop')\n",
    "classifier.fit(X,Y,epochs=5000,verbose=0,batch_size=1024)"
   ]
  },
  {
   "cell_type": "code",
   "execution_count": 176,
   "metadata": {
    "ExecuteTime": {
     "end_time": "2018-02-22T18:19:42.636623Z",
     "start_time": "2018-02-22T18:19:42.558971Z"
    },
    "collapsed": true,
    "hidden": true
   },
   "outputs": [],
   "source": [
    "predicteddeck_df=pd.DataFrame(classifier.predict_classes(data_2_nodeck.drop(decks_survived,axis=1),batch_size=1024),index=data_2_nodeck.index,columns=['PredictedDeck'])\n",
    "\n",
    "predicteddeck_df['deck']=predicteddeck_df.astype(str).replace(deck_keys_from_int)\n",
    "\n",
    "data_2_nodeck_rep=data_2_nodeck.drop(decks,axis=1).drop('Missing_Deck',axis=1).copy()\n",
    "data_2_deck_rep=data_2_deck.drop(decks,axis=1).drop('Missing_Deck',axis=1).copy()\n",
    "data_2_nodeck_rep['deck']=predicteddeck_df['deck']\n",
    "\n",
    "data_2_decks_pred=pd.concat([data_2_deck_rep,data_2_nodeck_rep]).sort_index()\n",
    "\n",
    "deck_dummies=pd.get_dummies(data_2_decks_pred['deck'],drop_first=False)\n",
    "\n",
    "data_2_decks_pred=pd.concat([data_2_decks_pred,deck_dummies],axis=1).drop('deck',axis=1)\n",
    "\n",
    "train_2_deck_pred=data_2_decks_pred[data_2_decks_pred['Survived']<2]\n",
    "test_2_deck_pred=data_2_decks_pred[data_2_decks_pred['Survived']==2].drop('Survived',axis=1)\n",
    "\n",
    "train_2_deck_pred.to_csv(\"./data_train_deck_pred_2.csv\")#Train\n",
    "test_2_deck_pred.to_csv(\"./data_test_deck_pred_2.csv\")#Test"
   ]
  },
  {
   "cell_type": "markdown",
   "metadata": {
    "ExecuteTime": {
     "end_time": "2018-02-16T15:35:55.773733Z",
     "start_time": "2018-02-16T15:35:55.770809Z"
    },
    "heading_collapsed": true
   },
   "source": [
    "# Data 3"
   ]
  },
  {
   "cell_type": "code",
   "execution_count": 8,
   "metadata": {
    "ExecuteTime": {
     "end_time": "2018-02-22T16:28:52.197143Z",
     "start_time": "2018-02-22T16:12:21.802410Z"
    },
    "hidden": true,
    "scrolled": true
   },
   "outputs": [
    {
     "name": "stdout",
     "output_type": "stream",
     "text": [
      "Fitting 5 folds for each of 10 candidates, totalling 50 fits\n"
     ]
    },
    {
     "name": "stderr",
     "output_type": "stream",
     "text": [
      "[Parallel(n_jobs=1)]: Done  50 out of  50 | elapsed: 16.2min finished\n"
     ]
    },
    {
     "data": {
      "text/html": [
       "<div>\n",
       "<style scoped>\n",
       "    .dataframe tbody tr th:only-of-type {\n",
       "        vertical-align: middle;\n",
       "    }\n",
       "\n",
       "    .dataframe tbody tr th {\n",
       "        vertical-align: top;\n",
       "    }\n",
       "\n",
       "    .dataframe thead th {\n",
       "        text-align: right;\n",
       "    }\n",
       "</style>\n",
       "<table border=\"1\" class=\"dataframe\">\n",
       "  <thead>\n",
       "    <tr style=\"text-align: right;\">\n",
       "      <th></th>\n",
       "      <th>mean_fit_time</th>\n",
       "      <th>mean_test_score</th>\n",
       "      <th>mean_train_score</th>\n",
       "      <th>param_activation</th>\n",
       "      <th>param_dropout</th>\n",
       "      <th>param_neurons</th>\n",
       "      <th>param_optimizer</th>\n",
       "      <th>param_shape</th>\n",
       "      <th>rank_test_score</th>\n",
       "      <th>std_test_score</th>\n",
       "      <th>std_train_score</th>\n",
       "    </tr>\n",
       "  </thead>\n",
       "  <tbody>\n",
       "    <tr>\n",
       "      <th>0</th>\n",
       "      <td>15.265613</td>\n",
       "      <td>0.410169</td>\n",
       "      <td>0.881356</td>\n",
       "      <td>relu</td>\n",
       "      <td>0.58</td>\n",
       "      <td>256</td>\n",
       "      <td>adadelta</td>\n",
       "      <td>two</td>\n",
       "      <td>1</td>\n",
       "      <td>0.032866</td>\n",
       "      <td>0.012570</td>\n",
       "    </tr>\n",
       "    <tr>\n",
       "      <th>8</th>\n",
       "      <td>16.705515</td>\n",
       "      <td>0.403390</td>\n",
       "      <td>0.857627</td>\n",
       "      <td>relu</td>\n",
       "      <td>0.62</td>\n",
       "      <td>256</td>\n",
       "      <td>adadelta</td>\n",
       "      <td>two</td>\n",
       "      <td>2</td>\n",
       "      <td>0.045982</td>\n",
       "      <td>0.012455</td>\n",
       "    </tr>\n",
       "    <tr>\n",
       "      <th>9</th>\n",
       "      <td>17.497077</td>\n",
       "      <td>0.400000</td>\n",
       "      <td>0.950847</td>\n",
       "      <td>relu</td>\n",
       "      <td>0.34</td>\n",
       "      <td>256</td>\n",
       "      <td>adadelta</td>\n",
       "      <td>two</td>\n",
       "      <td>3</td>\n",
       "      <td>0.038051</td>\n",
       "      <td>0.009513</td>\n",
       "    </tr>\n",
       "    <tr>\n",
       "      <th>6</th>\n",
       "      <td>16.111731</td>\n",
       "      <td>0.396610</td>\n",
       "      <td>0.789831</td>\n",
       "      <td>relu</td>\n",
       "      <td>0.7</td>\n",
       "      <td>256</td>\n",
       "      <td>adadelta</td>\n",
       "      <td>two</td>\n",
       "      <td>4</td>\n",
       "      <td>0.065731</td>\n",
       "      <td>0.010240</td>\n",
       "    </tr>\n",
       "    <tr>\n",
       "      <th>7</th>\n",
       "      <td>16.764510</td>\n",
       "      <td>0.396610</td>\n",
       "      <td>0.922881</td>\n",
       "      <td>relu</td>\n",
       "      <td>0.5</td>\n",
       "      <td>256</td>\n",
       "      <td>adadelta</td>\n",
       "      <td>two</td>\n",
       "      <td>4</td>\n",
       "      <td>0.057327</td>\n",
       "      <td>0.004941</td>\n",
       "    </tr>\n",
       "    <tr>\n",
       "      <th>5</th>\n",
       "      <td>15.872494</td>\n",
       "      <td>0.393220</td>\n",
       "      <td>0.818644</td>\n",
       "      <td>relu</td>\n",
       "      <td>0.66</td>\n",
       "      <td>256</td>\n",
       "      <td>adadelta</td>\n",
       "      <td>two</td>\n",
       "      <td>6</td>\n",
       "      <td>0.073019</td>\n",
       "      <td>0.012397</td>\n",
       "    </tr>\n",
       "    <tr>\n",
       "      <th>4</th>\n",
       "      <td>15.565036</td>\n",
       "      <td>0.389831</td>\n",
       "      <td>0.939830</td>\n",
       "      <td>relu</td>\n",
       "      <td>0.42</td>\n",
       "      <td>256</td>\n",
       "      <td>adadelta</td>\n",
       "      <td>two</td>\n",
       "      <td>7</td>\n",
       "      <td>0.028361</td>\n",
       "      <td>0.013238</td>\n",
       "    </tr>\n",
       "    <tr>\n",
       "      <th>1</th>\n",
       "      <td>14.740075</td>\n",
       "      <td>0.383051</td>\n",
       "      <td>0.957627</td>\n",
       "      <td>relu</td>\n",
       "      <td>0.3</td>\n",
       "      <td>256</td>\n",
       "      <td>adadelta</td>\n",
       "      <td>two</td>\n",
       "      <td>8</td>\n",
       "      <td>0.022991</td>\n",
       "      <td>0.008888</td>\n",
       "    </tr>\n",
       "    <tr>\n",
       "      <th>3</th>\n",
       "      <td>15.256824</td>\n",
       "      <td>0.379661</td>\n",
       "      <td>0.927966</td>\n",
       "      <td>relu</td>\n",
       "      <td>0.46</td>\n",
       "      <td>256</td>\n",
       "      <td>adadelta</td>\n",
       "      <td>two</td>\n",
       "      <td>9</td>\n",
       "      <td>0.044971</td>\n",
       "      <td>0.011050</td>\n",
       "    </tr>\n",
       "    <tr>\n",
       "      <th>2</th>\n",
       "      <td>15.436858</td>\n",
       "      <td>0.366102</td>\n",
       "      <td>0.953390</td>\n",
       "      <td>relu</td>\n",
       "      <td>0.38</td>\n",
       "      <td>256</td>\n",
       "      <td>adadelta</td>\n",
       "      <td>two</td>\n",
       "      <td>10</td>\n",
       "      <td>0.038051</td>\n",
       "      <td>0.011049</td>\n",
       "    </tr>\n",
       "  </tbody>\n",
       "</table>\n",
       "</div>"
      ],
      "text/plain": [
       "   mean_fit_time  mean_test_score  mean_train_score param_activation  \\\n",
       "0      15.265613         0.410169          0.881356             relu   \n",
       "8      16.705515         0.403390          0.857627             relu   \n",
       "9      17.497077         0.400000          0.950847             relu   \n",
       "6      16.111731         0.396610          0.789831             relu   \n",
       "7      16.764510         0.396610          0.922881             relu   \n",
       "5      15.872494         0.393220          0.818644             relu   \n",
       "4      15.565036         0.389831          0.939830             relu   \n",
       "1      14.740075         0.383051          0.957627             relu   \n",
       "3      15.256824         0.379661          0.927966             relu   \n",
       "2      15.436858         0.366102          0.953390             relu   \n",
       "\n",
       "  param_dropout param_neurons param_optimizer param_shape  rank_test_score  \\\n",
       "0          0.58           256        adadelta         two                1   \n",
       "8          0.62           256        adadelta         two                2   \n",
       "9          0.34           256        adadelta         two                3   \n",
       "6           0.7           256        adadelta         two                4   \n",
       "7           0.5           256        adadelta         two                4   \n",
       "5          0.66           256        adadelta         two                6   \n",
       "4          0.42           256        adadelta         two                7   \n",
       "1           0.3           256        adadelta         two                8   \n",
       "3          0.46           256        adadelta         two                9   \n",
       "2          0.38           256        adadelta         two               10   \n",
       "\n",
       "   std_test_score  std_train_score  \n",
       "0        0.032866         0.012570  \n",
       "8        0.045982         0.012455  \n",
       "9        0.038051         0.009513  \n",
       "6        0.065731         0.010240  \n",
       "7        0.057327         0.004941  \n",
       "5        0.073019         0.012397  \n",
       "4        0.028361         0.013238  \n",
       "1        0.022991         0.008888  \n",
       "3        0.044971         0.011050  \n",
       "2        0.038051         0.011049  "
      ]
     },
     "execution_count": 8,
     "metadata": {},
     "output_type": "execute_result"
    }
   ],
   "source": [
    "X=data_3_deck.drop(decks_survived,axis=1)\n",
    "Y=data_3_deck[decks].as_matrix()#.reshape((-1,1))\n",
    "\n",
    "classifier = None\n",
    "classifier = KerasClassifier(build_fn=create_model,verbose=0)\n",
    "\n",
    "\n",
    "param_distributions = {'epochs':[1000],\n",
    "                       'batch_size':[1024],\n",
    "                       'in_layer':[X.shape[1]],\n",
    "                       'neurons' : [256],#[32,64,128],\n",
    "                       'optimizer': ['adadelta'],#['adam','adagrad','rmsprop','adadelta'],\n",
    "                       'dropout' : np.linspace(0.3,0.7,11),\n",
    "                       'activation' : ['relu'],\n",
    "                       'shape':['two']\n",
    "                      }\n",
    "\n",
    "rscv = RandomizedSearchCV(estimator=classifier,\n",
    "                          param_distributions=param_distributions,\n",
    "                          cv=5,\n",
    "                          verbose=1,\n",
    "                          n_iter=10)\n",
    "\n",
    "rscv.fit(X,Y)\n",
    "results_df=pd.DataFrame(rscv.cv_results_)\n",
    "\n",
    "results_df.sort_values('rank_test_score',axis=0).drop(['param_epochs','std_score_time','std_fit_time','params','mean_score_time','split0_test_score',\n",
    "       'split0_train_score', 'split1_test_score', 'split1_train_score',\n",
    "       'split2_test_score', 'split2_train_score', 'split3_test_score',\n",
    "       'split3_train_score', 'split4_test_score', 'split4_train_score','param_batch_size','param_in_layer'],axis=1).head(10)"
   ]
  },
  {
   "cell_type": "markdown",
   "metadata": {
    "hidden": true
   },
   "source": [
    "## Predicting deck"
   ]
  },
  {
   "cell_type": "code",
   "execution_count": 188,
   "metadata": {
    "ExecuteTime": {
     "end_time": "2018-02-22T18:32:43.888222Z",
     "start_time": "2018-02-22T18:31:58.225410Z"
    },
    "hidden": true
   },
   "outputs": [
    {
     "data": {
      "text/plain": [
       "<keras.callbacks.History at 0x7f3ec64b5710>"
      ]
     },
     "execution_count": 188,
     "metadata": {},
     "output_type": "execute_result"
    }
   ],
   "source": [
    "X=data_3_deck.drop(decks_survived,axis=1)\n",
    "Y=data_3_deck[decks].as_matrix()#.reshape((-1,1))\n",
    "\n",
    "classifier = None\n",
    "classifier = create_model(in_layer=X.shape[1],neurons=256,dropout=0.5,shape='two',optimizer='rmsprop')\n",
    "classifier.fit(X,Y,epochs=5000,verbose=0,batch_size=1024)"
   ]
  },
  {
   "cell_type": "code",
   "execution_count": 176,
   "metadata": {
    "ExecuteTime": {
     "end_time": "2018-02-22T18:19:42.636623Z",
     "start_time": "2018-02-22T18:19:42.558971Z"
    },
    "collapsed": true,
    "hidden": true
   },
   "outputs": [],
   "source": [
    "predicteddeck_df=pd.DataFrame(classifier.predict_classes(data_3_nodeck.drop(decks_survived,axis=1),batch_size=1024),index=data_2_nodeck.index,columns=['PredictedDeck'])\n",
    "\n",
    "predicteddeck_df['deck']=predicteddeck_df.astype(str).replace(deck_keys_from_int)\n",
    "\n",
    "data_3_nodeck_rep=data_3_nodeck.drop(decks,axis=1).drop('Missing_Deck',axis=1).copy()\n",
    "data_3_deck_rep=data_3_deck.drop(decks,axis=1).drop('Missing_Deck',axis=1).copy()\n",
    "data_3_nodeck_rep['deck']=predicteddeck_df['deck']\n",
    "\n",
    "data_3_decks_pred=pd.concat([data_3_deck_rep,data_3_nodeck_rep]).sort_index()\n",
    "\n",
    "deck_dummies=pd.get_dummies(data_3_decks_pred['deck'],drop_first=False)\n",
    "\n",
    "data_3_decks_pred=pd.concat([data_3_decks_pred,deck_dummies],axis=1).drop('deck',axis=1)\n",
    "\n",
    "train_3_deck_pred=data_3_decks_pred[data_3_decks_pred['Survived']<2]\n",
    "test_3_deck_pred=data_3_decks_pred[data_3_decks_pred['Survived']==2].drop('Survived',axis=1)\n",
    "\n",
    "train_3_deck_pred.to_csv(\"./data_train_deck_pred_3.csv\")#Train\n",
    "test_3_deck_pred.to_csv(\"./data_test_deck_pred_3.csv\")#Test"
   ]
  },
  {
   "cell_type": "markdown",
   "metadata": {},
   "source": [
    "# More conventional predictors"
   ]
  },
  {
   "cell_type": "code",
   "execution_count": null,
   "metadata": {
    "collapsed": true
   },
   "outputs": [],
   "source": [
    "from sklearn.multiclass import OneVsRestClassifier\n",
    "from sklearn.multiclass import OneVsOneClassifier\n",
    "from sklearn.multiclass import OutputCodeClassifier"
   ]
  },
  {
   "cell_type": "code",
   "execution_count": 71,
   "metadata": {
    "ExecuteTime": {
     "end_time": "2018-02-26T12:25:19.529008Z",
     "start_time": "2018-02-26T12:25:19.526504Z"
    },
    "collapsed": true
   },
   "outputs": [],
   "source": [
    "cv_global =10"
   ]
  },
  {
   "cell_type": "markdown",
   "metadata": {
    "heading_collapsed": true
   },
   "source": [
    "## SVM"
   ]
  },
  {
   "cell_type": "code",
   "execution_count": 49,
   "metadata": {
    "ExecuteTime": {
     "end_time": "2018-02-26T12:17:12.553039Z",
     "start_time": "2018-02-26T12:17:12.548858Z"
    },
    "collapsed": true,
    "hidden": true
   },
   "outputs": [],
   "source": [
    "from sklearn import svm"
   ]
  },
  {
   "cell_type": "code",
   "execution_count": 90,
   "metadata": {
    "ExecuteTime": {
     "end_time": "2018-02-26T12:33:39.519936Z",
     "start_time": "2018-02-26T12:33:38.730611Z"
    },
    "hidden": true,
    "scrolled": true
   },
   "outputs": [
    {
     "name": "stdout",
     "output_type": "stream",
     "text": [
      "0.0343 (+/- 0.0617)\n",
      "0.3640 (+/- 0.1490)\n",
      "0.3362 (+/- 0.2483)\n"
     ]
    }
   ],
   "source": [
    "X=data_1_deck.drop(decks_survived,axis=1)\n",
    "Y=data_1_deck[decks].as_matrix()\n",
    "Y_classes = [x.tolist().index(1) for x in Y]\n",
    "\n",
    "classif_OvR = OneVsRestClassifier(estimator=svm.SVC())\n",
    "\n",
    "scores=cross_val_score(classif_OvR,X=X,y=Y,cv=cv_global)\n",
    "print(\"%0.4f (+/- %0.4f)\" % (scores.mean(), scores.std() * 2))\n",
    "\n",
    "classif_OvO = OneVsOneClassifier(estimator=svm.SVC())\n",
    "\n",
    "scores=cross_val_score(classif_OvR,X=X,y=Y_classes,cv=cv_global)\n",
    "print(\"%0.4f (+/- %0.4f)\" % (scores.mean(), scores.std() * 2))\n",
    "\n",
    "classif_OCC = OutputCodeClassifier(estimator=svm.SVC())\n",
    "\n",
    "\n",
    "scores=cross_val_score(classif_OCC,X=X,y=Y_classes,cv=cv_global)\n",
    "print(\"%0.4f (+/- %0.4f)\" % (scores.mean(), scores.std() * 2))"
   ]
  },
  {
   "cell_type": "code",
   "execution_count": 91,
   "metadata": {
    "ExecuteTime": {
     "end_time": "2018-02-26T12:33:54.362220Z",
     "start_time": "2018-02-26T12:33:53.516533Z"
    },
    "hidden": true,
    "scrolled": true
   },
   "outputs": [
    {
     "name": "stdout",
     "output_type": "stream",
     "text": [
      "0.0343 (+/- 0.0617)\n",
      "0.3744 (+/- 0.1651)\n",
      "0.3266 (+/- 0.1945)\n"
     ]
    }
   ],
   "source": [
    "X=data_2_deck.drop(decks_survived,axis=1)\n",
    "Y=data_2_deck[decks].as_matrix()\n",
    "Y_classes = [x.tolist().index(1) for x in Y]\n",
    "\n",
    "classif_OvR = OneVsRestClassifier(estimator=svm.SVC())\n",
    "\n",
    "scores=cross_val_score(classif_OvR,X=X,y=Y,cv=cv_global)\n",
    "print(\"%0.4f (+/- %0.4f)\" % (scores.mean(), scores.std() * 2))\n",
    "\n",
    "classif_OvO = OneVsOneClassifier(estimator=svm.SVC())\n",
    "\n",
    "scores=cross_val_score(classif_OvR,X=X,y=Y_classes,cv=cv_global)\n",
    "print(\"%0.4f (+/- %0.4f)\" % (scores.mean(), scores.std() * 2))\n",
    "\n",
    "classif_OCC = OutputCodeClassifier(estimator=svm.SVC())\n",
    "\n",
    "\n",
    "scores=cross_val_score(classif_OCC,X=X,y=Y_classes,cv=cv_global)\n",
    "print(\"%0.4f (+/- %0.4f)\" % (scores.mean(), scores.std() * 2))"
   ]
  },
  {
   "cell_type": "code",
   "execution_count": 92,
   "metadata": {
    "ExecuteTime": {
     "end_time": "2018-02-26T12:33:54.362220Z",
     "start_time": "2018-02-26T12:33:53.516533Z"
    },
    "hidden": true,
    "scrolled": true
   },
   "outputs": [
    {
     "name": "stdout",
     "output_type": "stream",
     "text": [
      "0.0308 (+/- 0.0482)\n",
      "0.3596 (+/- 0.1302)\n",
      "0.3396 (+/- 0.0829)\n"
     ]
    }
   ],
   "source": [
    "X=data_3_deck.drop(decks_survived,axis=1)\n",
    "Y=data_3_deck[decks].as_matrix()\n",
    "Y_classes = [x.tolist().index(1) for x in Y]\n",
    "\n",
    "classif_OvR = OneVsRestClassifier(estimator=svm.SVC())\n",
    "\n",
    "scores=cross_val_score(classif_OvR,X=X,y=Y,cv=cv_global)\n",
    "print(\"%0.4f (+/- %0.4f)\" % (scores.mean(), scores.std() * 2))\n",
    "\n",
    "classif_OvO = OneVsOneClassifier(estimator=svm.SVC())\n",
    "\n",
    "scores=cross_val_score(classif_OvR,X=X,y=Y_classes,cv=cv_global)\n",
    "print(\"%0.4f (+/- %0.4f)\" % (scores.mean(), scores.std() * 2))\n",
    "\n",
    "classif_OCC = OutputCodeClassifier(estimator=svm.SVC())\n",
    "\n",
    "\n",
    "scores=cross_val_score(classif_OCC,X=X,y=Y_classes,cv=cv_global)\n",
    "print(\"%0.4f (+/- %0.4f)\" % (scores.mean(), scores.std() * 2))"
   ]
  },
  {
   "cell_type": "markdown",
   "metadata": {},
   "source": [
    "## Gradient Boost"
   ]
  },
  {
   "cell_type": "code",
   "execution_count": 41,
   "metadata": {
    "ExecuteTime": {
     "end_time": "2018-02-26T12:10:31.315093Z",
     "start_time": "2018-02-26T12:10:31.311895Z"
    },
    "collapsed": true
   },
   "outputs": [],
   "source": [
    "from sklearn.ensemble import GradientBoostingClassifier"
   ]
  },
  {
   "cell_type": "code",
   "execution_count": 80,
   "metadata": {
    "ExecuteTime": {
     "end_time": "2018-02-26T12:28:09.639415Z",
     "start_time": "2018-02-26T12:28:06.553153Z"
    }
   },
   "outputs": [
    {
     "name": "stdout",
     "output_type": "stream",
     "text": [
      "0.6188 (+/- 0.2037)\n"
     ]
    }
   ],
   "source": [
    "X=data_1_deck.drop(decks_survived,axis=1)\n",
    "Y=data_1_deck[decks].as_matrix()\n",
    "Y_classes = [x.tolist().index(1) for x in Y]\n",
    "\n",
    "classif_GBC = OneVsRestClassifier(estimator=GradientBoostingClassifier())\n",
    "\n",
    "\n",
    "\n",
    "scores=cross_val_score(classif_GBC,X=X,y=Y_classes,cv=cv_global)\n",
    "print(\"%0.4f (+/- %0.4f)\" % (scores.mean(), scores.std() * 2))"
   ]
  },
  {
   "cell_type": "code",
   "execution_count": 93,
   "metadata": {
    "ExecuteTime": {
     "end_time": "2018-02-26T12:34:17.632213Z",
     "start_time": "2018-02-26T12:34:14.176755Z"
    }
   },
   "outputs": [
    {
     "name": "stdout",
     "output_type": "stream",
     "text": [
      "0.6878 (+/- 0.1260)\n"
     ]
    }
   ],
   "source": [
    "X=data_2_deck.drop(decks_survived,axis=1)\n",
    "Y=data_2_deck[decks].as_matrix()\n",
    "Y_classes = [x.tolist().index(1) for x in Y]\n",
    "\n",
    "classif_GBC = OneVsRestClassifier(estimator=GradientBoostingClassifier())\n",
    "\n",
    "\n",
    "\n",
    "scores=cross_val_score(classif_GBC,X=X,y=Y_classes,cv=cv_global)\n",
    "print(\"%0.4f (+/- %0.4f)\" % (scores.mean(), scores.std() * 2))"
   ]
  },
  {
   "cell_type": "code",
   "execution_count": 94,
   "metadata": {
    "ExecuteTime": {
     "end_time": "2018-02-26T12:34:17.632213Z",
     "start_time": "2018-02-26T12:34:14.176755Z"
    }
   },
   "outputs": [
    {
     "name": "stdout",
     "output_type": "stream",
     "text": [
      "0.6590 (+/- 0.1328)\n"
     ]
    }
   ],
   "source": [
    "X=data_3_deck.drop(decks_survived,axis=1)\n",
    "Y=data_3_deck[decks].as_matrix()\n",
    "Y_classes = [x.tolist().index(1) for x in Y]\n",
    "\n",
    "classif_GBC = OneVsRestClassifier(estimator=GradientBoostingClassifier())\n",
    "\n",
    "\n",
    "\n",
    "scores=cross_val_score(classif_GBC,X=X,y=Y_classes,cv=cv_global)\n",
    "print(\"%0.4f (+/- %0.4f)\" % (scores.mean(), scores.std() * 2))"
   ]
  },
  {
   "cell_type": "markdown",
   "metadata": {
    "heading_collapsed": true
   },
   "source": [
    "## SGD"
   ]
  },
  {
   "cell_type": "code",
   "execution_count": 57,
   "metadata": {
    "ExecuteTime": {
     "end_time": "2018-02-26T12:23:31.743169Z",
     "start_time": "2018-02-26T12:23:31.740426Z"
    },
    "collapsed": true,
    "hidden": true
   },
   "outputs": [],
   "source": [
    "from sklearn.linear_model import SGDClassifier"
   ]
  },
  {
   "cell_type": "code",
   "execution_count": 81,
   "metadata": {
    "ExecuteTime": {
     "end_time": "2018-02-26T12:28:37.752207Z",
     "start_time": "2018-02-26T12:28:37.605206Z"
    },
    "hidden": true
   },
   "outputs": [
    {
     "name": "stdout",
     "output_type": "stream",
     "text": [
      "0.2641 (+/- 0.0699)\n"
     ]
    }
   ],
   "source": [
    "X=data_1_deck.drop(decks_survived,axis=1)\n",
    "Y=data_1_deck[decks].as_matrix()\n",
    "Y_classes = [x.tolist().index(1) for x in Y]\n",
    "\n",
    "classif_SGD = OneVsRestClassifier(estimator=SGDClassifier())\n",
    "\n",
    "scores=cross_val_score(classif_SGD,X=X,y=Y_classes,cv=cv_global)\n",
    "print(\"%0.4f (+/- %0.4f)\" % (scores.mean(), scores.std() * 2))"
   ]
  },
  {
   "cell_type": "code",
   "execution_count": 95,
   "metadata": {
    "ExecuteTime": {
     "end_time": "2018-02-26T12:34:27.351666Z",
     "start_time": "2018-02-26T12:34:27.200263Z"
    },
    "hidden": true
   },
   "outputs": [
    {
     "name": "stdout",
     "output_type": "stream",
     "text": [
      "0.3441 (+/- 0.1955)\n"
     ]
    }
   ],
   "source": [
    "X=data_2_deck.drop(decks_survived,axis=1)\n",
    "Y=data_2_deck[decks].as_matrix()\n",
    "Y_classes = [x.tolist().index(1) for x in Y]\n",
    "\n",
    "classif_SGD = OneVsRestClassifier(estimator=SGDClassifier())\n",
    "\n",
    "scores=cross_val_score(classif_SGD,X=X,y=Y_classes,cv=cv_global)\n",
    "print(\"%0.4f (+/- %0.4f)\" % (scores.mean(), scores.std() * 2))"
   ]
  },
  {
   "cell_type": "code",
   "execution_count": 96,
   "metadata": {
    "ExecuteTime": {
     "end_time": "2018-02-26T12:34:32.870449Z",
     "start_time": "2018-02-26T12:34:32.722037Z"
    },
    "hidden": true
   },
   "outputs": [
    {
     "name": "stdout",
     "output_type": "stream",
     "text": [
      "0.3192 (+/- 0.1779)\n"
     ]
    }
   ],
   "source": [
    "X=data_3_deck.drop(decks_survived,axis=1)\n",
    "Y=data_3_deck[decks].as_matrix()\n",
    "Y_classes = [x.tolist().index(1) for x in Y]\n",
    "\n",
    "classif_SGD = OneVsRestClassifier(estimator=SGDClassifier())\n",
    "\n",
    "scores=cross_val_score(classif_SGD,X=X,y=Y_classes,cv=cv_global)\n",
    "print(\"%0.4f (+/- %0.4f)\" % (scores.mean(), scores.std() * 2))"
   ]
  },
  {
   "cell_type": "markdown",
   "metadata": {
    "collapsed": true,
    "heading_collapsed": true
   },
   "source": [
    "## Perceptron"
   ]
  },
  {
   "cell_type": "code",
   "execution_count": 59,
   "metadata": {
    "ExecuteTime": {
     "end_time": "2018-02-26T12:24:22.345662Z",
     "start_time": "2018-02-26T12:24:22.342952Z"
    },
    "collapsed": true,
    "hidden": true
   },
   "outputs": [],
   "source": [
    "from sklearn.linear_model import Perceptron"
   ]
  },
  {
   "cell_type": "code",
   "execution_count": 84,
   "metadata": {
    "ExecuteTime": {
     "end_time": "2018-02-26T12:29:28.751112Z",
     "start_time": "2018-02-26T12:29:28.522357Z"
    },
    "hidden": true
   },
   "outputs": [
    {
     "name": "stdout",
     "output_type": "stream",
     "text": [
      "0.2861 (+/- 0.1137)\n"
     ]
    }
   ],
   "source": [
    "X=data_1_deck.drop(decks_survived,axis=1)\n",
    "Y=data_1_deck[decks].as_matrix()\n",
    "Y_classes = [x.tolist().index(1) for x in Y]\n",
    "\n",
    "classif_GBC = OneVsRestClassifier(estimator=SGDClassifier())\n",
    "\n",
    "scores=cross_val_score(classif_GBC,X=X,y=Y_classes,cv=cv_global)\n",
    "print(\"%0.4f (+/- %0.4f)\" % (scores.mean(), scores.std() * 2))"
   ]
  },
  {
   "cell_type": "code",
   "execution_count": 97,
   "metadata": {
    "ExecuteTime": {
     "end_time": "2018-02-26T12:34:39.320589Z",
     "start_time": "2018-02-26T12:34:39.171159Z"
    },
    "hidden": true
   },
   "outputs": [
    {
     "name": "stdout",
     "output_type": "stream",
     "text": [
      "0.2933 (+/- 0.1880)\n"
     ]
    }
   ],
   "source": [
    "X=data_2_deck.drop(decks_survived,axis=1)\n",
    "Y=data_2_deck[decks].as_matrix()\n",
    "Y_classes = [x.tolist().index(1) for x in Y]\n",
    "\n",
    "classif_GBC = OneVsRestClassifier(estimator=SGDClassifier())\n",
    "\n",
    "scores=cross_val_score(classif_GBC,X=X,y=Y_classes,cv=cv_global)\n",
    "print(\"%0.4f (+/- %0.4f)\" % (scores.mean(), scores.std() * 2))"
   ]
  },
  {
   "cell_type": "code",
   "execution_count": 98,
   "metadata": {
    "ExecuteTime": {
     "end_time": "2018-02-26T12:34:44.124540Z",
     "start_time": "2018-02-26T12:34:43.961764Z"
    },
    "hidden": true
   },
   "outputs": [
    {
     "name": "stdout",
     "output_type": "stream",
     "text": [
      "0.2309 (+/- 0.1530)\n"
     ]
    }
   ],
   "source": [
    "X=data_3_deck.drop(decks_survived,axis=1)\n",
    "Y=data_3_deck[decks].as_matrix()\n",
    "Y_classes = [x.tolist().index(1) for x in Y]\n",
    "\n",
    "classif_GBC = OneVsRestClassifier(estimator=SGDClassifier())\n",
    "\n",
    "scores=cross_val_score(classif_GBC,X=X,y=Y_classes,cv=cv_global)\n",
    "print(\"%0.4f (+/- %0.4f)\" % (scores.mean(), scores.std() * 2))"
   ]
  },
  {
   "cell_type": "markdown",
   "metadata": {
    "collapsed": true,
    "heading_collapsed": true
   },
   "source": [
    "## Passive Aggressive"
   ]
  },
  {
   "cell_type": "code",
   "execution_count": 88,
   "metadata": {
    "ExecuteTime": {
     "end_time": "2018-02-26T12:32:30.372632Z",
     "start_time": "2018-02-26T12:32:30.369658Z"
    },
    "collapsed": true,
    "hidden": true
   },
   "outputs": [],
   "source": [
    "from sklearn.linear_model import PassiveAggressiveClassifier"
   ]
  },
  {
   "cell_type": "code",
   "execution_count": 89,
   "metadata": {
    "ExecuteTime": {
     "end_time": "2018-02-26T12:32:30.994735Z",
     "start_time": "2018-02-26T12:32:30.886181Z"
    },
    "hidden": true
   },
   "outputs": [
    {
     "name": "stdout",
     "output_type": "stream",
     "text": [
      "0.2961 (+/- 0.1566)\n"
     ]
    }
   ],
   "source": [
    "X=data_1_deck.drop(decks_survived,axis=1)\n",
    "Y=data_1_deck[decks].as_matrix()\n",
    "Y_classes = [x.tolist().index(1) for x in Y]\n",
    "\n",
    "classif_PAC = OneVsRestClassifier(estimator=PassiveAggressiveClassifier())\n",
    "\n",
    "scores=cross_val_score(classif_PAC,X=X,y=Y_classes,cv=cv_global)\n",
    "print(\"%0.4f (+/- %0.4f)\" % (scores.mean(), scores.std() * 2))"
   ]
  },
  {
   "cell_type": "code",
   "execution_count": 99,
   "metadata": {
    "ExecuteTime": {
     "end_time": "2018-02-26T12:34:54.005341Z",
     "start_time": "2018-02-26T12:34:53.861283Z"
    },
    "hidden": true
   },
   "outputs": [
    {
     "name": "stdout",
     "output_type": "stream",
     "text": [
      "0.2585 (+/- 0.1244)\n"
     ]
    }
   ],
   "source": [
    "X=data_2_deck.drop(decks_survived,axis=1)\n",
    "Y=data_2_deck[decks].as_matrix()\n",
    "Y_classes = [x.tolist().index(1) for x in Y]\n",
    "\n",
    "classif_PAC = OneVsRestClassifier(estimator=PassiveAggressiveClassifier())\n",
    "\n",
    "scores=cross_val_score(classif_PAC,X=X,y=Y_classes,cv=cv_global)\n",
    "print(\"%0.4f (+/- %0.4f)\" % (scores.mean(), scores.std() * 2))"
   ]
  },
  {
   "cell_type": "code",
   "execution_count": 100,
   "metadata": {
    "ExecuteTime": {
     "end_time": "2018-02-26T12:35:05.119819Z",
     "start_time": "2018-02-26T12:35:04.975190Z"
    },
    "hidden": true
   },
   "outputs": [
    {
     "name": "stdout",
     "output_type": "stream",
     "text": [
      "0.2823 (+/- 0.1803)\n"
     ]
    }
   ],
   "source": [
    "X=data_3_deck.drop(decks_survived,axis=1)\n",
    "Y=data_3_deck[decks].as_matrix()\n",
    "Y_classes = [x.tolist().index(1) for x in Y]\n",
    "\n",
    "classif_PAC = OneVsRestClassifier(estimator=PassiveAggressiveClassifier())\n",
    "\n",
    "scores=cross_val_score(classif_PAC,X=X,y=Y_classes,cv=cv_global)\n",
    "print(\"%0.4f (+/- %0.4f)\" % (scores.mean(), scores.std() * 2))"
   ]
  },
  {
   "cell_type": "markdown",
   "metadata": {},
   "source": [
    "## Random Forest"
   ]
  },
  {
   "cell_type": "code",
   "execution_count": 101,
   "metadata": {
    "ExecuteTime": {
     "end_time": "2018-02-26T12:35:43.922225Z",
     "start_time": "2018-02-26T12:35:43.919530Z"
    },
    "collapsed": true
   },
   "outputs": [],
   "source": [
    "from sklearn.ensemble import RandomForestClassifier"
   ]
  },
  {
   "cell_type": "code",
   "execution_count": 107,
   "metadata": {
    "ExecuteTime": {
     "end_time": "2018-02-26T12:37:22.536724Z",
     "start_time": "2018-02-26T12:37:22.363380Z"
    }
   },
   "outputs": [
    {
     "name": "stdout",
     "output_type": "stream",
     "text": [
      "0.4432 (+/- 0.1310)\n"
     ]
    }
   ],
   "source": [
    "X=data_1_deck.drop(decks_survived,axis=1)\n",
    "Y=data_1_deck[decks].as_matrix()\n",
    "Y_classes = [x.tolist().index(1) for x in Y]\n",
    "\n",
    "classif_RFC = RandomForestClassifier()\n",
    "\n",
    "scores=cross_val_score(classif_RFC,X=X,y=Y_classes,cv=cv_global)\n",
    "print(\"%0.4f (+/- %0.4f)\" % (scores.mean(), scores.std() * 2))"
   ]
  },
  {
   "cell_type": "code",
   "execution_count": 108,
   "metadata": {
    "ExecuteTime": {
     "end_time": "2018-02-26T12:37:29.755645Z",
     "start_time": "2018-02-26T12:37:29.575252Z"
    }
   },
   "outputs": [
    {
     "name": "stdout",
     "output_type": "stream",
     "text": [
      "0.5507 (+/- 0.1000)\n"
     ]
    }
   ],
   "source": [
    "X=data_2_deck.drop(decks_survived,axis=1)\n",
    "Y=data_2_deck[decks].as_matrix()\n",
    "Y_classes = [x.tolist().index(1) for x in Y]\n",
    "\n",
    "classif_RFC = RandomForestClassifier()\n",
    "\n",
    "scores=cross_val_score(classif_RFC,X=X,y=Y_classes,cv=cv_global)\n",
    "print(\"%0.4f (+/- %0.4f)\" % (scores.mean(), scores.std() * 2))"
   ]
  },
  {
   "cell_type": "code",
   "execution_count": 109,
   "metadata": {
    "ExecuteTime": {
     "end_time": "2018-02-26T12:37:29.755645Z",
     "start_time": "2018-02-26T12:37:29.575252Z"
    }
   },
   "outputs": [
    {
     "name": "stdout",
     "output_type": "stream",
     "text": [
      "0.4643 (+/- 0.1380)\n"
     ]
    }
   ],
   "source": [
    "X=data_3_deck.drop(decks_survived,axis=1)\n",
    "Y=data_3_deck[decks].as_matrix()\n",
    "Y_classes = [x.tolist().index(1) for x in Y]\n",
    "\n",
    "classif_RFC = RandomForestClassifier()\n",
    "\n",
    "scores=cross_val_score(classif_RFC,X=X,y=Y_classes,cv=cv_global)\n",
    "print(\"%0.4f (+/- %0.4f)\" % (scores.mean(), scores.std() * 2))"
   ]
  },
  {
   "cell_type": "markdown",
   "metadata": {
    "heading_collapsed": true
   },
   "source": [
    "## Naive Bayes"
   ]
  },
  {
   "cell_type": "code",
   "execution_count": 105,
   "metadata": {
    "ExecuteTime": {
     "end_time": "2018-02-26T12:36:52.655708Z",
     "start_time": "2018-02-26T12:36:52.652871Z"
    },
    "collapsed": true,
    "hidden": true
   },
   "outputs": [],
   "source": [
    "from sklearn.naive_bayes import GaussianNB"
   ]
  },
  {
   "cell_type": "code",
   "execution_count": 106,
   "metadata": {
    "ExecuteTime": {
     "end_time": "2018-02-26T12:37:15.227954Z",
     "start_time": "2018-02-26T12:37:15.176337Z"
    },
    "hidden": true
   },
   "outputs": [
    {
     "name": "stdout",
     "output_type": "stream",
     "text": [
      "0.2783 (+/- 0.0981)\n"
     ]
    }
   ],
   "source": [
    "X=data_1_deck.drop(decks_survived,axis=1)\n",
    "Y=data_1_deck[decks].as_matrix()\n",
    "Y_classes = [x.tolist().index(1) for x in Y]\n",
    "\n",
    "classif_GNB = GaussianNB()\n",
    "\n",
    "scores=cross_val_score(classif_GNB,X=X,y=Y_classes,cv=cv_global)\n",
    "print(\"%0.4f (+/- %0.4f)\" % (scores.mean(), scores.std() * 2))"
   ]
  },
  {
   "cell_type": "code",
   "execution_count": 110,
   "metadata": {
    "ExecuteTime": {
     "end_time": "2018-02-26T12:37:48.494420Z",
     "start_time": "2018-02-26T12:37:48.440231Z"
    },
    "hidden": true
   },
   "outputs": [
    {
     "name": "stdout",
     "output_type": "stream",
     "text": [
      "0.3287 (+/- 0.1618)\n"
     ]
    }
   ],
   "source": [
    "X=data_2_deck.drop(decks_survived,axis=1)\n",
    "Y=data_2_deck[decks].as_matrix()\n",
    "Y_classes = [x.tolist().index(1) for x in Y]\n",
    "\n",
    "classif_GNB = GaussianNB()\n",
    "\n",
    "scores=cross_val_score(classif_GNB,X=X,y=Y_classes,cv=cv_global)\n",
    "print(\"%0.4f (+/- %0.4f)\" % (scores.mean(), scores.std() * 2))"
   ]
  },
  {
   "cell_type": "code",
   "execution_count": 111,
   "metadata": {
    "ExecuteTime": {
     "end_time": "2018-02-26T12:37:48.494420Z",
     "start_time": "2018-02-26T12:37:48.440231Z"
    },
    "hidden": true
   },
   "outputs": [
    {
     "name": "stdout",
     "output_type": "stream",
     "text": [
      "0.3285 (+/- 0.2159)\n"
     ]
    }
   ],
   "source": [
    "X=data_3_deck.drop(decks_survived,axis=1)\n",
    "Y=data_3_deck[decks].as_matrix()\n",
    "Y_classes = [x.tolist().index(1) for x in Y]\n",
    "\n",
    "classif_GNB = GaussianNB()\n",
    "\n",
    "scores=cross_val_score(classif_GNB,X=X,y=Y_classes,cv=cv_global)\n",
    "print(\"%0.4f (+/- %0.4f)\" % (scores.mean(), scores.std() * 2))"
   ]
  },
  {
   "cell_type": "markdown",
   "metadata": {},
   "source": [
    "## KNN"
   ]
  },
  {
   "cell_type": "code",
   "execution_count": 112,
   "metadata": {
    "ExecuteTime": {
     "end_time": "2018-02-26T12:39:19.420428Z",
     "start_time": "2018-02-26T12:39:19.417672Z"
    },
    "collapsed": true
   },
   "outputs": [],
   "source": [
    "from sklearn.neighbors import KNeighborsClassifier"
   ]
  },
  {
   "cell_type": "code",
   "execution_count": 113,
   "metadata": {
    "ExecuteTime": {
     "end_time": "2018-02-26T12:39:35.922482Z",
     "start_time": "2018-02-26T12:39:35.872626Z"
    }
   },
   "outputs": [
    {
     "name": "stdout",
     "output_type": "stream",
     "text": [
      "0.3718 (+/- 0.1783)\n"
     ]
    }
   ],
   "source": [
    "X=data_1_deck.drop(decks_survived,axis=1)\n",
    "Y=data_1_deck[decks].as_matrix()\n",
    "Y_classes = [x.tolist().index(1) for x in Y]\n",
    "\n",
    "classif_KNN = KNeighborsClassifier()\n",
    "\n",
    "scores=cross_val_score(classif_KNN,X=X,y=Y_classes,cv=cv_global)\n",
    "print(\"%0.4f (+/- %0.4f)\" % (scores.mean(), scores.std() * 2))"
   ]
  },
  {
   "cell_type": "code",
   "execution_count": 114,
   "metadata": {
    "ExecuteTime": {
     "end_time": "2018-02-26T12:39:50.519965Z",
     "start_time": "2018-02-26T12:39:50.487258Z"
    }
   },
   "outputs": [
    {
     "name": "stdout",
     "output_type": "stream",
     "text": [
      "0.4220 (+/- 0.1468)\n"
     ]
    }
   ],
   "source": [
    "X=data_2_deck.drop(decks_survived,axis=1)\n",
    "Y=data_2_deck[decks].as_matrix()\n",
    "Y_classes = [x.tolist().index(1) for x in Y]\n",
    "\n",
    "classif_KNN = KNeighborsClassifier()\n",
    "\n",
    "scores=cross_val_score(classif_KNN,X=X,y=Y_classes,cv=cv_global)\n",
    "print(\"%0.4f (+/- %0.4f)\" % (scores.mean(), scores.std() * 2))"
   ]
  },
  {
   "cell_type": "code",
   "execution_count": 115,
   "metadata": {
    "ExecuteTime": {
     "end_time": "2018-02-26T12:39:50.519965Z",
     "start_time": "2018-02-26T12:39:50.487258Z"
    }
   },
   "outputs": [
    {
     "name": "stdout",
     "output_type": "stream",
     "text": [
      "0.3363 (+/- 0.1170)\n"
     ]
    }
   ],
   "source": [
    "X=data_3_deck.drop(decks_survived,axis=1)\n",
    "Y=data_3_deck[decks].as_matrix()\n",
    "Y_classes = [x.tolist().index(1) for x in Y]\n",
    "\n",
    "classif_KNN = KNeighborsClassifier()\n",
    "\n",
    "scores=cross_val_score(classif_KNN,X=X,y=Y_classes,cv=cv_global)\n",
    "print(\"%0.4f (+/- %0.4f)\" % (scores.mean(), scores.std() * 2))"
   ]
  },
  {
   "cell_type": "markdown",
   "metadata": {},
   "source": [
    "## Built-in DNN"
   ]
  },
  {
   "cell_type": "code",
   "execution_count": 116,
   "metadata": {
    "ExecuteTime": {
     "end_time": "2018-02-26T13:07:07.023219Z",
     "start_time": "2018-02-26T13:07:07.020493Z"
    },
    "collapsed": true
   },
   "outputs": [],
   "source": [
    "from sklearn.neural_network import MLPClassifier"
   ]
  },
  {
   "cell_type": "code",
   "execution_count": 122,
   "metadata": {
    "ExecuteTime": {
     "end_time": "2018-02-26T13:12:54.498449Z",
     "start_time": "2018-02-26T13:12:51.361131Z"
    }
   },
   "outputs": [
    {
     "name": "stdout",
     "output_type": "stream",
     "text": [
      "0.4005 (+/- 0.1208)\n"
     ]
    }
   ],
   "source": [
    "X=data_1_deck.drop(decks_survived,axis=1)\n",
    "Y=data_1_deck[decks].as_matrix()\n",
    "Y_classes = [x.tolist().index(1) for x in Y]\n",
    "\n",
    "classif_MLPC = MLPClassifier()\n",
    "\n",
    "scores=cross_val_score(classif_MLPC,X=X,y=Y_classes,cv=cv_global)\n",
    "print(\"%0.4f (+/- %0.4f)\" % (scores.mean(), scores.std() * 2))"
   ]
  },
  {
   "cell_type": "code",
   "execution_count": 123,
   "metadata": {
    "ExecuteTime": {
     "end_time": "2018-02-26T13:13:02.903062Z",
     "start_time": "2018-02-26T13:12:59.046227Z"
    }
   },
   "outputs": [
    {
     "name": "stdout",
     "output_type": "stream",
     "text": [
      "0.3593 (+/- 0.1075)\n"
     ]
    }
   ],
   "source": [
    "X=data_2_deck.drop(decks_survived,axis=1)\n",
    "Y=data_2_deck[decks].as_matrix()\n",
    "Y_classes = [x.tolist().index(1) for x in Y]\n",
    "\n",
    "classif_MLPC = MLPClassifier()\n",
    "\n",
    "scores=cross_val_score(classif_MLPC,X=X,y=Y_classes,cv=cv_global)\n",
    "print(\"%0.4f (+/- %0.4f)\" % (scores.mean(), scores.std() * 2))"
   ]
  },
  {
   "cell_type": "code",
   "execution_count": 124,
   "metadata": {
    "ExecuteTime": {
     "end_time": "2018-02-26T13:13:02.903062Z",
     "start_time": "2018-02-26T13:12:59.046227Z"
    }
   },
   "outputs": [
    {
     "name": "stdout",
     "output_type": "stream",
     "text": [
      "0.3517 (+/- 0.1365)\n"
     ]
    }
   ],
   "source": [
    "X=data_3_deck.drop(decks_survived,axis=1)\n",
    "Y=data_3_deck[decks].as_matrix()\n",
    "Y_classes = [x.tolist().index(1) for x in Y]\n",
    "\n",
    "classif_MLPC = MLPClassifier()\n",
    "\n",
    "scores=cross_val_score(classif_MLPC,X=X,y=Y_classes,cv=cv_global)\n",
    "print(\"%0.4f (+/- %0.4f)\" % (scores.mean(), scores.std() * 2))"
   ]
  },
  {
   "cell_type": "markdown",
   "metadata": {},
   "source": [
    "## Logistic Regression"
   ]
  },
  {
   "cell_type": "code",
   "execution_count": 125,
   "metadata": {
    "ExecuteTime": {
     "end_time": "2018-02-26T13:13:49.052292Z",
     "start_time": "2018-02-26T13:13:49.049142Z"
    },
    "collapsed": true
   },
   "outputs": [],
   "source": [
    "from sklearn.linear_model import LogisticRegression"
   ]
  },
  {
   "cell_type": "code",
   "execution_count": 128,
   "metadata": {
    "ExecuteTime": {
     "end_time": "2018-02-26T13:16:23.626354Z",
     "start_time": "2018-02-26T13:16:23.523259Z"
    }
   },
   "outputs": [
    {
     "name": "stdout",
     "output_type": "stream",
     "text": [
      "0.3814 (+/- 0.1013)\n"
     ]
    }
   ],
   "source": [
    "X=data_1_deck.drop(decks_survived,axis=1)\n",
    "Y=data_1_deck[decks].as_matrix()\n",
    "Y_classes = [x.tolist().index(1) for x in Y]\n",
    "\n",
    "classif_LR = LogisticRegression()\n",
    "\n",
    "scores=cross_val_score(classif_LR,X=X,y=Y_classes,cv=cv_global)\n",
    "print(\"%0.4f (+/- %0.4f)\" % (scores.mean(), scores.std() * 2))"
   ]
  },
  {
   "cell_type": "code",
   "execution_count": 129,
   "metadata": {
    "ExecuteTime": {
     "end_time": "2018-02-26T13:16:41.350053Z",
     "start_time": "2018-02-26T13:16:41.226564Z"
    }
   },
   "outputs": [
    {
     "name": "stdout",
     "output_type": "stream",
     "text": [
      "0.3709 (+/- 0.1191)\n"
     ]
    }
   ],
   "source": [
    "X=data_2_deck.drop(decks_survived,axis=1)\n",
    "Y=data_2_deck[decks].as_matrix()\n",
    "Y_classes = [x.tolist().index(1) for x in Y]\n",
    "\n",
    "classif_LR = LogisticRegression()\n",
    "\n",
    "scores=cross_val_score(classif_LR,X=X,y=Y_classes,cv=cv_global)\n",
    "print(\"%0.4f (+/- %0.4f)\" % (scores.mean(), scores.std() * 2))"
   ]
  },
  {
   "cell_type": "code",
   "execution_count": 130,
   "metadata": {
    "ExecuteTime": {
     "end_time": "2018-02-26T13:16:41.350053Z",
     "start_time": "2018-02-26T13:16:41.226564Z"
    }
   },
   "outputs": [
    {
     "name": "stdout",
     "output_type": "stream",
     "text": [
      "0.3530 (+/- 0.1063)\n"
     ]
    }
   ],
   "source": [
    "X=data_3_deck.drop(decks_survived,axis=1)\n",
    "Y=data_3_deck[decks].as_matrix()\n",
    "Y_classes = [x.tolist().index(1) for x in Y]\n",
    "\n",
    "classif_LR = LogisticRegression()\n",
    "\n",
    "scores=cross_val_score(classif_LR,X=X,y=Y_classes,cv=cv_global)\n",
    "print(\"%0.4f (+/- %0.4f)\" % (scores.mean(), scores.std() * 2))"
   ]
  },
  {
   "cell_type": "markdown",
   "metadata": {},
   "source": [
    "## Voting"
   ]
  },
  {
   "cell_type": "code",
   "execution_count": 131,
   "metadata": {
    "ExecuteTime": {
     "end_time": "2018-02-26T13:20:40.408883Z",
     "start_time": "2018-02-26T13:20:40.405658Z"
    },
    "collapsed": true
   },
   "outputs": [],
   "source": [
    "from sklearn.ensemble import VotingClassifier"
   ]
  },
  {
   "cell_type": "code",
   "execution_count": 142,
   "metadata": {
    "ExecuteTime": {
     "end_time": "2018-02-26T13:35:58.677813Z",
     "start_time": "2018-02-26T13:35:48.361426Z"
    },
    "scrolled": true
   },
   "outputs": [
    {
     "name": "stdout",
     "output_type": "stream",
     "text": [
      "Accuracy: 0.64 (+/- 0.18) [GBC]\n",
      "Accuracy: 0.45 (+/- 0.16) [RFC]\n",
      "Accuracy: 0.36 (+/- 0.17) [KNN]\n",
      "Accuracy: 0.41 (+/- 0.12) [MLPC]\n"
     ]
    },
    {
     "name": "stderr",
     "output_type": "stream",
     "text": [
      "/usr/lib/python3.6/site-packages/sklearn/preprocessing/label.py:151: DeprecationWarning: The truth value of an empty array is ambiguous. Returning False, but in future this will result in an error. Use `array.size > 0` to check that an array is not empty.\n",
      "  if diff:\n",
      "/usr/lib/python3.6/site-packages/sklearn/preprocessing/label.py:151: DeprecationWarning: The truth value of an empty array is ambiguous. Returning False, but in future this will result in an error. Use `array.size > 0` to check that an array is not empty.\n",
      "  if diff:\n",
      "/usr/lib/python3.6/site-packages/sklearn/preprocessing/label.py:151: DeprecationWarning: The truth value of an empty array is ambiguous. Returning False, but in future this will result in an error. Use `array.size > 0` to check that an array is not empty.\n",
      "  if diff:\n",
      "/usr/lib/python3.6/site-packages/sklearn/preprocessing/label.py:151: DeprecationWarning: The truth value of an empty array is ambiguous. Returning False, but in future this will result in an error. Use `array.size > 0` to check that an array is not empty.\n",
      "  if diff:\n",
      "/usr/lib/python3.6/site-packages/sklearn/preprocessing/label.py:151: DeprecationWarning: The truth value of an empty array is ambiguous. Returning False, but in future this will result in an error. Use `array.size > 0` to check that an array is not empty.\n",
      "  if diff:\n",
      "/usr/lib/python3.6/site-packages/sklearn/preprocessing/label.py:151: DeprecationWarning: The truth value of an empty array is ambiguous. Returning False, but in future this will result in an error. Use `array.size > 0` to check that an array is not empty.\n",
      "  if diff:\n",
      "/usr/lib/python3.6/site-packages/sklearn/preprocessing/label.py:151: DeprecationWarning: The truth value of an empty array is ambiguous. Returning False, but in future this will result in an error. Use `array.size > 0` to check that an array is not empty.\n",
      "  if diff:\n"
     ]
    },
    {
     "name": "stdout",
     "output_type": "stream",
     "text": [
      "Accuracy: 0.49 (+/- 0.15) [Voting Hard]\n"
     ]
    },
    {
     "name": "stderr",
     "output_type": "stream",
     "text": [
      "/usr/lib/python3.6/site-packages/sklearn/preprocessing/label.py:151: DeprecationWarning: The truth value of an empty array is ambiguous. Returning False, but in future this will result in an error. Use `array.size > 0` to check that an array is not empty.\n",
      "  if diff:\n"
     ]
    }
   ],
   "source": [
    "X=data_1_deck.drop(decks_survived,axis=1)\n",
    "Y=data_1_deck[decks].as_matrix()\n",
    "Y_classes = [x.tolist().index(1) for x in Y]\n",
    "\n",
    "\n",
    "classif_GBC = OneVsRestClassifier(estimator=GradientBoostingClassifier())\n",
    "classif_RFC = RandomForestClassifier()\n",
    "classif_KNN = KNeighborsClassifier()\n",
    "classif_MLPC = MLPClassifier()\n",
    "classif_LR = LogisticRegression()\n",
    "\n",
    "\n",
    "# list_names=['GBC','RFC','KNN','MLPC','LR']\n",
    "# list_clf=[classif_GBC,classif_RFC,classif_KNN,classif_MLPC,classif_LR]\n",
    "\n",
    "list_names=['GBC','RFC','KNN','MLPC']\n",
    "list_clf=[classif_GBC,classif_RFC,classif_KNN,classif_MLPC]\n",
    "\n",
    "list_names_clf=list(zip(list_names,list_clf))\n",
    "\n",
    "\n",
    "clf_voting_hard=VotingClassifier(estimators=list_names_clf,\n",
    "                                 voting='hard')\n",
    "\n",
    "for clf, label in zip(list_clf+[clf_voting_hard],list_names+['Voting Hard']):\n",
    "    scores = cross_val_score(clf, X, Y_classes, cv=Y.shape[1], scoring='accuracy')\n",
    "    print(\"Accuracy: %0.2f (+/- %0.2f) [%s]\" % (scores.mean(), 2*scores.std(), label))"
   ]
  },
  {
   "cell_type": "code",
   "execution_count": 143,
   "metadata": {
    "ExecuteTime": {
     "end_time": "2018-02-26T14:11:11.841574Z",
     "start_time": "2018-02-26T14:11:11.403649Z"
    },
    "scrolled": true
   },
   "outputs": [
    {
     "name": "stdout",
     "output_type": "stream",
     "text": [
      "Accuracy: 0.68 (+/- 0.11) [GBC]\n",
      "Accuracy: 0.53 (+/- 0.14) [RFC]\n",
      "Accuracy: 0.41 (+/- 0.09) [KNN]\n",
      "Accuracy: 0.39 (+/- 0.13) [MLPC]\n"
     ]
    },
    {
     "name": "stderr",
     "output_type": "stream",
     "text": [
      "/usr/lib/python3.6/site-packages/sklearn/preprocessing/label.py:151: DeprecationWarning: The truth value of an empty array is ambiguous. Returning False, but in future this will result in an error. Use `array.size > 0` to check that an array is not empty.\n",
      "  if diff:\n",
      "/usr/lib/python3.6/site-packages/sklearn/preprocessing/label.py:151: DeprecationWarning: The truth value of an empty array is ambiguous. Returning False, but in future this will result in an error. Use `array.size > 0` to check that an array is not empty.\n",
      "  if diff:\n",
      "/usr/lib/python3.6/site-packages/sklearn/preprocessing/label.py:151: DeprecationWarning: The truth value of an empty array is ambiguous. Returning False, but in future this will result in an error. Use `array.size > 0` to check that an array is not empty.\n",
      "  if diff:\n",
      "/usr/lib/python3.6/site-packages/sklearn/preprocessing/label.py:151: DeprecationWarning: The truth value of an empty array is ambiguous. Returning False, but in future this will result in an error. Use `array.size > 0` to check that an array is not empty.\n",
      "  if diff:\n",
      "/usr/lib/python3.6/site-packages/sklearn/preprocessing/label.py:151: DeprecationWarning: The truth value of an empty array is ambiguous. Returning False, but in future this will result in an error. Use `array.size > 0` to check that an array is not empty.\n",
      "  if diff:\n",
      "/usr/lib/python3.6/site-packages/sklearn/preprocessing/label.py:151: DeprecationWarning: The truth value of an empty array is ambiguous. Returning False, but in future this will result in an error. Use `array.size > 0` to check that an array is not empty.\n",
      "  if diff:\n",
      "/usr/lib/python3.6/site-packages/sklearn/preprocessing/label.py:151: DeprecationWarning: The truth value of an empty array is ambiguous. Returning False, but in future this will result in an error. Use `array.size > 0` to check that an array is not empty.\n",
      "  if diff:\n"
     ]
    },
    {
     "name": "stdout",
     "output_type": "stream",
     "text": [
      "Accuracy: 0.54 (+/- 0.16) [Voting Hard]\n"
     ]
    },
    {
     "name": "stderr",
     "output_type": "stream",
     "text": [
      "/usr/lib/python3.6/site-packages/sklearn/preprocessing/label.py:151: DeprecationWarning: The truth value of an empty array is ambiguous. Returning False, but in future this will result in an error. Use `array.size > 0` to check that an array is not empty.\n",
      "  if diff:\n"
     ]
    }
   ],
   "source": [
    "X=data_2_deck.drop(decks_survived,axis=1)\n",
    "Y=data_2_deck[decks].as_matrix()\n",
    "Y_classes = [x.tolist().index(1) for x in Y]\n",
    "\n",
    "\n",
    "classif_GBC = OneVsRestClassifier(estimator=GradientBoostingClassifier())\n",
    "classif_RFC = RandomForestClassifier()\n",
    "classif_KNN = KNeighborsClassifier()\n",
    "classif_MLPC = MLPClassifier()\n",
    "classif_LR = LogisticRegression()\n",
    "\n",
    "\n",
    "# list_names=['GBC','RFC','KNN','MLPC','LR']\n",
    "# list_clf=[classif_GBC,classif_RFC,classif_KNN,classif_MLPC,classif_LR]\n",
    "\n",
    "list_names=['GBC','RFC','KNN','MLPC']\n",
    "list_clf=[classif_GBC,classif_RFC,classif_KNN,classif_MLPC]\n",
    "\n",
    "list_names_clf=list(zip(list_names,list_clf))\n",
    "\n",
    "\n",
    "clf_voting_hard=VotingClassifier(estimators=list_names_clf,\n",
    "                                 voting='hard')\n",
    "\n",
    "for clf, label in zip(list_clf+[clf_voting_hard],list_names+['Voting Hard']):\n",
    "    scores = cross_val_score(clf, X, Y_classes, cv=Y.shape[1], scoring='accuracy')\n",
    "    print(\"Accuracy: %0.2f (+/- %0.2f) [%s]\" % (scores.mean(), 2*scores.std(), label))"
   ]
  },
  {
   "cell_type": "code",
   "execution_count": 144,
   "metadata": {
    "ExecuteTime": {
     "end_time": "2018-02-26T14:11:11.841574Z",
     "start_time": "2018-02-26T14:11:11.403649Z"
    },
    "scrolled": true
   },
   "outputs": [
    {
     "name": "stdout",
     "output_type": "stream",
     "text": [
      "Accuracy: 0.69 (+/- 0.14) [GBC]\n",
      "Accuracy: 0.45 (+/- 0.18) [RFC]\n",
      "Accuracy: 0.34 (+/- 0.13) [KNN]\n",
      "Accuracy: 0.38 (+/- 0.11) [MLPC]\n"
     ]
    },
    {
     "name": "stderr",
     "output_type": "stream",
     "text": [
      "/usr/lib/python3.6/site-packages/sklearn/preprocessing/label.py:151: DeprecationWarning: The truth value of an empty array is ambiguous. Returning False, but in future this will result in an error. Use `array.size > 0` to check that an array is not empty.\n",
      "  if diff:\n",
      "/usr/lib/python3.6/site-packages/sklearn/preprocessing/label.py:151: DeprecationWarning: The truth value of an empty array is ambiguous. Returning False, but in future this will result in an error. Use `array.size > 0` to check that an array is not empty.\n",
      "  if diff:\n",
      "/usr/lib/python3.6/site-packages/sklearn/preprocessing/label.py:151: DeprecationWarning: The truth value of an empty array is ambiguous. Returning False, but in future this will result in an error. Use `array.size > 0` to check that an array is not empty.\n",
      "  if diff:\n",
      "/usr/lib/python3.6/site-packages/sklearn/preprocessing/label.py:151: DeprecationWarning: The truth value of an empty array is ambiguous. Returning False, but in future this will result in an error. Use `array.size > 0` to check that an array is not empty.\n",
      "  if diff:\n",
      "/usr/lib/python3.6/site-packages/sklearn/preprocessing/label.py:151: DeprecationWarning: The truth value of an empty array is ambiguous. Returning False, but in future this will result in an error. Use `array.size > 0` to check that an array is not empty.\n",
      "  if diff:\n",
      "/usr/lib/python3.6/site-packages/sklearn/preprocessing/label.py:151: DeprecationWarning: The truth value of an empty array is ambiguous. Returning False, but in future this will result in an error. Use `array.size > 0` to check that an array is not empty.\n",
      "  if diff:\n",
      "/usr/lib/python3.6/site-packages/sklearn/preprocessing/label.py:151: DeprecationWarning: The truth value of an empty array is ambiguous. Returning False, but in future this will result in an error. Use `array.size > 0` to check that an array is not empty.\n",
      "  if diff:\n"
     ]
    },
    {
     "name": "stdout",
     "output_type": "stream",
     "text": [
      "Accuracy: 0.50 (+/- 0.06) [Voting Hard]\n"
     ]
    },
    {
     "name": "stderr",
     "output_type": "stream",
     "text": [
      "/usr/lib/python3.6/site-packages/sklearn/preprocessing/label.py:151: DeprecationWarning: The truth value of an empty array is ambiguous. Returning False, but in future this will result in an error. Use `array.size > 0` to check that an array is not empty.\n",
      "  if diff:\n"
     ]
    }
   ],
   "source": [
    "X=data_3_deck.drop(decks_survived,axis=1)\n",
    "Y=data_3_deck[decks].as_matrix()\n",
    "Y_classes = [x.tolist().index(1) for x in Y]\n",
    "\n",
    "\n",
    "classif_GBC = OneVsRestClassifier(estimator=GradientBoostingClassifier())\n",
    "classif_RFC = RandomForestClassifier()\n",
    "classif_KNN = KNeighborsClassifier()\n",
    "classif_MLPC = MLPClassifier()\n",
    "classif_LR = LogisticRegression()\n",
    "\n",
    "\n",
    "# list_names=['GBC','RFC','KNN','MLPC','LR']\n",
    "# list_clf=[classif_GBC,classif_RFC,classif_KNN,classif_MLPC,classif_LR]\n",
    "\n",
    "list_names=['GBC','RFC','KNN','MLPC']\n",
    "list_clf=[classif_GBC,classif_RFC,classif_KNN,classif_MLPC]\n",
    "\n",
    "list_names_clf=list(zip(list_names,list_clf))\n",
    "\n",
    "\n",
    "clf_voting_hard=VotingClassifier(estimators=list_names_clf,\n",
    "                                 voting='hard')\n",
    "\n",
    "for clf, label in zip(list_clf+[clf_voting_hard],list_names+['Voting Hard']):\n",
    "    scores = cross_val_score(clf, X, Y_classes, cv=Y.shape[1], scoring='accuracy')\n",
    "    print(\"Accuracy: %0.2f (+/- %0.2f) [%s]\" % (scores.mean(), 2*scores.std(), label))"
   ]
  },
  {
   "cell_type": "markdown",
   "metadata": {},
   "source": [
    "## Predicting Deck"
   ]
  },
  {
   "cell_type": "code",
   "execution_count": 151,
   "metadata": {
    "ExecuteTime": {
     "end_time": "2018-02-26T14:11:09.384140Z",
     "start_time": "2018-02-26T14:11:08.968665Z"
    }
   },
   "outputs": [],
   "source": [
    "X=data_1_deck.drop(decks_survived,axis=1)\n",
    "Y=data_1_deck[decks].as_matrix()\n",
    "Y_classes = [x.tolist().index(1) for x in Y]\n",
    "\n",
    "classif_GBC = OneVsRestClassifier(estimator=GradientBoostingClassifier())\n",
    "\n",
    "classif_GBC.fit(X,Y_classes)\n",
    "\n",
    "predicteddeck_df=pd.DataFrame(classif_GBC.predict(data_1_nodeck.drop(decks_survived,axis=1)),index=data_1_nodeck.index,columns=['PredictedDeck'])\n",
    "predicteddeck_df['deck']=predicteddeck_df.astype(str).replace(deck_keys_from_int)\n",
    "\n",
    "data_1_nodeck_rep=data_1_nodeck.drop(decks,axis=1).drop('Missing_Deck',axis=1).copy()\n",
    "data_1_deck_rep=data_1_deck.drop(decks,axis=1).drop('Missing_Deck',axis=1).copy()\n",
    "data_1_nodeck_rep['deck']=predicteddeck_df['deck']\n",
    "\n",
    "data_1_decks_pred=pd.concat([data_1_deck_rep,data_1_nodeck_rep]).sort_index()\n",
    "\n",
    "deck_dummies=pd.get_dummies(data_1_decks_pred['deck'],drop_first=False)\n",
    "\n",
    "data_1_decks_pred=pd.concat([data_1_decks_pred,deck_dummies],axis=1).drop('deck',axis=1)\n",
    "\n",
    "train_1_deck_pred=data_1_decks_pred[data_1_decks_pred['Survived']<2]\n",
    "test_1_deck_pred=data_1_decks_pred[data_1_decks_pred['Survived']==2].drop('Survived',axis=1)\n",
    "\n",
    "# train_1_deck_pred.to_csv(\"./data_train_deck_pred_1.csv\")#Train\n",
    "# test_1_deck_pred.to_csv(\"./data_test_deck_pred_1.csv\")#Test"
   ]
  },
  {
   "cell_type": "code",
   "execution_count": 152,
   "metadata": {
    "ExecuteTime": {
     "end_time": "2018-02-26T14:11:10.517850Z",
     "start_time": "2018-02-26T14:11:10.098236Z"
    },
    "collapsed": true
   },
   "outputs": [],
   "source": [
    "X=data_2_deck.drop(decks_survived,axis=1)\n",
    "Y=data_2_deck[decks].as_matrix()\n",
    "Y_classes = [x.tolist().index(1) for x in Y]\n",
    "\n",
    "classif_GBC = OneVsRestClassifier(estimator=GradientBoostingClassifier())\n",
    "\n",
    "classif_GBC.fit(X,Y_classes)\n",
    "\n",
    "predicteddeck_df=pd.DataFrame(classif_GBC.predict(data_2_nodeck.drop(decks_survived,axis=1)),index=data_2_nodeck.index,columns=['PredictedDeck'])\n",
    "predicteddeck_df['deck']=predicteddeck_df.astype(str).replace(deck_keys_from_int)\n",
    "\n",
    "data_2_nodeck_rep=data_2_nodeck.drop(decks,axis=1).drop('Missing_Deck',axis=1).copy()\n",
    "data_2_deck_rep=data_2_deck.drop(decks,axis=1).drop('Missing_Deck',axis=1).copy()\n",
    "data_2_nodeck_rep['deck']=predicteddeck_df['deck']\n",
    "\n",
    "data_2_decks_pred=pd.concat([data_2_deck_rep,data_2_nodeck_rep]).sort_index()\n",
    "\n",
    "deck_dummies=pd.get_dummies(data_2_decks_pred['deck'],drop_first=False)\n",
    "\n",
    "data_2_decks_pred=pd.concat([data_2_decks_pred,deck_dummies],axis=1).drop('deck',axis=1)\n",
    "\n",
    "train_2_deck_pred=data_2_decks_pred[data_2_decks_pred['Survived']<2]\n",
    "test_2_deck_pred=data_2_decks_pred[data_2_decks_pred['Survived']==2].drop('Survived',axis=1)\n",
    "\n",
    "# train_2_deck_pred.to_csv(\"./data_train_deck_pred_2.csv\")#Train\n",
    "# test_2_deck_pred.to_csv(\"./data_test_deck_pred_2.csv\")#Test"
   ]
  },
  {
   "cell_type": "code",
   "execution_count": 153,
   "metadata": {
    "ExecuteTime": {
     "end_time": "2018-02-26T14:11:11.841574Z",
     "start_time": "2018-02-26T14:11:11.403649Z"
    },
    "scrolled": true
   },
   "outputs": [],
   "source": [
    "X=data_3_deck.drop(decks_survived,axis=1)\n",
    "Y=data_3_deck[decks].as_matrix()\n",
    "Y_classes = [x.tolist().index(1) for x in Y]\n",
    "\n",
    "classif_GBC = OneVsRestClassifier(estimator=GradientBoostingClassifier())\n",
    "\n",
    "classif_GBC.fit(X,Y_classes)\n",
    "\n",
    "predicteddeck_df=pd.DataFrame(classif_GBC.predict(data_3_nodeck.drop(decks_survived,axis=1)),index=data_3_nodeck.index,columns=['PredictedDeck'])\n",
    "predicteddeck_df['deck']=predicteddeck_df.astype(str).replace(deck_keys_from_int)\n",
    "\n",
    "data_3_nodeck_rep=data_3_nodeck.drop(decks,axis=1).drop('Missing_Deck',axis=1).copy()\n",
    "data_3_deck_rep=data_3_deck.drop(decks,axis=1).drop('Missing_Deck',axis=1).copy()\n",
    "data_3_nodeck_rep['deck']=predicteddeck_df['deck']\n",
    "\n",
    "data_3_decks_pred=pd.concat([data_3_deck_rep,data_3_nodeck_rep]).sort_index()\n",
    "\n",
    "deck_dummies=pd.get_dummies(data_3_decks_pred['deck'],drop_first=False)\n",
    "\n",
    "data_3_decks_pred=pd.concat([data_3_decks_pred,deck_dummies],axis=1).drop('deck',axis=1)\n",
    "\n",
    "train_3_deck_pred=data_3_decks_pred[data_3_decks_pred['Survived']<2]\n",
    "test_3_deck_pred=data_3_decks_pred[data_3_decks_pred['Survived']==2].drop('Survived',axis=1)\n",
    "\n",
    "# train_3_deck_pred.to_csv(\"./data_train_deck_pred_3.csv\")#Train\n",
    "# test_3_deck_pred.to_csv(\"./data_test_deck_pred_3.csv\")#Test"
   ]
  },
  {
   "cell_type": "code",
   "execution_count": null,
   "metadata": {
    "collapsed": true
   },
   "outputs": [],
   "source": []
  }
 ],
 "metadata": {
  "kernelspec": {
   "display_name": "Python 3",
   "language": "python",
   "name": "python3"
  },
  "language_info": {
   "codemirror_mode": {
    "name": "ipython",
    "version": 3
   },
   "file_extension": ".py",
   "mimetype": "text/x-python",
   "name": "python",
   "nbconvert_exporter": "python",
   "pygments_lexer": "ipython3",
   "version": "3.6.4"
  },
  "toc": {
   "nav_menu": {},
   "number_sections": true,
   "sideBar": true,
   "skip_h1_title": false,
   "title_cell": "Table of Contents",
   "title_sidebar": "Contents",
   "toc_cell": false,
   "toc_position": {},
   "toc_section_display": true,
   "toc_window_display": false
  },
  "varInspector": {
   "cols": {
    "lenName": 16,
    "lenType": 16,
    "lenVar": 40
   },
   "kernels_config": {
    "python": {
     "delete_cmd_postfix": "",
     "delete_cmd_prefix": "del ",
     "library": "var_list.py",
     "varRefreshCmd": "print(var_dic_list())"
    },
    "r": {
     "delete_cmd_postfix": ") ",
     "delete_cmd_prefix": "rm(",
     "library": "var_list.r",
     "varRefreshCmd": "cat(var_dic_list()) "
    }
   },
   "types_to_exclude": [
    "module",
    "function",
    "builtin_function_or_method",
    "instance",
    "_Feature"
   ],
   "window_display": false
  }
 },
 "nbformat": 4,
 "nbformat_minor": 2
}
