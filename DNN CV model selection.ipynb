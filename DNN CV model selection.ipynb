{
 "cells": [
  {
   "cell_type": "markdown",
   "metadata": {},
   "source": [
    "# Packages and Data Imports"
   ]
  },
  {
   "cell_type": "code",
   "execution_count": 1,
   "metadata": {
    "ExecuteTime": {
     "end_time": "2018-03-04T17:19:13.915694Z",
     "start_time": "2018-03-04T17:19:12.737614Z"
    },
    "scrolled": false
   },
   "outputs": [
    {
     "name": "stderr",
     "output_type": "stream",
     "text": [
      "Using TensorFlow backend.\n"
     ]
    }
   ],
   "source": [
    "import warnings\n",
    "warnings.filterwarnings('ignore')\n",
    "\n",
    "import pandas as pd\n",
    "import numpy as np\n",
    "# import matplotlib.pyplot as plt\n",
    "# import seaborn as sns\n",
    "# %matplotlib inline\n",
    "\n",
    "#Stats and other tools\n",
    "from sklearn import metrics\n",
    "from sklearn.model_selection import GridSearchCV\n",
    "#from sklearn.metrics import classification_report,confusion_matrix, precision_score, recall_score, accuracy_score, f1_score\n",
    "#from sklearn.preprocessing import StandardScaler, PolynomialFeatures\n",
    "#import scipy.stats as stats\n",
    "#from scipy.stats import uniform\n",
    "#from scipy.stats import randint as sp_randint\n",
    "#from sklearn.pipeline import Pipeline\n",
    "\n",
    "\n",
    "#Models we will test and try\n",
    "from sklearn.neural_network import MLPClassifier\n",
    "\n",
    "#from keras import models\n",
    "from keras.wrappers.scikit_learn import KerasClassifier\n",
    "from keras.models import Sequential\n",
    "from keras.layers import Dense, Dropout\n",
    "#from keras import regularizers\n",
    "from keras import backend as K\n",
    "\n",
    "cv_k_global = 5 #the amount of f_folds to be used in all CV\n",
    "\n",
    "datasets=['1','2','deck_pred_1','deck_pred_2']"
   ]
  },
  {
   "cell_type": "markdown",
   "metadata": {},
   "source": [
    "# DNN in Keras"
   ]
  },
  {
   "cell_type": "code",
   "execution_count": 2,
   "metadata": {
    "ExecuteTime": {
     "end_time": "2018-03-04T17:19:13.938844Z",
     "start_time": "2018-03-04T17:19:13.917209Z"
    }
   },
   "outputs": [],
   "source": [
    "def my_DNN_classifier(in_layer,optimizer='adam',neurons=64,dropout=0.1,activation='relu',activation_final='sigmoid',shape='one'):\n",
    "    K.clear_session()\n",
    "    model=None\n",
    "    model = Sequential()\n",
    "    model.add(Dense(neurons, input_dim=in_layer, kernel_initializer='normal',activation=activation))\n",
    "    model.add(Dropout(dropout))\n",
    "    if(shape=='none'):\n",
    "        None\n",
    "    if(shape=='one'):\n",
    "        model.add(Dense(neurons, kernel_initializer='normal',activation=activation))\n",
    "        model.add(Dropout(dropout))\n",
    "    if(shape=='two'):\n",
    "        model.add(Dense(neurons, kernel_initializer='normal',activation=activation))\n",
    "        model.add(Dropout(dropout))\n",
    "        model.add(Dense(neurons, kernel_initializer='normal',activation=activation))\n",
    "        model.add(Dropout(dropout))\n",
    "    model.add(Dense(1, kernel_initializer='normal', activation=activation_final))\n",
    "    model.compile(loss='binary_crossentropy', metrics=['accuracy'],optimizer=optimizer)\n",
    "    return model"
   ]
  },
  {
   "cell_type": "code",
   "execution_count": 3,
   "metadata": {
    "ExecuteTime": {
     "end_time": "2018-03-04T18:17:02.295664Z",
     "start_time": "2018-03-04T17:19:13.940309Z"
    },
    "scrolled": true
   },
   "outputs": [
    {
     "name": "stdout",
     "output_type": "stream",
     "text": [
      "Grid-Searching for Data-Set deck_pred_2\n",
      "Fitting 5 folds for each of 990 candidates, totalling 4950 fits\n"
     ]
    },
    {
     "name": "stderr",
     "output_type": "stream",
     "text": [
      "[Parallel(n_jobs=-1)]: Done  18 tasks      | elapsed:   13.4s\n",
      "[Parallel(n_jobs=-1)]: Done 168 tasks      | elapsed:  1.6min\n",
      "[Parallel(n_jobs=-1)]: Done 418 tasks      | elapsed:  4.6min\n",
      "[Parallel(n_jobs=-1)]: Done 768 tasks      | elapsed:  8.8min\n",
      "[Parallel(n_jobs=-1)]: Done 1218 tasks      | elapsed: 14.3min\n",
      "[Parallel(n_jobs=-1)]: Done 1768 tasks      | elapsed: 20.1min\n",
      "[Parallel(n_jobs=-1)]: Done 2418 tasks      | elapsed: 27.9min\n",
      "[Parallel(n_jobs=-1)]: Done 3168 tasks      | elapsed: 37.1min\n",
      "[Parallel(n_jobs=-1)]: Done 4018 tasks      | elapsed: 46.5min\n",
      "[Parallel(n_jobs=-1)]: Done 4950 out of 4950 | elapsed: 57.7min finished\n"
     ]
    }
   ],
   "source": [
    "for dataset in ['deck_pred_2']:#datasets\n",
    "    print('Grid-Searching for Data-Set '+dataset)\n",
    "    if('deck_pred' not in dataset):\n",
    "        data=pd.read_csv('./data_train_'+dataset+'.csv',index_col='PassengerId').drop(['Missing_Embark','Missing_Deck'],axis=1)\n",
    "    if('deck_pred' in dataset):\n",
    "        data=pd.read_csv('./data_train_'+dataset+'.csv',index_col='PassengerId').drop(['Missing_Embark'],axis=1)\n",
    "    X=data.drop('Survived',axis=1).as_matrix()\n",
    "    Y=data['Survived'].as_matrix()\n",
    "    K.clear_session()\n",
    "    classifier = None\n",
    "    classifier = KerasClassifier(build_fn=my_DNN_classifier,verbose=0,batch_size=1024,in_layer=X.shape[1])\n",
    "    param_grid ={\n",
    "        'epochs': [1000],\n",
    "        'optimizer': ['adam','adagrad','rmsprop','adadelta','nadam'],\n",
    "        'dropout' : np.linspace(0,1,11),\n",
    "        'neurons' : [16,32],\n",
    "        'activation' : ['relu','sigmoid','tanh'],\n",
    "        #'activation_final' : ['relu','sigmoid','tanh'],\n",
    "        'shape':['none','one','two']\n",
    "    }\n",
    "    gscv=GridSearchCV(estimator=classifier,param_grid=param_grid,scoring='accuracy',cv=cv_k_global,verbose=1,n_jobs=-1)\n",
    "    gscv.fit(X,Y)\n",
    "    results_df=pd.DataFrame(gscv.cv_results_)\n",
    "    results_df.to_csv('./CV_DNN_'+dataset+'.csv')\n",
    "    del classifier\n",
    "    K.clear_session()"
   ]
  },
  {
   "cell_type": "markdown",
   "metadata": {},
   "source": [
    "# DNN in SciKit Learn (MLPClassifier)"
   ]
  },
  {
   "cell_type": "code",
   "execution_count": 4,
   "metadata": {
    "ExecuteTime": {
     "end_time": "2018-03-04T20:41:48.281901Z",
     "start_time": "2018-03-04T18:17:02.297577Z"
    }
   },
   "outputs": [
    {
     "name": "stdout",
     "output_type": "stream",
     "text": [
      "Grid-Searching for Data-Set 1\n",
      "Fitting 5 folds for each of 960 candidates, totalling 4800 fits\n"
     ]
    },
    {
     "name": "stderr",
     "output_type": "stream",
     "text": [
      "[Parallel(n_jobs=-1)]: Done  18 tasks      | elapsed:    1.1s\n",
      "[Parallel(n_jobs=-1)]: Done 168 tasks      | elapsed:   20.5s\n",
      "[Parallel(n_jobs=-1)]: Done 418 tasks      | elapsed:  2.1min\n",
      "[Parallel(n_jobs=-1)]: Done 768 tasks      | elapsed:  4.0min\n",
      "[Parallel(n_jobs=-1)]: Done 1218 tasks      | elapsed:  6.5min\n",
      "[Parallel(n_jobs=-1)]: Done 1768 tasks      | elapsed:  9.6min\n",
      "[Parallel(n_jobs=-1)]: Done 2418 tasks      | elapsed: 16.8min\n",
      "[Parallel(n_jobs=-1)]: Done 3168 tasks      | elapsed: 24.4min\n",
      "[Parallel(n_jobs=-1)]: Done 4018 tasks      | elapsed: 32.1min\n",
      "[Parallel(n_jobs=-1)]: Done 4800 out of 4800 | elapsed: 39.3min finished\n"
     ]
    },
    {
     "name": "stdout",
     "output_type": "stream",
     "text": [
      "Grid-Searching for Data-Set 2\n",
      "Fitting 5 folds for each of 960 candidates, totalling 4800 fits\n"
     ]
    },
    {
     "name": "stderr",
     "output_type": "stream",
     "text": [
      "[Parallel(n_jobs=-1)]: Done  18 tasks      | elapsed:    1.2s\n",
      "[Parallel(n_jobs=-1)]: Done 168 tasks      | elapsed:   19.1s\n",
      "[Parallel(n_jobs=-1)]: Done 418 tasks      | elapsed:  1.9min\n",
      "[Parallel(n_jobs=-1)]: Done 768 tasks      | elapsed:  3.6min\n",
      "[Parallel(n_jobs=-1)]: Done 1218 tasks      | elapsed:  6.0min\n",
      "[Parallel(n_jobs=-1)]: Done 1768 tasks      | elapsed:  8.7min\n",
      "[Parallel(n_jobs=-1)]: Done 2418 tasks      | elapsed: 15.3min\n",
      "[Parallel(n_jobs=-1)]: Done 3168 tasks      | elapsed: 22.1min\n",
      "[Parallel(n_jobs=-1)]: Done 4018 tasks      | elapsed: 29.1min\n",
      "[Parallel(n_jobs=-1)]: Done 4800 out of 4800 | elapsed: 35.9min finished\n"
     ]
    },
    {
     "name": "stdout",
     "output_type": "stream",
     "text": [
      "Grid-Searching for Data-Set deck_pred_1\n",
      "Fitting 5 folds for each of 960 candidates, totalling 4800 fits\n"
     ]
    },
    {
     "name": "stderr",
     "output_type": "stream",
     "text": [
      "[Parallel(n_jobs=-1)]: Done  18 tasks      | elapsed:    1.2s\n",
      "[Parallel(n_jobs=-1)]: Done 168 tasks      | elapsed:   16.6s\n",
      "[Parallel(n_jobs=-1)]: Done 418 tasks      | elapsed:  1.7min\n",
      "[Parallel(n_jobs=-1)]: Done 768 tasks      | elapsed:  3.3min\n",
      "[Parallel(n_jobs=-1)]: Done 1218 tasks      | elapsed:  5.4min\n",
      "[Parallel(n_jobs=-1)]: Done 1768 tasks      | elapsed:  7.9min\n",
      "[Parallel(n_jobs=-1)]: Done 2418 tasks      | elapsed: 14.1min\n",
      "[Parallel(n_jobs=-1)]: Done 3168 tasks      | elapsed: 20.4min\n",
      "[Parallel(n_jobs=-1)]: Done 4018 tasks      | elapsed: 27.1min\n",
      "[Parallel(n_jobs=-1)]: Done 4800 out of 4800 | elapsed: 33.5min finished\n"
     ]
    },
    {
     "name": "stdout",
     "output_type": "stream",
     "text": [
      "Grid-Searching for Data-Set deck_pred_2\n",
      "Fitting 5 folds for each of 960 candidates, totalling 4800 fits\n"
     ]
    },
    {
     "name": "stderr",
     "output_type": "stream",
     "text": [
      "[Parallel(n_jobs=-1)]: Done  18 tasks      | elapsed:    1.4s\n",
      "[Parallel(n_jobs=-1)]: Done 168 tasks      | elapsed:   18.5s\n",
      "[Parallel(n_jobs=-1)]: Done 418 tasks      | elapsed:  1.9min\n",
      "[Parallel(n_jobs=-1)]: Done 768 tasks      | elapsed:  3.6min\n",
      "[Parallel(n_jobs=-1)]: Done 1218 tasks      | elapsed:  6.0min\n",
      "[Parallel(n_jobs=-1)]: Done 1768 tasks      | elapsed:  8.7min\n",
      "[Parallel(n_jobs=-1)]: Done 2418 tasks      | elapsed: 15.4min\n",
      "[Parallel(n_jobs=-1)]: Done 3168 tasks      | elapsed: 22.2min\n",
      "[Parallel(n_jobs=-1)]: Done 4018 tasks      | elapsed: 29.2min\n",
      "[Parallel(n_jobs=-1)]: Done 4800 out of 4800 | elapsed: 36.0min finished\n"
     ]
    }
   ],
   "source": [
    "for dataset in datasets:\n",
    "    print('Grid-Searching for Data-Set '+dataset)\n",
    "    if('deck_pred' not in dataset):\n",
    "        data=pd.read_csv('./data_train_'+dataset+'.csv',index_col='PassengerId').drop(['Missing_Embark','Missing_Deck'],axis=1)\n",
    "    if('deck_pred' in dataset):\n",
    "        data=pd.read_csv('./data_train_'+dataset+'.csv',index_col='PassengerId').drop(['Missing_Embark'],axis=1)\n",
    "    X=data.drop('Survived',axis=1).as_matrix()\n",
    "    Y=data['Survived'].as_matrix()\n",
    "    MLP_class = MLPClassifier(max_iter=1000)\n",
    "    param_grid ={\n",
    "        'hidden_layer_sizes': [(8*x,)*y for x in range(1,11) for y in range(1,5)],\n",
    "        'activation':['logistic', 'tanh', 'relu'],\n",
    "        'solver':['lbfgs','adam'],\n",
    "        'alpha':[10**x for x in range(-4,0)],\n",
    "    }\n",
    "    gscv=GridSearchCV(MLP_class,param_grid,scoring='accuracy',cv=cv_k_global,verbose=1,n_jobs=-1)\n",
    "    gscv.fit(X,Y)\n",
    "    results_df=pd.DataFrame(gscv.cv_results_)\n",
    "    results_df.to_csv('./CV_MLP_'+dataset+'.csv')"
   ]
  },
  {
   "cell_type": "code",
   "execution_count": null,
   "metadata": {},
   "outputs": [],
   "source": []
  }
 ],
 "metadata": {
  "kernelspec": {
   "display_name": "Python 3",
   "language": "python",
   "name": "python3"
  },
  "language_info": {
   "codemirror_mode": {
    "name": "ipython",
    "version": 3
   },
   "file_extension": ".py",
   "mimetype": "text/x-python",
   "name": "python",
   "nbconvert_exporter": "python",
   "pygments_lexer": "ipython3",
   "version": "3.6.4"
  },
  "notify_time": "5",
  "toc": {
   "nav_menu": {
    "height": "317px",
    "width": "342px"
   },
   "number_sections": true,
   "sideBar": true,
   "skip_h1_title": false,
   "title_cell": "Table of Contents",
   "title_sidebar": "Contents",
   "toc_cell": false,
   "toc_position": {
    "height": "48px",
    "left": "29px",
    "top": "131.133px",
    "width": "212px"
   },
   "toc_section_display": true,
   "toc_window_display": true
  },
  "varInspector": {
   "cols": {
    "lenName": 16,
    "lenType": 16,
    "lenVar": 40
   },
   "kernels_config": {
    "python": {
     "delete_cmd_postfix": "",
     "delete_cmd_prefix": "del ",
     "library": "var_list.py",
     "varRefreshCmd": "print(var_dic_list())"
    },
    "r": {
     "delete_cmd_postfix": ") ",
     "delete_cmd_prefix": "rm(",
     "library": "var_list.r",
     "varRefreshCmd": "cat(var_dic_list()) "
    }
   },
   "position": {
    "height": "452px",
    "left": "655px",
    "right": "127px",
    "top": "153px",
    "width": "478px"
   },
   "types_to_exclude": [
    "module",
    "function",
    "builtin_function_or_method",
    "instance",
    "_Feature"
   ],
   "window_display": false
  }
 },
 "nbformat": 4,
 "nbformat_minor": 2
}
